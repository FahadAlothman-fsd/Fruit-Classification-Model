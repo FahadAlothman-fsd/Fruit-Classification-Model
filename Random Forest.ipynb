{
 "cells": [
  {
   "cell_type": "code",
   "execution_count": 1,
   "id": "bdb82d4c",
   "metadata": {},
   "outputs": [],
   "source": [
    "from sklearn.model_selection import train_test_split\n",
    "from sklearn.metrics import accuracy_score\n",
    "from sklearn.pipeline import make_pipeline\n",
    "from sklearn.preprocessing import StandardScaler\n",
    "import pandas as pd\n",
    "import numpy as np"
   ]
  },
  {
   "cell_type": "code",
   "execution_count": 2,
   "id": "69e5493b",
   "metadata": {},
   "outputs": [],
   "source": [
    "training_set = pd.read_csv('processed_data/training_set.csv')\n",
    "testing_set = pd.read_csv('processed_data/testing_set.csv')"
   ]
  },
  {
   "cell_type": "code",
   "execution_count": 3,
   "id": "301a6408",
   "metadata": {
    "scrolled": true
   },
   "outputs": [
    {
     "name": "stdout",
     "output_type": "stream",
     "text": [
      "<class 'pandas.core.frame.DataFrame'>\n",
      "RangeIndex: 6417 entries, 0 to 6416\n",
      "Data columns (total 49 columns):\n",
      " #   Column  Non-Null Count  Dtype  \n",
      "---  ------  --------------  -----  \n",
      " 0    FC11   6417 non-null   float64\n",
      " 1    FC12   6417 non-null   float64\n",
      " 2    FC13   6417 non-null   float64\n",
      " 3    FC14   6417 non-null   float64\n",
      " 4    CA21   6417 non-null   float64\n",
      " 5    CA22   6417 non-null   float64\n",
      " 6    CA23   6417 non-null   float64\n",
      " 7    CA24   6417 non-null   float64\n",
      " 8    CA25   6417 non-null   float64\n",
      " 9    CA26   6417 non-null   float64\n",
      " 10   CA30   6417 non-null   float64\n",
      " 11   CA31   6417 non-null   float64\n",
      " 12   CA32   6417 non-null   float64\n",
      " 13   CA33   6417 non-null   float64\n",
      " 14   CA34   6417 non-null   float64\n",
      " 15   CA36   6417 non-null   float64\n",
      " 16   CA37   6417 non-null   float64\n",
      " 17   CA38   6417 non-null   float64\n",
      " 18   CA39   6417 non-null   float64\n",
      " 19   CA40   6417 non-null   float64\n",
      " 20   CA41   6417 non-null   float64\n",
      " 21   CA42   6417 non-null   float64\n",
      " 22   CA43   6417 non-null   float64\n",
      " 23   CA44   6417 non-null   float64\n",
      " 24   CA46   6417 non-null   float64\n",
      " 25   CA48   6417 non-null   float64\n",
      " 26   CA49   6417 non-null   float64\n",
      " 27   CA50   6417 non-null   float64\n",
      " 28   CA51   6417 non-null   float64\n",
      " 29   CA52   6417 non-null   float64\n",
      " 30   CA53   6417 non-null   float64\n",
      " 31   CA54   6417 non-null   float64\n",
      " 32   CA55   6417 non-null   float64\n",
      " 33   CA58   6417 non-null   float64\n",
      " 34   CA59   6417 non-null   float64\n",
      " 35   CA60   6417 non-null   float64\n",
      " 36  X1      6417 non-null   float64\n",
      " 37  X2      6417 non-null   float64\n",
      " 38  X3      6417 non-null   float64\n",
      " 39  X4      6417 non-null   float64\n",
      " 40  X5      6417 non-null   float64\n",
      " 41  X6      6417 non-null   float64\n",
      " 42  X7      6417 non-null   float64\n",
      " 43  X8      6417 non-null   float64\n",
      " 44  X9      6417 non-null   float64\n",
      " 45  X10     6417 non-null   float64\n",
      " 46  X11     6417 non-null   float64\n",
      " 47  X12     6417 non-null   float64\n",
      " 48  Y       6417 non-null   object \n",
      "dtypes: float64(48), object(1)\n",
      "memory usage: 2.4+ MB\n"
     ]
    }
   ],
   "source": [
    "training_set.info()"
   ]
  },
  {
   "cell_type": "code",
   "execution_count": 4,
   "id": "aeac49ba",
   "metadata": {},
   "outputs": [
    {
     "name": "stdout",
     "output_type": "stream",
     "text": [
      "<class 'pandas.core.frame.DataFrame'>\n",
      "RangeIndex: 957 entries, 0 to 956\n",
      "Data columns (total 49 columns):\n",
      " #   Column  Non-Null Count  Dtype  \n",
      "---  ------  --------------  -----  \n",
      " 0    FC11   957 non-null    float64\n",
      " 1    FC12   957 non-null    float64\n",
      " 2    FC13   957 non-null    float64\n",
      " 3    FC14   957 non-null    float64\n",
      " 4    CA21   957 non-null    float64\n",
      " 5    CA22   957 non-null    float64\n",
      " 6    CA23   957 non-null    float64\n",
      " 7    CA24   957 non-null    float64\n",
      " 8    CA25   957 non-null    float64\n",
      " 9    CA26   957 non-null    float64\n",
      " 10   CA30   957 non-null    float64\n",
      " 11   CA31   957 non-null    float64\n",
      " 12   CA32   957 non-null    float64\n",
      " 13   CA33   957 non-null    float64\n",
      " 14   CA34   957 non-null    float64\n",
      " 15   CA36   957 non-null    float64\n",
      " 16   CA37   957 non-null    float64\n",
      " 17   CA38   957 non-null    float64\n",
      " 18   CA39   957 non-null    float64\n",
      " 19   CA40   957 non-null    float64\n",
      " 20   CA41   957 non-null    float64\n",
      " 21   CA42   957 non-null    float64\n",
      " 22   CA43   957 non-null    float64\n",
      " 23   CA44   957 non-null    float64\n",
      " 24   CA46   957 non-null    float64\n",
      " 25   CA48   957 non-null    float64\n",
      " 26   CA49   957 non-null    float64\n",
      " 27   CA50   957 non-null    float64\n",
      " 28   CA51   957 non-null    float64\n",
      " 29   CA52   957 non-null    float64\n",
      " 30   CA53   957 non-null    float64\n",
      " 31   CA54   957 non-null    float64\n",
      " 32   CA55   957 non-null    float64\n",
      " 33   CA58   957 non-null    float64\n",
      " 34   CA59   957 non-null    float64\n",
      " 35   CA60   957 non-null    float64\n",
      " 36  X1      957 non-null    float64\n",
      " 37  X2      957 non-null    float64\n",
      " 38  X3      957 non-null    float64\n",
      " 39  X4      957 non-null    float64\n",
      " 40  X5      957 non-null    float64\n",
      " 41  X6      957 non-null    float64\n",
      " 42  X7      957 non-null    float64\n",
      " 43  X8      957 non-null    float64\n",
      " 44  X9      957 non-null    float64\n",
      " 45  X10     957 non-null    float64\n",
      " 46  X11     957 non-null    float64\n",
      " 47  X12     957 non-null    float64\n",
      " 48  Y       957 non-null    object \n",
      "dtypes: float64(48), object(1)\n",
      "memory usage: 366.5+ KB\n"
     ]
    }
   ],
   "source": [
    "testing_set.info()"
   ]
  },
  {
   "cell_type": "code",
   "execution_count": 5,
   "id": "d15d0477",
   "metadata": {},
   "outputs": [],
   "source": [
    "X_train = training_set.drop('Y', axis=1)\n",
    "y_train = training_set['Y']\n",
    "X_test = testing_set.drop('Y', axis=1)\n",
    "y_test = testing_set['Y']"
   ]
  },
  {
   "cell_type": "code",
   "execution_count": 6,
   "id": "39706d51",
   "metadata": {},
   "outputs": [
    {
     "data": {
      "text/plain": [
       "((6417, 48), (6417,))"
      ]
     },
     "execution_count": 6,
     "metadata": {},
     "output_type": "execute_result"
    }
   ],
   "source": [
    "X_train.shape, y_train.shape"
   ]
  },
  {
   "cell_type": "code",
   "execution_count": 7,
   "id": "41d16b56",
   "metadata": {},
   "outputs": [],
   "source": [
    "X_train, X_val, y_train, y_val = train_test_split(X_train, y_train, train_size=0.8, random_state=20211008, \n",
    "                                                  stratify=y_train)"
   ]
  },
  {
   "cell_type": "code",
   "execution_count": 8,
   "id": "f9b89994",
   "metadata": {},
   "outputs": [
    {
     "data": {
      "text/plain": [
       "36"
      ]
     },
     "execution_count": 8,
     "metadata": {},
     "output_type": "execute_result"
    }
   ],
   "source": [
    "import itertools\n",
    "criterion = [\"gini\", \"entropy\"] # The function to measure the quality of a split. \n",
    "bootstrap = [True, False] # Whether bootstrap samples are used when building trees.\n",
    "max_depth = [None, 100, 1000] # The maximum depth of the tree.\n",
    "max_features = [None, \"sqrt\", \"log2\"] # The number of features to consider when looking for the best split   \n",
    "parameters = [criterion,bootstrap,max_depth, max_features]  \n",
    "parameters_combinations = list(itertools.product(*parameters))\n",
    "len(parameters_combinations) \n"
   ]
  },
  {
   "cell_type": "code",
   "execution_count": 9,
   "id": "749c5ff7",
   "metadata": {},
   "outputs": [],
   "source": [
    "from sklearn.metrics import f1_score\n",
    "from sklearn.metrics import matthews_corrcoef\n",
    "from imblearn.metrics import geometric_mean_score"
   ]
  },
  {
   "cell_type": "code",
   "execution_count": 10,
   "id": "545146b6",
   "metadata": {},
   "outputs": [
    {
     "name": "stdout",
     "output_type": "stream",
     "text": [
      "parameters: \n",
      " criterion: gini, bootstrap: True, max depth: None, max features: None\n",
      "accuracy: 0.9382274794975722\n",
      "parameters: \n",
      " criterion: gini, bootstrap: True, max depth: None, max features: sqrt\n",
      "accuracy: 0.9462685075256435\n",
      "parameters: \n",
      " criterion: gini, bootstrap: True, max depth: None, max features: log2\n",
      "accuracy: 0.9505355389381406\n",
      "parameters: \n",
      " criterion: gini, bootstrap: True, max depth: 100, max features: None\n",
      "accuracy: 0.9420437625511453\n",
      "parameters: \n",
      " criterion: gini, bootstrap: True, max depth: 100, max features: sqrt\n",
      "accuracy: 0.9408127478824115\n",
      "parameters: \n",
      " criterion: gini, bootstrap: True, max depth: 100, max features: log2\n",
      "accuracy: 0.945101132617236\n",
      "parameters: \n",
      " criterion: gini, bootstrap: True, max depth: 1000, max features: None\n",
      "accuracy: 0.9407235043885885\n",
      "parameters: \n",
      " criterion: gini, bootstrap: True, max depth: 1000, max features: sqrt\n",
      "accuracy: 0.9557087456091368\n",
      "parameters: \n",
      " criterion: gini, bootstrap: True, max depth: 1000, max features: log2\n",
      "accuracy: 0.9448976984781865\n",
      "parameters: \n",
      " criterion: gini, bootstrap: False, max depth: None, max features: None\n",
      "accuracy: 0.9182837625524602\n",
      "parameters: \n",
      " criterion: gini, bootstrap: False, max depth: None, max features: sqrt\n",
      "accuracy: 0.9581957243207317\n",
      "parameters: \n",
      " criterion: gini, bootstrap: False, max depth: None, max features: log2\n",
      "accuracy: 0.949180972113327\n",
      "parameters: \n",
      " criterion: gini, bootstrap: False, max depth: 100, max features: None\n",
      "accuracy: 0.9192792270427335\n",
      "parameters: \n",
      " criterion: gini, bootstrap: False, max depth: 100, max features: sqrt\n",
      "accuracy: 0.954073947327694\n",
      "parameters: \n",
      " criterion: gini, bootstrap: False, max depth: 100, max features: log2\n",
      "accuracy: 0.9551049279942072\n",
      "parameters: \n",
      " criterion: gini, bootstrap: False, max depth: 1000, max features: None\n",
      "accuracy: 0.9214129084658732\n",
      "parameters: \n",
      " criterion: gini, bootstrap: False, max depth: 1000, max features: sqrt\n",
      "accuracy: 0.9541007502005017\n",
      "parameters: \n",
      " criterion: gini, bootstrap: False, max depth: 1000, max features: log2\n",
      "accuracy: 0.956363696001047\n",
      "parameters: \n",
      " criterion: entropy, bootstrap: True, max depth: None, max features: None\n",
      "accuracy: 0.9416444192942505\n",
      "parameters: \n",
      " criterion: entropy, bootstrap: True, max depth: None, max features: sqrt\n",
      "accuracy: 0.9447420498028793\n",
      "parameters: \n",
      " criterion: entropy, bootstrap: True, max depth: None, max features: log2\n",
      "accuracy: 0.9446066741505919\n",
      "parameters: \n",
      " criterion: entropy, bootstrap: True, max depth: 100, max features: None\n",
      "accuracy: 0.9445223512242591\n",
      "parameters: \n",
      " criterion: entropy, bootstrap: True, max depth: 100, max features: sqrt\n",
      "accuracy: 0.9477053873945263\n",
      "parameters: \n",
      " criterion: entropy, bootstrap: True, max depth: 100, max features: log2\n",
      "accuracy: 0.9454410115904341\n",
      "parameters: \n",
      " criterion: entropy, bootstrap: True, max depth: 1000, max features: None\n",
      "accuracy: 0.9444486574300952\n",
      "parameters: \n",
      " criterion: entropy, bootstrap: True, max depth: 1000, max features: sqrt\n",
      "accuracy: 0.9464224949237544\n",
      "parameters: \n",
      " criterion: entropy, bootstrap: True, max depth: 1000, max features: log2\n",
      "accuracy: 0.9444791466502064\n",
      "parameters: \n",
      " criterion: entropy, bootstrap: False, max depth: None, max features: None\n",
      "accuracy: 0.9115682708823966\n",
      "parameters: \n",
      " criterion: entropy, bootstrap: False, max depth: None, max features: sqrt\n",
      "accuracy: 0.9505279040984496\n",
      "parameters: \n",
      " criterion: entropy, bootstrap: False, max depth: None, max features: log2\n",
      "accuracy: 0.9555865738023155\n",
      "parameters: \n",
      " criterion: entropy, bootstrap: False, max depth: 100, max features: None\n",
      "accuracy: 0.911658169322231\n",
      "parameters: \n",
      " criterion: entropy, bootstrap: False, max depth: 100, max features: sqrt\n",
      "accuracy: 0.9559610781141372\n",
      "parameters: \n",
      " criterion: entropy, bootstrap: False, max depth: 100, max features: log2\n",
      "accuracy: 0.9563123787626769\n",
      "parameters: \n",
      " criterion: entropy, bootstrap: False, max depth: 1000, max features: None\n",
      "accuracy: 0.9108441014890657\n",
      "parameters: \n",
      " criterion: entropy, bootstrap: False, max depth: 1000, max features: sqrt\n",
      "accuracy: 0.9578812484802317\n",
      "parameters: \n",
      " criterion: entropy, bootstrap: False, max depth: 1000, max features: log2\n",
      "accuracy: 0.9527231668710288\n",
      "best parameters are: {'criterion': 'gini', 'bootstrap': False, 'max_depth': None, 'max_features': 'sqrt', 'accuracy': {'average_score': 0.9581957243207317, 'f1_score_macro': 0.9556738659245755, 'f1_score_micro': 0.955607476635514, 'MCC': 0.9478959288448578, 'Gmean': 0.9736056258779795}}\n"
     ]
    }
   ],
   "source": [
    "from sklearn.ensemble import RandomForestClassifier\n",
    "# training and hyper-parameter tuning\n",
    "best_acc_params = {\"criterion\": None, \"bootstrap\": None, \"max_depth\": None,\n",
    "                         \"max_features\": None, \"accuracy\": {\n",
    "                             \"average_score\": 0,\n",
    "                             \"f1_score_macro\": 0,\n",
    "                             \"f1_score_micro\": 0,\n",
    "                             \"MCC\": 0,\n",
    "                             \"Gmean\": 0\n",
    "                         }}\n",
    "for params in parameters_combinations:\n",
    "    \n",
    "    random_forest_clf = RandomForestClassifier(criterion=params[0], bootstrap=params[1], \n",
    "                                          max_depth=params[2], max_features=params[3])\n",
    "    random_forest_clf = random_forest_clf.fit(X_train,y_train)\n",
    "    y_pred = random_forest_clf.predict(X_val)\n",
    "    \n",
    "    f1_score_macro = f1_score(y_val, y_pred, average='macro')\n",
    "    f1_score_micro = f1_score(y_val, y_pred, average='micro')\n",
    "    MCC_score = matthews_corrcoef(y_val, y_pred)\n",
    "    Gmean_score = geometric_mean_score(y_val,y_pred, average='macro')\n",
    "    accuracy = (f1_score_macro + f1_score_micro + MCC_score + Gmean_score) / 4.0\n",
    "    \n",
    "    if accuracy > 0.50:\n",
    "        print(f'parameters: \\n criterion: {params[0]}, bootstrap: {params[1]}, max depth: {params[2]}, max features: {params[3]}')\n",
    "        print(f'accuracy: {accuracy}')\n",
    "        if accuracy > best_acc_params['accuracy']['average_score']:\n",
    "            best_acc_params.update({\"criterion\": params[0], \"bootstrap\": params[1], \"max_depth\": params[2],\n",
    "                         \"max_features\": params[3], \"accuracy\": {\n",
    "                             \"average_score\": accuracy,\n",
    "                             \"f1_score_macro\": f1_score_macro,\n",
    "                             \"f1_score_micro\": f1_score_micro,\n",
    "                             \"MCC\": MCC_score,\n",
    "                             \"Gmean\": Gmean_score\n",
    "                         }})\n",
    "\n",
    "print(f'best parameters are: {best_acc_params}')\n"
   ]
  },
  {
   "cell_type": "code",
   "execution_count": 11,
   "id": "3498ad29",
   "metadata": {},
   "outputs": [
    {
     "data": {
      "text/plain": [
       "{'criterion': 'gini',\n",
       " 'bootstrap': False,\n",
       " 'max_depth': None,\n",
       " 'max_features': 'sqrt',\n",
       " 'accuracy': {'average_score': 0.9581957243207317,\n",
       "  'f1_score_macro': 0.9556738659245755,\n",
       "  'f1_score_micro': 0.955607476635514,\n",
       "  'MCC': 0.9478959288448578,\n",
       "  'Gmean': 0.9736056258779795}}"
      ]
     },
     "execution_count": 11,
     "metadata": {},
     "output_type": "execute_result"
    }
   ],
   "source": [
    "best_acc_params"
   ]
  },
  {
   "cell_type": "code",
   "execution_count": 12,
   "id": "cb5f23ee",
   "metadata": {},
   "outputs": [
    {
     "name": "stdout",
     "output_type": "stream",
     "text": [
      "f1_score (macro): 0.8735455052216039\n",
      "f1_score (micro): 0.9090909090909091\n",
      "MCC: 0.8860555416456295\n",
      "Gmean: 0.9415768097375388\n"
     ]
    }
   ],
   "source": [
    "des_tree_clf = RandomForestClassifier(criterion=best_acc_params['criterion'], bootstrap=best_acc_params['bootstrap'], \n",
    "                                          max_depth=best_acc_params['max_depth'], max_features=best_acc_params['max_features'])\n",
    "des_tree_clf = des_tree_clf.fit(X_train,y_train)\n",
    "y_pred = des_tree_clf.predict(X_test)\n",
    "\n",
    "f1_score_macro = f1_score(y_test, y_pred, average='macro')\n",
    "f1_score_micro = f1_score(y_test, y_pred, average='micro')\n",
    "MCC_score = matthews_corrcoef(y_test, y_pred)\n",
    "Gmean_score = geometric_mean_score(y_test,y_pred, average='macro')\n",
    "\n",
    "\n",
    "print(f'f1_score (macro): {f1_score_macro}')\n",
    "print(f'f1_score (micro): {f1_score_micro}')\n",
    "print(f'MCC: {MCC_score}')\n",
    "print(f'Gmean: {Gmean_score}')\n"
   ]
  }
 ],
 "metadata": {
  "kernelspec": {
   "display_name": "Python 3 (ipykernel)",
   "language": "python",
   "name": "python3"
  },
  "language_info": {
   "codemirror_mode": {
    "name": "ipython",
    "version": 3
   },
   "file_extension": ".py",
   "mimetype": "text/x-python",
   "name": "python",
   "nbconvert_exporter": "python",
   "pygments_lexer": "ipython3",
   "version": "3.9.7"
  }
 },
 "nbformat": 4,
 "nbformat_minor": 5
}
