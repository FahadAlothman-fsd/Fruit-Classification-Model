{
 "cells": [
  {
   "cell_type": "code",
   "execution_count": 3,
   "id": "30226be2",
   "metadata": {},
   "outputs": [],
   "source": [
    "import pandas as pd\n",
    "import numpy as np\n",
    "from sklearn.linear_model import LogisticRegression\n",
    "from sklearn.model_selection import train_test_split\n",
    "from sklearn.preprocessing import StandardScaler\n",
    "from sklearn.neighbors import KNeighborsClassifier\n",
    "from sklearn.metrics import accuracy_score\n",
    "#import our data from balanced_filled_Dataset-vf.csv as data\n",
    "data = pd.read_csv('balanced_filled_Dataset-vf.csv')\n",
    "#split the data as 80% training and 20% testing\n",
    "X = data.iloc[:,0:14]\n",
    "Y = data.iloc[:,14]\n",
    "#scale the data\n",
    "scale_X = StandardScaler()\n",
    "\n",
    "X_train, X_test, Y_train, Y_test = train_test_split(X,Y, random_state = 777, test_size = 0.2)\n",
    "X_train = scale_X.fit_transform(X_train)\n",
    "X_test = scale_X.fit_transform(X_test)\n",
    "LogReg = LogisticRegression(random_state=20211008, max_iter=1000)\n",
    "LogReg.fit(X_train,Y_train)\n",
    "Y_predict = LogReg.predict(X_test)\n"
   ]
  },
  {
   "cell_type": "code",
   "execution_count": 4,
   "id": "5a03c299",
   "metadata": {},
   "outputs": [
    {
     "name": "stdout",
     "output_type": "stream",
     "text": [
      "f1_score (macro): 0.804738328187958\n",
      "f1_score (micro): 0.8019292604501608\n",
      "MCC: 0.7684790925247774\n",
      "Gmean: 0.883534047527952\n"
     ]
    }
   ],
   "source": [
    "from sklearn.metrics import f1_score\n",
    "from sklearn.metrics import matthews_corrcoef\n",
    "from imblearn.metrics import geometric_mean_score\n",
    "\n",
    "\n",
    "f1_score_macro = f1_score(Y_test, Y_predict, average='macro')\n",
    "f1_score_micro = f1_score(Y_test, Y_predict, average='micro')\n",
    "MCC_score = matthews_corrcoef(Y_test, Y_predict)\n",
    "Gmean_score = geometric_mean_score(Y_test,Y_predict, average='macro')\n",
    "\n",
    "\n",
    "print(f'f1_score (macro): {f1_score_macro}')\n",
    "print(f'f1_score (micro): {f1_score_micro}')\n",
    "print(f'MCC: {MCC_score}')\n",
    "print(f'Gmean: {Gmean_score}')"
   ]
  },
  {
   "cell_type": "code",
   "execution_count": null,
   "id": "4722158c",
   "metadata": {},
   "outputs": [],
   "source": []
  }
 ],
 "metadata": {
  "kernelspec": {
   "display_name": "Python 3 (ipykernel)",
   "language": "python",
   "name": "python3"
  },
  "language_info": {
   "codemirror_mode": {
    "name": "ipython",
    "version": 3
   },
   "file_extension": ".py",
   "mimetype": "text/x-python",
   "name": "python",
   "nbconvert_exporter": "python",
   "pygments_lexer": "ipython3",
   "version": "3.9.7"
  },
  "vscode": {
   "interpreter": {
    "hash": "362c3e28a184c9a10a6611ff1607a8a63416bffb2ca322aa9e6df9bfad7a3e35"
   }
  }
 },
 "nbformat": 4,
 "nbformat_minor": 5
}
