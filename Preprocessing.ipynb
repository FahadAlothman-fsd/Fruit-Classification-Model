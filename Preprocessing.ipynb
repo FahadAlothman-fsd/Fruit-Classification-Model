{
 "cells": [
  {
   "cell_type": "markdown",
   "id": "9e6cfb2a",
   "metadata": {},
   "source": [
    "# Analysis on Dataset \"Dataset-vf\"\n",
    "\n",
    "<strong>The first step in our task to perform multiclass classification on the dataset [Dataset-vf](./Dataset-vf.csv) is preprocessing the dataset, this includes: </strong>\n",
    "- Dataset analysis and report on important statistics\n",
    "- Correlation analysis\n",
    "- Dealing with missing values (if applicable)\n",
    "- Dealing with imbalanced data (if applicable)\n",
    "- Feature transformation/engineering\n",
    "- List of appropriate evaluation measures with justifications\n",
    "\n",
    "\n",
    "- [Observing the dataset](#Observing-the-dataset)\n",
    "    - [Important Statisitcs](#Important-Statisitcs)\n",
    "    - [Nature of the dataset](#Nature-of-the-dataset)\n",
    "        - [Observing Features](#Observing-Features)\n",
    "        - [Dealing with Missing Values](#Dealing-with-Missing-Values)\n",
    "        - [Encoding Categorical Features](#Encoding-Categorical-Features)\n",
    "        - [Correlation Analysis](#Correlation-Analysis)\n",
    "        - [Handling Imbalanced Data](#Handling-Imbalanced-Data)\n",
    "        \n",
    "\n",
    "## Observing the dataset\n",
    "<strong>First we need to load the dataset, *report important statistic* on the numerical features and display the type of each feature before we can do further analysis.  </strong>"
   ]
  },
  {
   "cell_type": "code",
   "execution_count": 1,
   "id": "08ef8d22",
   "metadata": {},
   "outputs": [],
   "source": [
    "import pandas as pd\n",
    "import numpy as np\n",
    "import seaborn as sns\n",
    "import matplotlib.pyplot as plt\n",
    "from sklearn.model_selection import train_test_split\n"
   ]
  },
  {
   "cell_type": "code",
   "execution_count": 2,
   "id": "67ad4951",
   "metadata": {},
   "outputs": [],
   "source": [
    "data = pd.read_csv('Dataset-vf.csv')"
   ]
  },
  {
   "cell_type": "code",
   "execution_count": 3,
   "id": "887db31f",
   "metadata": {},
   "outputs": [
    {
     "name": "stdout",
     "output_type": "stream",
     "text": [
      "(6374, 15) (6374,)\n"
     ]
    }
   ],
   "source": [
    "X = data.drop('Y', axis=1)\n",
    "Y = data['Y']\n",
    "print(X.shape, Y.shape)"
   ]
  },
  {
   "cell_type": "code",
   "execution_count": 4,
   "id": "4121eaf8",
   "metadata": {},
   "outputs": [],
   "source": [
    "X_train, X_test, y_train, y_test = train_test_split(X,Y, train_size=0.85, random_state=20211008, stratify=Y)\n",
    "train_set = pd.concat([X_train, y_train], axis=1)\n",
    "test_set = pd.concat([X_test, y_test], axis=1)"
   ]
  },
  {
   "cell_type": "code",
   "execution_count": 5,
   "id": "507469a6",
   "metadata": {},
   "outputs": [
    {
     "name": "stdout",
     "output_type": "stream",
     "text": [
      "training shape: (5417, 16), testing shape: (957, 16)\n",
      "training type: <class 'pandas.core.frame.DataFrame'>\n"
     ]
    }
   ],
   "source": [
    "print(f'training shape: {train_set.shape}, testing shape: {test_set.shape}')\n",
    "print(f'training type: {type(train_set)}')"
   ]
  },
  {
   "cell_type": "code",
   "execution_count": 6,
   "id": "ad7ca427",
   "metadata": {},
   "outputs": [],
   "source": [
    "test_set.to_csv('processed_data/testing_set.csv', index=False)\n",
    "train_set.to_csv('processed_data/training_set.csv', index=False)\n"
   ]
  },
  {
   "cell_type": "code",
   "execution_count": 7,
   "id": "d85d7597",
   "metadata": {},
   "outputs": [],
   "source": [
    "train_set = pd.read_csv('processed_data/training_set.csv')\n",
    "test_set = pd.read_csv('processed_data/testing_set.csv')"
   ]
  },
  {
   "cell_type": "markdown",
   "id": "d6c29b7f",
   "metadata": {},
   "source": [
    "### Important Statisitcs"
   ]
  },
  {
   "cell_type": "code",
   "execution_count": 8,
   "id": "f4d9d94c",
   "metadata": {},
   "outputs": [
    {
     "data": {
      "text/html": [
       "<div>\n",
       "<style scoped>\n",
       "    .dataframe tbody tr th:only-of-type {\n",
       "        vertical-align: middle;\n",
       "    }\n",
       "\n",
       "    .dataframe tbody tr th {\n",
       "        vertical-align: top;\n",
       "    }\n",
       "\n",
       "    .dataframe thead th {\n",
       "        text-align: right;\n",
       "    }\n",
       "</style>\n",
       "<table border=\"1\" class=\"dataframe\">\n",
       "  <thead>\n",
       "    <tr style=\"text-align: right;\">\n",
       "      <th></th>\n",
       "      <th>X1</th>\n",
       "      <th>X2</th>\n",
       "      <th>X3</th>\n",
       "      <th>X4</th>\n",
       "      <th>X5</th>\n",
       "      <th>X6</th>\n",
       "      <th>X7</th>\n",
       "      <th>X8</th>\n",
       "      <th>X9</th>\n",
       "      <th>X10</th>\n",
       "      <th>X11</th>\n",
       "      <th>X12</th>\n",
       "    </tr>\n",
       "  </thead>\n",
       "  <tbody>\n",
       "    <tr>\n",
       "      <th>count</th>\n",
       "      <td>5417.000000</td>\n",
       "      <td>4884.000000</td>\n",
       "      <td>5417.000000</td>\n",
       "      <td>5417.000000</td>\n",
       "      <td>5417.000000</td>\n",
       "      <td>5417.000000</td>\n",
       "      <td>5417.000000</td>\n",
       "      <td>5417.000000</td>\n",
       "      <td>5417.000000</td>\n",
       "      <td>5417.000000</td>\n",
       "      <td>5417.000000</td>\n",
       "      <td>5417.000000</td>\n",
       "    </tr>\n",
       "    <tr>\n",
       "      <th>mean</th>\n",
       "      <td>2637.377146</td>\n",
       "      <td>152.327805</td>\n",
       "      <td>17.125900</td>\n",
       "      <td>193.082518</td>\n",
       "      <td>48.614362</td>\n",
       "      <td>1522.395976</td>\n",
       "      <td>215.392284</td>\n",
       "      <td>217.891268</td>\n",
       "      <td>129.884069</td>\n",
       "      <td>1423.800628</td>\n",
       "      <td>0.495455</td>\n",
       "      <td>11.626546</td>\n",
       "    </tr>\n",
       "    <tr>\n",
       "      <th>std</th>\n",
       "      <td>394.139775</td>\n",
       "      <td>104.950125</td>\n",
       "      <td>8.988423</td>\n",
       "      <td>179.325542</td>\n",
       "      <td>58.415434</td>\n",
       "      <td>1285.798599</td>\n",
       "      <td>31.510342</td>\n",
       "      <td>23.972585</td>\n",
       "      <td>49.139755</td>\n",
       "      <td>1106.567216</td>\n",
       "      <td>0.291843</td>\n",
       "      <td>573.605314</td>\n",
       "    </tr>\n",
       "    <tr>\n",
       "      <th>min</th>\n",
       "      <td>1863.000000</td>\n",
       "      <td>0.000000</td>\n",
       "      <td>0.000000</td>\n",
       "      <td>0.000000</td>\n",
       "      <td>-134.000000</td>\n",
       "      <td>0.000000</td>\n",
       "      <td>59.000000</td>\n",
       "      <td>99.000000</td>\n",
       "      <td>0.000000</td>\n",
       "      <td>30.000000</td>\n",
       "      <td>0.000000</td>\n",
       "      <td>-1000.000000</td>\n",
       "    </tr>\n",
       "    <tr>\n",
       "      <th>25%</th>\n",
       "      <td>2284.000000</td>\n",
       "      <td>69.000000</td>\n",
       "      <td>10.000000</td>\n",
       "      <td>42.000000</td>\n",
       "      <td>2.000000</td>\n",
       "      <td>626.000000</td>\n",
       "      <td>200.000000</td>\n",
       "      <td>205.000000</td>\n",
       "      <td>97.000000</td>\n",
       "      <td>661.000000</td>\n",
       "      <td>0.250000</td>\n",
       "      <td>-486.000000</td>\n",
       "    </tr>\n",
       "    <tr>\n",
       "      <th>50%</th>\n",
       "      <td>2686.000000</td>\n",
       "      <td>122.000000</td>\n",
       "      <td>16.000000</td>\n",
       "      <td>150.000000</td>\n",
       "      <td>29.000000</td>\n",
       "      <td>1154.000000</td>\n",
       "      <td>223.000000</td>\n",
       "      <td>222.000000</td>\n",
       "      <td>134.000000</td>\n",
       "      <td>1159.000000</td>\n",
       "      <td>0.490000</td>\n",
       "      <td>27.000000</td>\n",
       "    </tr>\n",
       "    <tr>\n",
       "      <th>75%</th>\n",
       "      <td>2925.000000</td>\n",
       "      <td>237.250000</td>\n",
       "      <td>24.000000</td>\n",
       "      <td>297.000000</td>\n",
       "      <td>79.000000</td>\n",
       "      <td>1973.000000</td>\n",
       "      <td>239.000000</td>\n",
       "      <td>235.000000</td>\n",
       "      <td>164.000000</td>\n",
       "      <td>1861.000000</td>\n",
       "      <td>0.750000</td>\n",
       "      <td>502.000000</td>\n",
       "    </tr>\n",
       "    <tr>\n",
       "      <th>max</th>\n",
       "      <td>3675.000000</td>\n",
       "      <td>359.000000</td>\n",
       "      <td>49.000000</td>\n",
       "      <td>1129.000000</td>\n",
       "      <td>334.000000</td>\n",
       "      <td>6890.000000</td>\n",
       "      <td>254.000000</td>\n",
       "      <td>254.000000</td>\n",
       "      <td>248.000000</td>\n",
       "      <td>6632.000000</td>\n",
       "      <td>1.000000</td>\n",
       "      <td>1000.000000</td>\n",
       "    </tr>\n",
       "  </tbody>\n",
       "</table>\n",
       "</div>"
      ],
      "text/plain": [
       "                X1           X2           X3           X4           X5  \\\n",
       "count  5417.000000  4884.000000  5417.000000  5417.000000  5417.000000   \n",
       "mean   2637.377146   152.327805    17.125900   193.082518    48.614362   \n",
       "std     394.139775   104.950125     8.988423   179.325542    58.415434   \n",
       "min    1863.000000     0.000000     0.000000     0.000000  -134.000000   \n",
       "25%    2284.000000    69.000000    10.000000    42.000000     2.000000   \n",
       "50%    2686.000000   122.000000    16.000000   150.000000    29.000000   \n",
       "75%    2925.000000   237.250000    24.000000   297.000000    79.000000   \n",
       "max    3675.000000   359.000000    49.000000  1129.000000   334.000000   \n",
       "\n",
       "                X6           X7           X8           X9          X10  \\\n",
       "count  5417.000000  5417.000000  5417.000000  5417.000000  5417.000000   \n",
       "mean   1522.395976   215.392284   217.891268   129.884069  1423.800628   \n",
       "std    1285.798599    31.510342    23.972585    49.139755  1106.567216   \n",
       "min       0.000000    59.000000    99.000000     0.000000    30.000000   \n",
       "25%     626.000000   200.000000   205.000000    97.000000   661.000000   \n",
       "50%    1154.000000   223.000000   222.000000   134.000000  1159.000000   \n",
       "75%    1973.000000   239.000000   235.000000   164.000000  1861.000000   \n",
       "max    6890.000000   254.000000   254.000000   248.000000  6632.000000   \n",
       "\n",
       "               X11          X12  \n",
       "count  5417.000000  5417.000000  \n",
       "mean      0.495455    11.626546  \n",
       "std       0.291843   573.605314  \n",
       "min       0.000000 -1000.000000  \n",
       "25%       0.250000  -486.000000  \n",
       "50%       0.490000    27.000000  \n",
       "75%       0.750000   502.000000  \n",
       "max       1.000000  1000.000000  "
      ]
     },
     "execution_count": 8,
     "metadata": {},
     "output_type": "execute_result"
    }
   ],
   "source": [
    "train_set.describe()"
   ]
  },
  {
   "cell_type": "code",
   "execution_count": 9,
   "id": "1602e45e",
   "metadata": {},
   "outputs": [],
   "source": [
    "import missingno as msno"
   ]
  },
  {
   "cell_type": "code",
   "execution_count": 10,
   "id": "aebb8c34",
   "metadata": {
    "scrolled": false
   },
   "outputs": [
    {
     "data": {
      "text/plain": [
       "<AxesSubplot:>"
      ]
     },
     "execution_count": 10,
     "metadata": {},
     "output_type": "execute_result"
    },
    {
     "data": {
      "image/png": "[encoded data removed]",
      "text/plain": [
       "<Figure size 1800x720 with 2 Axes>"
      ]
     },
     "metadata": {
      "needs_background": "light"
     },
     "output_type": "display_data"
    }
   ],
   "source": [
    "msno.matrix(train_set)"
   ]
  },
  {
   "cell_type": "markdown",
   "id": "99c4b32d",
   "metadata": {},
   "source": [
    "Visualization of Missing Values: white lines denote the presence of missing value\n",
    "\n",
    "<hr>\n",
    "\n",
    "### Nature of the dataset\n"
   ]
  },
  {
   "cell_type": "code",
   "execution_count": 11,
   "id": "531bd261",
   "metadata": {
    "scrolled": false
   },
   "outputs": [
    {
     "name": "stdout",
     "output_type": "stream",
     "text": [
      "<class 'pandas.core.frame.DataFrame'>\n",
      "RangeIndex: 5417 entries, 0 to 5416\n",
      "Data columns (total 16 columns):\n",
      " #   Column  Non-Null Count  Dtype  \n",
      "---  ------  --------------  -----  \n",
      " 0   X1      5417 non-null   int64  \n",
      " 1   X2      4884 non-null   float64\n",
      " 2   X3      5417 non-null   int64  \n",
      " 3   X4      5417 non-null   int64  \n",
      " 4   X5      5417 non-null   int64  \n",
      " 5   X6      5417 non-null   int64  \n",
      " 6   X7      5417 non-null   int64  \n",
      " 7   X8      5417 non-null   int64  \n",
      " 8   X9      5417 non-null   int64  \n",
      " 9   X10     5417 non-null   int64  \n",
      " 10  X11     5417 non-null   float64\n",
      " 11  X12     5417 non-null   int64  \n",
      " 12  X13     5417 non-null   object \n",
      " 13  X14     5417 non-null   object \n",
      " 14  X15     542 non-null    object \n",
      " 15  Y       5417 non-null   object \n",
      "dtypes: float64(2), int64(10), object(4)\n",
      "memory usage: 677.2+ KB\n"
     ]
    }
   ],
   "source": [
    "train_set.info()"
   ]
  },
  {
   "cell_type": "code",
   "execution_count": 12,
   "id": "8481678a",
   "metadata": {},
   "outputs": [
    {
     "data": {
      "text/plain": [
       "array(['Carrot', 'Apple', 'Berry', 'Peach', 'Melon', 'Mango', 'Orange'],\n",
       "      dtype=object)"
      ]
     },
     "execution_count": 12,
     "metadata": {},
     "output_type": "execute_result"
    }
   ],
   "source": [
    "train_set['Y'].unique()"
   ]
  },
  {
   "cell_type": "code",
   "execution_count": 13,
   "id": "4f08d1bb",
   "metadata": {},
   "outputs": [
    {
     "data": {
      "text/plain": [
       "533"
      ]
     },
     "execution_count": 13,
     "metadata": {},
     "output_type": "execute_result"
    }
   ],
   "source": [
    "train_set['X2'].isna().sum()"
   ]
  },
  {
   "cell_type": "code",
   "execution_count": 14,
   "id": "b297dd0a",
   "metadata": {
    "scrolled": true
   },
   "outputs": [
    {
     "data": {
      "text/plain": [
       "4875"
      ]
     },
     "execution_count": 14,
     "metadata": {},
     "output_type": "execute_result"
    }
   ],
   "source": [
    "train_set['X15'].isna().sum()"
   ]
  },
  {
   "cell_type": "markdown",
   "id": "88f687c0",
   "metadata": {},
   "source": [
    "#### Observing Features\n",
    "\n",
    "- [Feature Types](#Feature-Types)\n",
    "- [Target Feature](#Target-Feature)\n",
    "- [Dealing with Missing Values](#Dealing-with-Missing-Values)\n",
    "    - [Methods to handle Missing Values](#Methods-to-handle-Missing-Values)\n",
    "    - [Handling X15 feature](#Handling-X15-feature)\n",
    "    - [Handling X2 feature](#Handling-X2-feature)\n",
    "        - [KNN Imputer](#KNN-Imputer)\n",
    "        - [MICE Imputer](#MICE-Imputer)\n",
    "\n",
    "##### Feature Types\n",
    "\n",
    "- there are *15* features in total\n",
    "- *12* are numerical features\n",
    "- *3* are categorical\n",
    "\n",
    "\n",
    "##### Target Feature\n",
    "\n",
    "- target feature has 7 unique labels which are: ['Melon', 'Carrot', 'Orange', 'Apple', 'Berry', 'Mango', 'Peach']\n",
    "\n",
    "<strong>Since the features of the dataset are kept anonymous (\"X1\" - \"X15\") it is difficult to adequately handle the preprocessing phase since there is no way to identify the nature of the feature.</strong>\n",
    "\n",
    "<strong>However, looking at the target feature we can see that it is a fruit classification problem. Which will help us in the preprocessing phase. </strong>\n",
    "\n",
    "\n",
    "\n",
    "#### Dealing with Missing Values\n",
    "\n",
    "- Feature **\"X15\"** has *5743* missing values\n",
    "- Feature **\"X2\"** has *627* missing values\n",
    "\n",
    "##### Methods to handle Missing Values\n",
    "\n",
    "<strong>These methods do not handle missing values the same, so proper justification should be given when a method is implemented</strong>\n",
    "- Deleting Rows with missing values\n",
    "- Deleting the feature\n",
    "- Impute missing values with Mean/Median/Mode\n",
    "- Replacing with Previous Value – Forward Fill\n",
    "- Replacing with Next Value – Backward Fill\n",
    "- [interpolation](https://blog.enterprisedna.co/handling-missing-data-in-python-using-interpolation-method/)\n",
    "- Imputing using KNN\n",
    "- [MICE Imputation](https://www.ncbi.nlm.nih.gov/pmc/articles/PMC3074241/)\n",
    " \n",
    "Resources: \n",
    "- https://www.analyticsvidhya.com/blog/2021/10/handling-missing-value/\n",
    "- https://pianalytix.com/how-do-you-handle-missing-values-categorical-data-and-feature-scaling-in-machine-learning/\n",
    "- https://machinelearningmastery.com/knn-imputation-for-missing-values-in-machine-learning/\n",
    "<hr>\n",
    "\n",
    "##### Handling X15 feature\n",
    "- has *5743* missing values\n",
    "- categorical feature\n",
    "- labels = [R, R1, R2, R3]\n",
    "\n",
    "<strong>The best method to handle the missing values is to drop this feature.</strong>\n",
    "<br>\n",
    "The reasoning is as follows:\n",
    "- the percentage of missing values is extremely high (at 90%)\n",
    "- It's a categorical feature so there are not any straightforward statistical method to fill the missing values\n",
    "- Looking at the unique labels I see that there are four {R, R1, R2, R3}. \n",
    "    I would hesitantly conclude that these categories don't make sense (why have R and R1).\n",
    "\n",
    "**X15 Will be dropped from BOTH the training and testing sets**"
   ]
  },
  {
   "cell_type": "code",
   "execution_count": 15,
   "id": "7571771b",
   "metadata": {},
   "outputs": [
    {
     "data": {
      "text/plain": [
       "76.48258550360842"
      ]
     },
     "execution_count": 15,
     "metadata": {},
     "output_type": "execute_result"
    }
   ],
   "source": [
    "train_set['X15'].isna().sum() / data.shape[0] * 100"
   ]
  },
  {
   "cell_type": "code",
   "execution_count": 16,
   "id": "b1d701ad",
   "metadata": {
    "scrolled": true
   },
   "outputs": [
    {
     "name": "stdout",
     "output_type": "stream",
     "text": [
      "<class 'pandas.core.frame.DataFrame'>\n",
      "RangeIndex: 5417 entries, 0 to 5416\n",
      "Data columns (total 15 columns):\n",
      " #   Column  Non-Null Count  Dtype  \n",
      "---  ------  --------------  -----  \n",
      " 0   X1      5417 non-null   int64  \n",
      " 1   X2      4884 non-null   float64\n",
      " 2   X3      5417 non-null   int64  \n",
      " 3   X4      5417 non-null   int64  \n",
      " 4   X5      5417 non-null   int64  \n",
      " 5   X6      5417 non-null   int64  \n",
      " 6   X7      5417 non-null   int64  \n",
      " 7   X8      5417 non-null   int64  \n",
      " 8   X9      5417 non-null   int64  \n",
      " 9   X10     5417 non-null   int64  \n",
      " 10  X11     5417 non-null   float64\n",
      " 11  X12     5417 non-null   int64  \n",
      " 12  X13     5417 non-null   object \n",
      " 13  X14     5417 non-null   object \n",
      " 14  Y       5417 non-null   object \n",
      "dtypes: float64(2), int64(10), object(3)\n",
      "memory usage: 634.9+ KB\n"
     ]
    }
   ],
   "source": [
    "modified_train_set = train_set.drop('X15', axis=1)\n",
    "modified_test_set = test_set.drop('X15', axis=1)\n",
    "\n",
    "modified_train_set.info()"
   ]
  },
  {
   "cell_type": "markdown",
   "id": "37ca61ab",
   "metadata": {},
   "source": [
    "<strong>Now that we dropped feature *X15* we can focus on filling the missing values in feature *X2* </strong>\n",
    "\n",
    "<hr>\n",
    "\n",
    "##### Handling X2 feature\n",
    "- has *627* missing values\n",
    "- numerical feature\n",
    "- {min, max} = {0, 360}\n",
    "- median = 123\n",
    "- mean = 153.23\n",
    "<br>\n",
    "<br>\n",
    "<strong>Methods to consider: </strong>\n",
    "\n",
    "<br>\n",
    "\n",
    "- <strong>Deleting rows that have missing values might be a good approach if we have an extremely small percentage \n",
    "    (<5%) but since feature \"X2\" has almost 10% of its values missing, this approach will significantly reduce the dataset (which is already kind of small at 6374 entries) </strong>\n",
    "\n",
    "- <strong> Deleting the feature be a good approach if we have an extremely large percentage (>50%)   but since feature \"X2\" has almost 10% of its values missing, this approach will significantly reduce the capability of the model to accurately predict. </strong> \n",
    "    \n",
    "- <strong>We can fill the missing values with the median or mean or mode. However, none of these methods take into account the covariance between features. Furthermore, these methods might skew the results a bit (it is a great approach but today we have more accurate methods) </strong>\n",
    "    \n",
    "- <strong> imputing with KNN seems like a good option since it takes into account other features. So it will be an option that we will use   </strong>\n",
    "\n",
    "- <strong>imputing with Multiple Imputation by Chained Equations (MICE) is also a good option as it also considers other features while imputing. Furthermore, It factors in the correlation between the features</strong>\n",
    "\n",
    "\n",
    "<br>\n",
    "    \n",
    "\n",
    "<p>We will now impute the missing data using KNN and MICE and see which one performs better. our criteria includes:  </p>\n",
    "\n",
    "- should not modify the max and min values (the feature range: [0,360]. makes us suspect that it has to do with degrees, so we would not want it to modify these values)\n",
    "- should not significantly change other statisitcs displayed in the original data."
   ]
  },
  {
   "cell_type": "code",
   "execution_count": 17,
   "id": "ece44c7b",
   "metadata": {},
   "outputs": [
    {
     "data": {
      "text/plain": [
       "9.839394498800074"
      ]
     },
     "execution_count": 17,
     "metadata": {},
     "output_type": "execute_result"
    }
   ],
   "source": [
    "modified_train_set['X2'].isna().sum() / modified_train_set.shape[0] * 100"
   ]
  },
  {
   "cell_type": "code",
   "execution_count": 18,
   "id": "a4da725e",
   "metadata": {},
   "outputs": [
    {
     "data": {
      "text/html": [
       "<div>\n",
       "<style scoped>\n",
       "    .dataframe tbody tr th:only-of-type {\n",
       "        vertical-align: middle;\n",
       "    }\n",
       "\n",
       "    .dataframe tbody tr th {\n",
       "        vertical-align: top;\n",
       "    }\n",
       "\n",
       "    .dataframe thead th {\n",
       "        text-align: right;\n",
       "    }\n",
       "</style>\n",
       "<table border=\"1\" class=\"dataframe\">\n",
       "  <thead>\n",
       "    <tr style=\"text-align: right;\">\n",
       "      <th></th>\n",
       "      <th>X1</th>\n",
       "      <th>X2</th>\n",
       "      <th>X3</th>\n",
       "      <th>X4</th>\n",
       "      <th>X5</th>\n",
       "      <th>X6</th>\n",
       "      <th>X7</th>\n",
       "      <th>X8</th>\n",
       "      <th>X9</th>\n",
       "      <th>X10</th>\n",
       "      <th>X11</th>\n",
       "      <th>X12</th>\n",
       "    </tr>\n",
       "  </thead>\n",
       "  <tbody>\n",
       "    <tr>\n",
       "      <th>count</th>\n",
       "      <td>5417.000000</td>\n",
       "      <td>4884.000000</td>\n",
       "      <td>5417.000000</td>\n",
       "      <td>5417.000000</td>\n",
       "      <td>5417.000000</td>\n",
       "      <td>5417.000000</td>\n",
       "      <td>5417.000000</td>\n",
       "      <td>5417.000000</td>\n",
       "      <td>5417.000000</td>\n",
       "      <td>5417.000000</td>\n",
       "      <td>5417.000000</td>\n",
       "      <td>5417.000000</td>\n",
       "    </tr>\n",
       "    <tr>\n",
       "      <th>mean</th>\n",
       "      <td>2637.377146</td>\n",
       "      <td>152.327805</td>\n",
       "      <td>17.125900</td>\n",
       "      <td>193.082518</td>\n",
       "      <td>48.614362</td>\n",
       "      <td>1522.395976</td>\n",
       "      <td>215.392284</td>\n",
       "      <td>217.891268</td>\n",
       "      <td>129.884069</td>\n",
       "      <td>1423.800628</td>\n",
       "      <td>0.495455</td>\n",
       "      <td>11.626546</td>\n",
       "    </tr>\n",
       "    <tr>\n",
       "      <th>std</th>\n",
       "      <td>394.139775</td>\n",
       "      <td>104.950125</td>\n",
       "      <td>8.988423</td>\n",
       "      <td>179.325542</td>\n",
       "      <td>58.415434</td>\n",
       "      <td>1285.798599</td>\n",
       "      <td>31.510342</td>\n",
       "      <td>23.972585</td>\n",
       "      <td>49.139755</td>\n",
       "      <td>1106.567216</td>\n",
       "      <td>0.291843</td>\n",
       "      <td>573.605314</td>\n",
       "    </tr>\n",
       "    <tr>\n",
       "      <th>min</th>\n",
       "      <td>1863.000000</td>\n",
       "      <td>0.000000</td>\n",
       "      <td>0.000000</td>\n",
       "      <td>0.000000</td>\n",
       "      <td>-134.000000</td>\n",
       "      <td>0.000000</td>\n",
       "      <td>59.000000</td>\n",
       "      <td>99.000000</td>\n",
       "      <td>0.000000</td>\n",
       "      <td>30.000000</td>\n",
       "      <td>0.000000</td>\n",
       "      <td>-1000.000000</td>\n",
       "    </tr>\n",
       "    <tr>\n",
       "      <th>25%</th>\n",
       "      <td>2284.000000</td>\n",
       "      <td>69.000000</td>\n",
       "      <td>10.000000</td>\n",
       "      <td>42.000000</td>\n",
       "      <td>2.000000</td>\n",
       "      <td>626.000000</td>\n",
       "      <td>200.000000</td>\n",
       "      <td>205.000000</td>\n",
       "      <td>97.000000</td>\n",
       "      <td>661.000000</td>\n",
       "      <td>0.250000</td>\n",
       "      <td>-486.000000</td>\n",
       "    </tr>\n",
       "    <tr>\n",
       "      <th>50%</th>\n",
       "      <td>2686.000000</td>\n",
       "      <td>122.000000</td>\n",
       "      <td>16.000000</td>\n",
       "      <td>150.000000</td>\n",
       "      <td>29.000000</td>\n",
       "      <td>1154.000000</td>\n",
       "      <td>223.000000</td>\n",
       "      <td>222.000000</td>\n",
       "      <td>134.000000</td>\n",
       "      <td>1159.000000</td>\n",
       "      <td>0.490000</td>\n",
       "      <td>27.000000</td>\n",
       "    </tr>\n",
       "    <tr>\n",
       "      <th>75%</th>\n",
       "      <td>2925.000000</td>\n",
       "      <td>237.250000</td>\n",
       "      <td>24.000000</td>\n",
       "      <td>297.000000</td>\n",
       "      <td>79.000000</td>\n",
       "      <td>1973.000000</td>\n",
       "      <td>239.000000</td>\n",
       "      <td>235.000000</td>\n",
       "      <td>164.000000</td>\n",
       "      <td>1861.000000</td>\n",
       "      <td>0.750000</td>\n",
       "      <td>502.000000</td>\n",
       "    </tr>\n",
       "    <tr>\n",
       "      <th>max</th>\n",
       "      <td>3675.000000</td>\n",
       "      <td>359.000000</td>\n",
       "      <td>49.000000</td>\n",
       "      <td>1129.000000</td>\n",
       "      <td>334.000000</td>\n",
       "      <td>6890.000000</td>\n",
       "      <td>254.000000</td>\n",
       "      <td>254.000000</td>\n",
       "      <td>248.000000</td>\n",
       "      <td>6632.000000</td>\n",
       "      <td>1.000000</td>\n",
       "      <td>1000.000000</td>\n",
       "    </tr>\n",
       "  </tbody>\n",
       "</table>\n",
       "</div>"
      ],
      "text/plain": [
       "                X1           X2           X3           X4           X5  \\\n",
       "count  5417.000000  4884.000000  5417.000000  5417.000000  5417.000000   \n",
       "mean   2637.377146   152.327805    17.125900   193.082518    48.614362   \n",
       "std     394.139775   104.950125     8.988423   179.325542    58.415434   \n",
       "min    1863.000000     0.000000     0.000000     0.000000  -134.000000   \n",
       "25%    2284.000000    69.000000    10.000000    42.000000     2.000000   \n",
       "50%    2686.000000   122.000000    16.000000   150.000000    29.000000   \n",
       "75%    2925.000000   237.250000    24.000000   297.000000    79.000000   \n",
       "max    3675.000000   359.000000    49.000000  1129.000000   334.000000   \n",
       "\n",
       "                X6           X7           X8           X9          X10  \\\n",
       "count  5417.000000  5417.000000  5417.000000  5417.000000  5417.000000   \n",
       "mean   1522.395976   215.392284   217.891268   129.884069  1423.800628   \n",
       "std    1285.798599    31.510342    23.972585    49.139755  1106.567216   \n",
       "min       0.000000    59.000000    99.000000     0.000000    30.000000   \n",
       "25%     626.000000   200.000000   205.000000    97.000000   661.000000   \n",
       "50%    1154.000000   223.000000   222.000000   134.000000  1159.000000   \n",
       "75%    1973.000000   239.000000   235.000000   164.000000  1861.000000   \n",
       "max    6890.000000   254.000000   254.000000   248.000000  6632.000000   \n",
       "\n",
       "               X11          X12  \n",
       "count  5417.000000  5417.000000  \n",
       "mean      0.495455    11.626546  \n",
       "std       0.291843   573.605314  \n",
       "min       0.000000 -1000.000000  \n",
       "25%       0.250000  -486.000000  \n",
       "50%       0.490000    27.000000  \n",
       "75%       0.750000   502.000000  \n",
       "max       1.000000  1000.000000  "
      ]
     },
     "execution_count": 18,
     "metadata": {},
     "output_type": "execute_result"
    }
   ],
   "source": [
    "modified_train_set.describe()"
   ]
  },
  {
   "cell_type": "markdown",
   "id": "b06811df",
   "metadata": {},
   "source": [
    "##### KNN Imputer"
   ]
  },
  {
   "cell_type": "code",
   "execution_count": 19,
   "id": "ff63688a",
   "metadata": {},
   "outputs": [
    {
     "name": "stdout",
     "output_type": "stream",
     "text": [
      "<class 'pandas.core.frame.DataFrame'>\n",
      "RangeIndex: 5417 entries, 0 to 5416\n",
      "Data columns (total 15 columns):\n",
      " #   Column  Non-Null Count  Dtype  \n",
      "---  ------  --------------  -----  \n",
      " 0   X1      5417 non-null   int64  \n",
      " 1   X2      4884 non-null   float64\n",
      " 2   X3      5417 non-null   int64  \n",
      " 3   X4      5417 non-null   int64  \n",
      " 4   X5      5417 non-null   int64  \n",
      " 5   X6      5417 non-null   int64  \n",
      " 6   X7      5417 non-null   int64  \n",
      " 7   X8      5417 non-null   int64  \n",
      " 8   X9      5417 non-null   int64  \n",
      " 9   X10     5417 non-null   int64  \n",
      " 10  X11     5417 non-null   float64\n",
      " 11  X12     5417 non-null   int64  \n",
      " 12  X13     5417 non-null   object \n",
      " 13  X14     5417 non-null   object \n",
      " 14  Y       5417 non-null   object \n",
      "dtypes: float64(2), int64(10), object(3)\n",
      "memory usage: 634.9+ KB\n"
     ]
    }
   ],
   "source": [
    "modified_train_set.info()"
   ]
  },
  {
   "cell_type": "code",
   "execution_count": 20,
   "id": "5ffcd859",
   "metadata": {},
   "outputs": [
    {
     "name": "stdout",
     "output_type": "stream",
     "text": [
      "(5417, 12) (5417,)\n"
     ]
    }
   ],
   "source": [
    "from sklearn.model_selection import train_test_split\n",
    "\n",
    "X = modified_train_set.drop(['Y', 'X13', 'X14'], axis=1)\n",
    "Y = modified_train_set['Y']\n",
    "X_train, X_test, y_train, y_test = train_test_split(X, Y, train_size=0.8, random_state=20211008, stratify=Y)\n",
    "print(X.shape,Y.shape)"
   ]
  },
  {
   "cell_type": "markdown",
   "id": "5b544ba4",
   "metadata": {},
   "source": [
    "finding the best number of neighbors"
   ]
  },
  {
   "cell_type": "code",
   "execution_count": 21,
   "id": "85519884",
   "metadata": {},
   "outputs": [
    {
     "name": "stdout",
     "output_type": "stream",
     "text": [
      ">1 0.905 (0.013)\n",
      ">3 0.905 (0.014)\n",
      ">5 0.905 (0.013)\n",
      ">7 0.905 (0.016)\n",
      ">9 0.905 (0.014)\n",
      ">15 0.906 (0.015)\n",
      ">18 0.905 (0.013)\n",
      ">21 0.905 (0.013)\n"
     ]
    },
    {
     "data": {
      "image/png": "[encoded data removed]",
      "text/plain": [
       "<Figure size 432x288 with 1 Axes>"
      ]
     },
     "metadata": {
      "needs_background": "light"
     },
     "output_type": "display_data"
    }
   ],
   "source": [
    "from sklearn.ensemble import RandomForestClassifier\n",
    "from sklearn.impute import KNNImputer\n",
    "from sklearn.model_selection import cross_val_score\n",
    "from sklearn.model_selection import RepeatedStratifiedKFold\n",
    "from sklearn.pipeline import Pipeline\n",
    "results = list()\n",
    "strategies = [str(i) for i in [1,3,5,7,9,15,18,21]]\n",
    "for s in strategies:\n",
    "    # create the modeling pipeline\n",
    "    pipeline = Pipeline(steps=[('i', KNNImputer(n_neighbors=int(s), weights='distance')), ('m', RandomForestClassifier())])\n",
    "    # evaluate the model\n",
    "    cv = RepeatedStratifiedKFold(n_splits=10, n_repeats=3, random_state=1)\n",
    "    scores = cross_val_score(pipeline, X_train, y_train, scoring='accuracy', cv=cv, n_jobs=-1)\n",
    "    # store results\n",
    "    results.append(scores)\n",
    "    print('>%s %.3f (%.3f)' % (s, np.mean(scores), np.std(scores)))\n",
    "# plot model performance for comparison\n",
    "plt.boxplot(results, labels=strategies, showmeans=True)\n",
    "plt.show()"
   ]
  },
  {
   "cell_type": "markdown",
   "id": "91a81be7",
   "metadata": {},
   "source": [
    "as shown above, its 7"
   ]
  },
  {
   "cell_type": "code",
   "execution_count": 22,
   "id": "bec735b4",
   "metadata": {
    "scrolled": false
   },
   "outputs": [
    {
     "data": {
      "text/html": [
       "<div>\n",
       "<style scoped>\n",
       "    .dataframe tbody tr th:only-of-type {\n",
       "        vertical-align: middle;\n",
       "    }\n",
       "\n",
       "    .dataframe tbody tr th {\n",
       "        vertical-align: top;\n",
       "    }\n",
       "\n",
       "    .dataframe thead th {\n",
       "        text-align: right;\n",
       "    }\n",
       "</style>\n",
       "<table border=\"1\" class=\"dataframe\">\n",
       "  <thead>\n",
       "    <tr style=\"text-align: right;\">\n",
       "      <th></th>\n",
       "      <th>X1</th>\n",
       "      <th>X2</th>\n",
       "      <th>X3</th>\n",
       "      <th>X4</th>\n",
       "      <th>X5</th>\n",
       "      <th>X6</th>\n",
       "      <th>X7</th>\n",
       "      <th>X8</th>\n",
       "      <th>X9</th>\n",
       "      <th>X10</th>\n",
       "      <th>X11</th>\n",
       "      <th>X12</th>\n",
       "    </tr>\n",
       "  </thead>\n",
       "  <tbody>\n",
       "    <tr>\n",
       "      <th>count</th>\n",
       "      <td>5417.000000</td>\n",
       "      <td>5417.000000</td>\n",
       "      <td>5417.000000</td>\n",
       "      <td>5417.000000</td>\n",
       "      <td>5417.000000</td>\n",
       "      <td>5417.000000</td>\n",
       "      <td>5417.000000</td>\n",
       "      <td>5417.000000</td>\n",
       "      <td>5417.000000</td>\n",
       "      <td>5417.000000</td>\n",
       "      <td>5417.000000</td>\n",
       "      <td>5417.000000</td>\n",
       "    </tr>\n",
       "    <tr>\n",
       "      <th>mean</th>\n",
       "      <td>2637.377146</td>\n",
       "      <td>151.618956</td>\n",
       "      <td>17.125900</td>\n",
       "      <td>193.082518</td>\n",
       "      <td>48.614362</td>\n",
       "      <td>1522.395976</td>\n",
       "      <td>215.392284</td>\n",
       "      <td>217.891268</td>\n",
       "      <td>129.884069</td>\n",
       "      <td>1423.800628</td>\n",
       "      <td>0.495455</td>\n",
       "      <td>11.626546</td>\n",
       "    </tr>\n",
       "    <tr>\n",
       "      <th>std</th>\n",
       "      <td>394.139775</td>\n",
       "      <td>101.196096</td>\n",
       "      <td>8.988423</td>\n",
       "      <td>179.325542</td>\n",
       "      <td>58.415434</td>\n",
       "      <td>1285.798599</td>\n",
       "      <td>31.510342</td>\n",
       "      <td>23.972585</td>\n",
       "      <td>49.139755</td>\n",
       "      <td>1106.567216</td>\n",
       "      <td>0.291843</td>\n",
       "      <td>573.605314</td>\n",
       "    </tr>\n",
       "    <tr>\n",
       "      <th>min</th>\n",
       "      <td>1863.000000</td>\n",
       "      <td>0.000000</td>\n",
       "      <td>0.000000</td>\n",
       "      <td>0.000000</td>\n",
       "      <td>-134.000000</td>\n",
       "      <td>0.000000</td>\n",
       "      <td>59.000000</td>\n",
       "      <td>99.000000</td>\n",
       "      <td>0.000000</td>\n",
       "      <td>30.000000</td>\n",
       "      <td>0.000000</td>\n",
       "      <td>-1000.000000</td>\n",
       "    </tr>\n",
       "    <tr>\n",
       "      <th>25%</th>\n",
       "      <td>2284.000000</td>\n",
       "      <td>73.000000</td>\n",
       "      <td>10.000000</td>\n",
       "      <td>42.000000</td>\n",
       "      <td>2.000000</td>\n",
       "      <td>626.000000</td>\n",
       "      <td>200.000000</td>\n",
       "      <td>205.000000</td>\n",
       "      <td>97.000000</td>\n",
       "      <td>661.000000</td>\n",
       "      <td>0.250000</td>\n",
       "      <td>-486.000000</td>\n",
       "    </tr>\n",
       "    <tr>\n",
       "      <th>50%</th>\n",
       "      <td>2686.000000</td>\n",
       "      <td>125.000000</td>\n",
       "      <td>16.000000</td>\n",
       "      <td>150.000000</td>\n",
       "      <td>29.000000</td>\n",
       "      <td>1154.000000</td>\n",
       "      <td>223.000000</td>\n",
       "      <td>222.000000</td>\n",
       "      <td>134.000000</td>\n",
       "      <td>1159.000000</td>\n",
       "      <td>0.490000</td>\n",
       "      <td>27.000000</td>\n",
       "    </tr>\n",
       "    <tr>\n",
       "      <th>75%</th>\n",
       "      <td>2925.000000</td>\n",
       "      <td>225.000000</td>\n",
       "      <td>24.000000</td>\n",
       "      <td>297.000000</td>\n",
       "      <td>79.000000</td>\n",
       "      <td>1973.000000</td>\n",
       "      <td>239.000000</td>\n",
       "      <td>235.000000</td>\n",
       "      <td>164.000000</td>\n",
       "      <td>1861.000000</td>\n",
       "      <td>0.750000</td>\n",
       "      <td>502.000000</td>\n",
       "    </tr>\n",
       "    <tr>\n",
       "      <th>max</th>\n",
       "      <td>3675.000000</td>\n",
       "      <td>359.000000</td>\n",
       "      <td>49.000000</td>\n",
       "      <td>1129.000000</td>\n",
       "      <td>334.000000</td>\n",
       "      <td>6890.000000</td>\n",
       "      <td>254.000000</td>\n",
       "      <td>254.000000</td>\n",
       "      <td>248.000000</td>\n",
       "      <td>6632.000000</td>\n",
       "      <td>1.000000</td>\n",
       "      <td>1000.000000</td>\n",
       "    </tr>\n",
       "  </tbody>\n",
       "</table>\n",
       "</div>"
      ],
      "text/plain": [
       "                X1           X2           X3           X4           X5  \\\n",
       "count  5417.000000  5417.000000  5417.000000  5417.000000  5417.000000   \n",
       "mean   2637.377146   151.618956    17.125900   193.082518    48.614362   \n",
       "std     394.139775   101.196096     8.988423   179.325542    58.415434   \n",
       "min    1863.000000     0.000000     0.000000     0.000000  -134.000000   \n",
       "25%    2284.000000    73.000000    10.000000    42.000000     2.000000   \n",
       "50%    2686.000000   125.000000    16.000000   150.000000    29.000000   \n",
       "75%    2925.000000   225.000000    24.000000   297.000000    79.000000   \n",
       "max    3675.000000   359.000000    49.000000  1129.000000   334.000000   \n",
       "\n",
       "                X6           X7           X8           X9          X10  \\\n",
       "count  5417.000000  5417.000000  5417.000000  5417.000000  5417.000000   \n",
       "mean   1522.395976   215.392284   217.891268   129.884069  1423.800628   \n",
       "std    1285.798599    31.510342    23.972585    49.139755  1106.567216   \n",
       "min       0.000000    59.000000    99.000000     0.000000    30.000000   \n",
       "25%     626.000000   200.000000   205.000000    97.000000   661.000000   \n",
       "50%    1154.000000   223.000000   222.000000   134.000000  1159.000000   \n",
       "75%    1973.000000   239.000000   235.000000   164.000000  1861.000000   \n",
       "max    6890.000000   254.000000   254.000000   248.000000  6632.000000   \n",
       "\n",
       "               X11          X12  \n",
       "count  5417.000000  5417.000000  \n",
       "mean      0.495455    11.626546  \n",
       "std       0.291843   573.605314  \n",
       "min       0.000000 -1000.000000  \n",
       "25%       0.250000  -486.000000  \n",
       "50%       0.490000    27.000000  \n",
       "75%       0.750000   502.000000  \n",
       "max       1.000000  1000.000000  "
      ]
     },
     "execution_count": 22,
     "metadata": {},
     "output_type": "execute_result"
    }
   ],
   "source": [
    "from sklearn.impute import KNNImputer\n",
    "\n",
    "KNN_imputer = KNNImputer(n_neighbors=7, weights='distance')\n",
    "KNN_imputer.fit(modified_train_set.drop(['X13', 'X14', 'Y'], axis=1))\n",
    "KNN_imputed_dataset = KNN_imputer.transform(modified_train_set.drop(['X13', 'X14', 'Y'], axis=1))\n",
    "\n",
    "KNN_imputed_dataset = pd.DataFrame(KNN_imputed_dataset, columns=modified_train_set.columns[0:12])\n",
    "\n",
    "KNN_imputed_dataset = pd.concat([KNN_imputed_dataset, modified_train_set['X13'],modified_train_set['X14'],modified_train_set['Y']], axis=1)\n",
    "\n",
    "KNN_imputed_dataset.describe()"
   ]
  },
  {
   "cell_type": "code",
   "execution_count": 23,
   "id": "5e9beb7c",
   "metadata": {
    "scrolled": true
   },
   "outputs": [
    {
     "name": "stdout",
     "output_type": "stream",
     "text": [
      "<class 'pandas.core.frame.DataFrame'>\n",
      "RangeIndex: 5417 entries, 0 to 5416\n",
      "Data columns (total 15 columns):\n",
      " #   Column  Non-Null Count  Dtype  \n",
      "---  ------  --------------  -----  \n",
      " 0   X1      5417 non-null   float64\n",
      " 1   X2      5417 non-null   float64\n",
      " 2   X3      5417 non-null   float64\n",
      " 3   X4      5417 non-null   float64\n",
      " 4   X5      5417 non-null   float64\n",
      " 5   X6      5417 non-null   float64\n",
      " 6   X7      5417 non-null   float64\n",
      " 7   X8      5417 non-null   float64\n",
      " 8   X9      5417 non-null   float64\n",
      " 9   X10     5417 non-null   float64\n",
      " 10  X11     5417 non-null   float64\n",
      " 11  X12     5417 non-null   float64\n",
      " 12  X13     5417 non-null   object \n",
      " 13  X14     5417 non-null   object \n",
      " 14  Y       5417 non-null   object \n",
      "dtypes: float64(12), object(3)\n",
      "memory usage: 634.9+ KB\n"
     ]
    }
   ],
   "source": [
    "KNN_imputed_dataset.info()"
   ]
  },
  {
   "cell_type": "code",
   "execution_count": 59,
   "id": "e46241d1",
   "metadata": {
    "scrolled": true
   },
   "outputs": [
    {
     "data": {
      "image/png": "[encoded data removed]",
      "text/plain": [
       "<Figure size 720x288 with 2 Axes>"
      ]
     },
     "metadata": {
      "needs_background": "light"
     },
     "output_type": "display_data"
    }
   ],
   "source": [
    "plt.figure(figsize=(10, 4))  # Adjust the figure size as needed\n",
    "sns.boxplot(data=KNN_imputed_dataset['X2'], ax=plt.subplot(121)) # 1 row, 2 columns, subplot 1\n",
    "plt.title(\"KNN IMPUTER n=7\")\n",
    "\n",
    "# Create the second plot using Seaborn\n",
    "sns.boxplot(data=modified_train_set['X2'], ax=plt.subplot(122)) # 1 row, 2 columns, subplot 2\n",
    "plt.title(\"Normal\")\n",
    "\n",
    "# Adjust layout to prevent overlapping\n",
    "plt.tight_layout()\n",
    "\n",
    "# Show the plots\n",
    "plt.show()"
   ]
  },
  {
   "cell_type": "markdown",
   "id": "6601e31e",
   "metadata": {},
   "source": [
    "<hr>\n",
    "\n",
    "###### MICE Imputer"
   ]
  },
  {
   "cell_type": "code",
   "execution_count": 25,
   "id": "ffd48d26",
   "metadata": {
    "scrolled": true
   },
   "outputs": [
    {
     "data": {
      "text/html": [
       "<div>\n",
       "<style scoped>\n",
       "    .dataframe tbody tr th:only-of-type {\n",
       "        vertical-align: middle;\n",
       "    }\n",
       "\n",
       "    .dataframe tbody tr th {\n",
       "        vertical-align: top;\n",
       "    }\n",
       "\n",
       "    .dataframe thead th {\n",
       "        text-align: right;\n",
       "    }\n",
       "</style>\n",
       "<table border=\"1\" class=\"dataframe\">\n",
       "  <thead>\n",
       "    <tr style=\"text-align: right;\">\n",
       "      <th></th>\n",
       "      <th>X1</th>\n",
       "      <th>X2</th>\n",
       "      <th>X3</th>\n",
       "      <th>X4</th>\n",
       "      <th>X5</th>\n",
       "      <th>X6</th>\n",
       "      <th>X7</th>\n",
       "      <th>X8</th>\n",
       "      <th>X9</th>\n",
       "      <th>X10</th>\n",
       "      <th>X11</th>\n",
       "      <th>X12</th>\n",
       "    </tr>\n",
       "  </thead>\n",
       "  <tbody>\n",
       "    <tr>\n",
       "      <th>count</th>\n",
       "      <td>5417.000000</td>\n",
       "      <td>5417.000000</td>\n",
       "      <td>5417.000000</td>\n",
       "      <td>5417.000000</td>\n",
       "      <td>5417.000000</td>\n",
       "      <td>5417.000000</td>\n",
       "      <td>5417.000000</td>\n",
       "      <td>5417.000000</td>\n",
       "      <td>5417.000000</td>\n",
       "      <td>5417.000000</td>\n",
       "      <td>5417.000000</td>\n",
       "      <td>5417.000000</td>\n",
       "    </tr>\n",
       "    <tr>\n",
       "      <th>mean</th>\n",
       "      <td>2637.377146</td>\n",
       "      <td>152.218196</td>\n",
       "      <td>17.125900</td>\n",
       "      <td>193.082518</td>\n",
       "      <td>48.614362</td>\n",
       "      <td>1522.395976</td>\n",
       "      <td>215.392284</td>\n",
       "      <td>217.891268</td>\n",
       "      <td>129.884069</td>\n",
       "      <td>1423.800628</td>\n",
       "      <td>0.495455</td>\n",
       "      <td>11.626546</td>\n",
       "    </tr>\n",
       "    <tr>\n",
       "      <th>std</th>\n",
       "      <td>394.139775</td>\n",
       "      <td>102.381771</td>\n",
       "      <td>8.988423</td>\n",
       "      <td>179.325542</td>\n",
       "      <td>58.415434</td>\n",
       "      <td>1285.798599</td>\n",
       "      <td>31.510342</td>\n",
       "      <td>23.972585</td>\n",
       "      <td>49.139755</td>\n",
       "      <td>1106.567216</td>\n",
       "      <td>0.291843</td>\n",
       "      <td>573.605314</td>\n",
       "    </tr>\n",
       "    <tr>\n",
       "      <th>min</th>\n",
       "      <td>1863.000000</td>\n",
       "      <td>-7.589103</td>\n",
       "      <td>0.000000</td>\n",
       "      <td>0.000000</td>\n",
       "      <td>-134.000000</td>\n",
       "      <td>0.000000</td>\n",
       "      <td>59.000000</td>\n",
       "      <td>99.000000</td>\n",
       "      <td>0.000000</td>\n",
       "      <td>30.000000</td>\n",
       "      <td>0.000000</td>\n",
       "      <td>-1000.000000</td>\n",
       "    </tr>\n",
       "    <tr>\n",
       "      <th>25%</th>\n",
       "      <td>2284.000000</td>\n",
       "      <td>73.000000</td>\n",
       "      <td>10.000000</td>\n",
       "      <td>42.000000</td>\n",
       "      <td>2.000000</td>\n",
       "      <td>626.000000</td>\n",
       "      <td>200.000000</td>\n",
       "      <td>205.000000</td>\n",
       "      <td>97.000000</td>\n",
       "      <td>661.000000</td>\n",
       "      <td>0.250000</td>\n",
       "      <td>-486.000000</td>\n",
       "    </tr>\n",
       "    <tr>\n",
       "      <th>50%</th>\n",
       "      <td>2686.000000</td>\n",
       "      <td>124.000000</td>\n",
       "      <td>16.000000</td>\n",
       "      <td>150.000000</td>\n",
       "      <td>29.000000</td>\n",
       "      <td>1154.000000</td>\n",
       "      <td>223.000000</td>\n",
       "      <td>222.000000</td>\n",
       "      <td>134.000000</td>\n",
       "      <td>1159.000000</td>\n",
       "      <td>0.490000</td>\n",
       "      <td>27.000000</td>\n",
       "    </tr>\n",
       "    <tr>\n",
       "      <th>75%</th>\n",
       "      <td>2925.000000</td>\n",
       "      <td>229.000000</td>\n",
       "      <td>24.000000</td>\n",
       "      <td>297.000000</td>\n",
       "      <td>79.000000</td>\n",
       "      <td>1973.000000</td>\n",
       "      <td>239.000000</td>\n",
       "      <td>235.000000</td>\n",
       "      <td>164.000000</td>\n",
       "      <td>1861.000000</td>\n",
       "      <td>0.750000</td>\n",
       "      <td>502.000000</td>\n",
       "    </tr>\n",
       "    <tr>\n",
       "      <th>max</th>\n",
       "      <td>3675.000000</td>\n",
       "      <td>405.225368</td>\n",
       "      <td>49.000000</td>\n",
       "      <td>1129.000000</td>\n",
       "      <td>334.000000</td>\n",
       "      <td>6890.000000</td>\n",
       "      <td>254.000000</td>\n",
       "      <td>254.000000</td>\n",
       "      <td>248.000000</td>\n",
       "      <td>6632.000000</td>\n",
       "      <td>1.000000</td>\n",
       "      <td>1000.000000</td>\n",
       "    </tr>\n",
       "  </tbody>\n",
       "</table>\n",
       "</div>"
      ],
      "text/plain": [
       "                X1           X2           X3           X4           X5  \\\n",
       "count  5417.000000  5417.000000  5417.000000  5417.000000  5417.000000   \n",
       "mean   2637.377146   152.218196    17.125900   193.082518    48.614362   \n",
       "std     394.139775   102.381771     8.988423   179.325542    58.415434   \n",
       "min    1863.000000    -7.589103     0.000000     0.000000  -134.000000   \n",
       "25%    2284.000000    73.000000    10.000000    42.000000     2.000000   \n",
       "50%    2686.000000   124.000000    16.000000   150.000000    29.000000   \n",
       "75%    2925.000000   229.000000    24.000000   297.000000    79.000000   \n",
       "max    3675.000000   405.225368    49.000000  1129.000000   334.000000   \n",
       "\n",
       "                X6           X7           X8           X9          X10  \\\n",
       "count  5417.000000  5417.000000  5417.000000  5417.000000  5417.000000   \n",
       "mean   1522.395976   215.392284   217.891268   129.884069  1423.800628   \n",
       "std    1285.798599    31.510342    23.972585    49.139755  1106.567216   \n",
       "min       0.000000    59.000000    99.000000     0.000000    30.000000   \n",
       "25%     626.000000   200.000000   205.000000    97.000000   661.000000   \n",
       "50%    1154.000000   223.000000   222.000000   134.000000  1159.000000   \n",
       "75%    1973.000000   239.000000   235.000000   164.000000  1861.000000   \n",
       "max    6890.000000   254.000000   254.000000   248.000000  6632.000000   \n",
       "\n",
       "               X11          X12  \n",
       "count  5417.000000  5417.000000  \n",
       "mean      0.495455    11.626546  \n",
       "std       0.291843   573.605314  \n",
       "min       0.000000 -1000.000000  \n",
       "25%       0.250000  -486.000000  \n",
       "50%       0.490000    27.000000  \n",
       "75%       0.750000   502.000000  \n",
       "max       1.000000  1000.000000  "
      ]
     },
     "execution_count": 25,
     "metadata": {},
     "output_type": "execute_result"
    }
   ],
   "source": [
    "from sklearn.experimental import enable_iterative_imputer\n",
    "from sklearn.impute import IterativeImputer\n",
    "\n",
    "MICE_imputer = IterativeImputer(imputation_order='random',max_iter=10,random_state=777,n_nearest_features=None)\n",
    "MICE_imputed_dataset = MICE_imputer.fit_transform(modified_train_set.drop(['X13', 'X14', 'Y'], axis=1))\n",
    "\n",
    "MICE_imputed_dataset = pd.DataFrame(MICE_imputed_dataset, columns=modified_train_set.columns[0:12])\n",
    "\n",
    "MICE_imputed_dataset = pd.concat([MICE_imputed_dataset, modified_train_set['X13'],modified_train_set['X14'],modified_train_set['Y']], axis=1)\n",
    "\n",
    "\n",
    "MICE_imputed_dataset.describe()"
   ]
  },
  {
   "cell_type": "code",
   "execution_count": 57,
   "id": "6f495202",
   "metadata": {},
   "outputs": [
    {
     "data": {
      "image/png": "[encoded data removed]",
      "text/plain": [
       "<Figure size 720x288 with 2 Axes>"
      ]
     },
     "metadata": {
      "needs_background": "light"
     },
     "output_type": "display_data"
    }
   ],
   "source": [
    "plt.figure(figsize=(10, 4))  # Adjust the figure size as needed\n",
    "sns.boxplot(data=MICE_imputed_dataset['X2'], ax=plt.subplot(121)) # 1 row, 2 columns, subplot 1\n",
    "plt.title(\"MICE IMPUTER\")\n",
    "\n",
    "# Create the second plot using Seaborn\n",
    "sns.boxplot(data=modified_train_set['X2'], ax=plt.subplot(122)) # 1 row, 2 columns, subplot 2\n",
    "plt.title(\"Normal\")\n",
    "\n",
    "# Adjust layout to prevent overlapping\n",
    "plt.tight_layout()\n",
    "\n",
    "# Show the plots\n",
    "plt.show()"
   ]
  },
  {
   "cell_type": "markdown",
   "id": "c44e6923",
   "metadata": {},
   "source": [
    "#### Conclusion \n",
    "\n",
    "<strong>Based on our criteria KNN did not change the max and min values of the feature, hence we will impute using KNN </strong>\n"
   ]
  },
  {
   "cell_type": "code",
   "execution_count": 27,
   "id": "cce8536f",
   "metadata": {},
   "outputs": [],
   "source": [
    "cleaned_train_set = KNN_imputed_dataset.copy()\n",
    "\n",
    "KNN_imputed_dataset = KNN_imputer.transform(modified_test_set.drop(['X13', 'X14', 'Y'], axis=1))\n",
    "KNN_imputed_dataset = pd.DataFrame(KNN_imputed_dataset, columns=modified_test_set.columns[0:12])\n",
    "KNN_imputed_dataset = pd.concat([KNN_imputed_dataset, modified_test_set['X13'],modified_test_set['X14'],modified_test_set['Y']], axis=1)\n",
    "\n",
    "cleaned_test_set = KNN_imputed_dataset.copy()\n"
   ]
  },
  {
   "cell_type": "code",
   "execution_count": 28,
   "id": "3e945ef3",
   "metadata": {},
   "outputs": [
    {
     "name": "stdout",
     "output_type": "stream",
     "text": [
      "<class 'pandas.core.frame.DataFrame'>\n",
      "RangeIndex: 5417 entries, 0 to 5416\n",
      "Data columns (total 15 columns):\n",
      " #   Column  Non-Null Count  Dtype  \n",
      "---  ------  --------------  -----  \n",
      " 0   X1      5417 non-null   float64\n",
      " 1   X2      5417 non-null   float64\n",
      " 2   X3      5417 non-null   float64\n",
      " 3   X4      5417 non-null   float64\n",
      " 4   X5      5417 non-null   float64\n",
      " 5   X6      5417 non-null   float64\n",
      " 6   X7      5417 non-null   float64\n",
      " 7   X8      5417 non-null   float64\n",
      " 8   X9      5417 non-null   float64\n",
      " 9   X10     5417 non-null   float64\n",
      " 10  X11     5417 non-null   float64\n",
      " 11  X12     5417 non-null   float64\n",
      " 12  X13     5417 non-null   object \n",
      " 13  X14     5417 non-null   object \n",
      " 14  Y       5417 non-null   object \n",
      "dtypes: float64(12), object(3)\n",
      "memory usage: 634.9+ KB\n"
     ]
    }
   ],
   "source": [
    "cleaned_train_set.info()"
   ]
  },
  {
   "cell_type": "code",
   "execution_count": 29,
   "id": "5c7c4069",
   "metadata": {},
   "outputs": [
    {
     "name": "stdout",
     "output_type": "stream",
     "text": [
      "<class 'pandas.core.frame.DataFrame'>\n",
      "RangeIndex: 957 entries, 0 to 956\n",
      "Data columns (total 15 columns):\n",
      " #   Column  Non-Null Count  Dtype  \n",
      "---  ------  --------------  -----  \n",
      " 0   X1      957 non-null    float64\n",
      " 1   X2      957 non-null    float64\n",
      " 2   X3      957 non-null    float64\n",
      " 3   X4      957 non-null    float64\n",
      " 4   X5      957 non-null    float64\n",
      " 5   X6      957 non-null    float64\n",
      " 6   X7      957 non-null    float64\n",
      " 7   X8      957 non-null    float64\n",
      " 8   X9      957 non-null    float64\n",
      " 9   X10     957 non-null    float64\n",
      " 10  X11     957 non-null    float64\n",
      " 11  X12     957 non-null    float64\n",
      " 12  X13     957 non-null    object \n",
      " 13  X14     957 non-null    object \n",
      " 14  Y       957 non-null    object \n",
      "dtypes: float64(12), object(3)\n",
      "memory usage: 112.3+ KB\n"
     ]
    }
   ],
   "source": [
    "cleaned_test_set.info()"
   ]
  },
  {
   "cell_type": "markdown",
   "id": "3d5f45cf",
   "metadata": {},
   "source": [
    "<hr>\n",
    "\n",
    "#### Encoding Categorical Features\n",
    "\n",
    "Categorical Features can be considered as gathered information that is divided into groups. For example, gender is categorical Feature made up of two groups: [Male, Female]\n",
    "\n",
    "There can be two kinds of categorical data:\n",
    "\n",
    "- **Nominal**: This type of categorical data consists of the name variable without any numerical values. for example: hair color\n",
    "\n",
    "- **Ordinal**: This type of categorical data consists of a set of orders or scales. For example: shirt sizes.\n",
    "\n",
    "\n",
    "\n",
    "##### Encoding Methods:\n",
    "\n",
    "This type of encoding used depends on when the feature is ordinal or nominal.\n",
    "\n",
    "\n",
    "- **Ordinal Encoding**: This type of encoding is used when the variables in the data are ordinal, ordinal encoding converts each label into integer values and the encoded data represents the sequence of labels.\n",
    "\n",
    "\n",
    "- **One-Hot Encoding**: In One-Hot Encoding, each category of any categorical variable gets a new variable. It maps each category with binary numbers (0 or 1). This type of encoding is used when the data is nominal. \n",
    "\n",
    "\n",
    "- **Hash Encoder**: Just like One-Hot encoding, the hash encoder converts the category into binary numbers using new data variables but here we can fix the number of new data variables. it may cause loss of information from the data.\n",
    "\n",
    "\n",
    "- **Binary Encoding**: In the hash encoding, we have seen that using hashing can cause the loss of data and on the other hand we have seen in one hot encoding dimensionality of the data is increasing. The binary encoding is a process where we can perform hash encoding look like encoding without losing the information just like one hot encoding.\n",
    "\n",
    "\n",
    "\n",
    "Resources: \n",
    "\n",
    "- https://contrib.scikit-learn.org/category_encoders/\n",
    "\n",
    "\n",
    "- https://analyticsindiamag.com/a-complete-guide-to-categorical-data-encoding/\n",
    "\n",
    "\n",
    "**Categorical Features**: \n",
    "\n",
    "- Feature `X13` has the following unique values: [FC11, FC12, FC13, FC14]\n",
    "- Feature `X14` has the following unqiue values: [' CA49', ' CA50', ' CA26', ' CA32', ' CA38', ' CA42', ' CA37',' CA23', ' CA24', ' CA21', ' CA43', ' CA22', ' CA36', ' CA33',' CA44', ' CA59', ' CA30', ' CA40', ' CA51', ' CA52', ' CA31',' CA58', ' CA25', ' CA39', ' CA53', ' CA60', ' CA46', ' CA54',' CA34', ' CA41', ' CA48', ' CA55']\n",
    "\n",
    "<strong> feature `X13` has the following properties:</strong>\n",
    "\n",
    "- labels range from 1 to 4 (all have FC1), you could assume that the it is Ordinal.\n",
    "- labels can easily be mapped to numerical values (ranges from 1 to 4)\n",
    "- the nature of the feature is **NOT KNOWN**\n",
    "\n",
    "\n",
    "- <strong>Since we DO NOT know the nature of the features we cannot assume an ordinal or some sort of range that can be translated to numerical values. So we will use *One Hot Encoding*</strong>\n",
    "\n",
    "<strong> feature `X14` has the following properties:</strong>\n",
    "\n",
    "- labels have numerical values (e.g. CA21)\n",
    "- labels can easily be mapped to numerical values (ranges from 21 to 60)\n",
    "- the nature of the feature is **NOT KNOWN**\n",
    "\n",
    "\n",
    "- <strong>Since we DO NOT know the nature of the features we cannot confidently select an encoding method. So we will use *One Hot Encoding*</strong>\n",
    "\n",
    "\n",
    "\n"
   ]
  },
  {
   "cell_type": "code",
   "execution_count": 30,
   "id": "9a378653",
   "metadata": {},
   "outputs": [
    {
     "data": {
      "text/plain": [
       "array([' FC14', ' FC13', ' FC12', ' FC11'], dtype=object)"
      ]
     },
     "execution_count": 30,
     "metadata": {},
     "output_type": "execute_result"
    }
   ],
   "source": [
    "cleaned_train_set['X13'].unique()"
   ]
  },
  {
   "cell_type": "code",
   "execution_count": 31,
   "id": "9b306c4f",
   "metadata": {
    "scrolled": true
   },
   "outputs": [
    {
     "data": {
      "text/plain": [
       "array([' CA37', ' CA43', ' CA21', ' CA30', ' CA44', ' CA49', ' CA59',\n",
       "       ' CA26', ' CA22', ' CA23', ' CA53', ' CA33', ' CA31', ' CA25',\n",
       "       ' CA50', ' CA32', ' CA58', ' CA51', ' CA24', ' CA34', ' CA38',\n",
       "       ' CA39', ' CA36', ' CA54', ' CA52', ' CA42', ' CA40', ' CA41',\n",
       "       ' CA60', ' CA46', ' CA55', ' CA48'], dtype=object)"
      ]
     },
     "execution_count": 31,
     "metadata": {},
     "output_type": "execute_result"
    }
   ],
   "source": [
    "cleaned_train_set['X14'].unique()\n"
   ]
  },
  {
   "cell_type": "code",
   "execution_count": 32,
   "id": "54a50564",
   "metadata": {},
   "outputs": [
    {
     "data": {
      "text/plain": [
       "[' CA23',\n",
       " ' CA38',\n",
       " ' CA37',\n",
       " ' CA30',\n",
       " ' CA24',\n",
       " ' CA22',\n",
       " ' CA50',\n",
       " ' CA31',\n",
       " ' CA53',\n",
       " ' CA32',\n",
       " ' CA42',\n",
       " ' CA40',\n",
       " ' CA43',\n",
       " ' CA49',\n",
       " ' CA33',\n",
       " ' CA21',\n",
       " ' CA36',\n",
       " ' CA26',\n",
       " ' CA34',\n",
       " ' CA52',\n",
       " ' CA25',\n",
       " ' CA51',\n",
       " ' CA58',\n",
       " ' CA59',\n",
       " ' CA44',\n",
       " ' CA39',\n",
       " ' CA46',\n",
       " ' CA60',\n",
       " ' CA41',\n",
       " ' CA48']"
      ]
     },
     "execution_count": 32,
     "metadata": {},
     "output_type": "execute_result"
    }
   ],
   "source": [
    "list(modified_test_set['X14'].unique())"
   ]
  },
  {
   "cell_type": "code",
   "execution_count": 33,
   "id": "6d811ce1",
   "metadata": {},
   "outputs": [
    {
     "data": {
      "text/plain": [
       "([' FC11', ' FC12', ' FC13', ' FC14'],\n",
       " [' CA21',\n",
       "  ' CA22',\n",
       "  ' CA23',\n",
       "  ' CA24',\n",
       "  ' CA25',\n",
       "  ' CA26',\n",
       "  ' CA30',\n",
       "  ' CA31',\n",
       "  ' CA32',\n",
       "  ' CA33',\n",
       "  ' CA34',\n",
       "  ' CA36',\n",
       "  ' CA37',\n",
       "  ' CA38',\n",
       "  ' CA39',\n",
       "  ' CA40',\n",
       "  ' CA41',\n",
       "  ' CA42',\n",
       "  ' CA43',\n",
       "  ' CA44',\n",
       "  ' CA46',\n",
       "  ' CA48',\n",
       "  ' CA49',\n",
       "  ' CA50',\n",
       "  ' CA51',\n",
       "  ' CA52',\n",
       "  ' CA53',\n",
       "  ' CA54',\n",
       "  ' CA55',\n",
       "  ' CA58',\n",
       "  ' CA59',\n",
       "  ' CA60'])"
      ]
     },
     "execution_count": 33,
     "metadata": {},
     "output_type": "execute_result"
    }
   ],
   "source": [
    "possible_X13_categories = list(np.unique(np.concatenate((cleaned_train_set['X13'].unique(), modified_test_set['X13'].unique()))))\n",
    "possible_X14_categories = list(np.unique(np.concatenate((cleaned_train_set['X14'].unique(), modified_test_set['X14'].unique()))))\n",
    "\n",
    "possible_X13_categories, possible_X14_categories"
   ]
  },
  {
   "cell_type": "code",
   "execution_count": 34,
   "id": "72cec88f",
   "metadata": {},
   "outputs": [
    {
     "data": {
      "text/html": [
       "<div>\n",
       "<style scoped>\n",
       "    .dataframe tbody tr th:only-of-type {\n",
       "        vertical-align: middle;\n",
       "    }\n",
       "\n",
       "    .dataframe tbody tr th {\n",
       "        vertical-align: top;\n",
       "    }\n",
       "\n",
       "    .dataframe thead th {\n",
       "        text-align: right;\n",
       "    }\n",
       "</style>\n",
       "<table border=\"1\" class=\"dataframe\">\n",
       "  <thead>\n",
       "    <tr style=\"text-align: right;\">\n",
       "      <th></th>\n",
       "      <th>X1</th>\n",
       "      <th>X2</th>\n",
       "      <th>X3</th>\n",
       "      <th>X4</th>\n",
       "      <th>X5</th>\n",
       "      <th>X6</th>\n",
       "      <th>X7</th>\n",
       "      <th>X8</th>\n",
       "      <th>X9</th>\n",
       "      <th>X10</th>\n",
       "      <th>X11</th>\n",
       "      <th>X12</th>\n",
       "      <th>X13</th>\n",
       "      <th>X14</th>\n",
       "      <th>Y</th>\n",
       "    </tr>\n",
       "  </thead>\n",
       "  <tbody>\n",
       "    <tr>\n",
       "      <th>0</th>\n",
       "      <td>2011.0</td>\n",
       "      <td>58.0</td>\n",
       "      <td>9.0</td>\n",
       "      <td>0.0</td>\n",
       "      <td>0.0</td>\n",
       "      <td>382.0</td>\n",
       "      <td>227.0</td>\n",
       "      <td>222.0</td>\n",
       "      <td>129.0</td>\n",
       "      <td>446.0</td>\n",
       "      <td>0.49</td>\n",
       "      <td>881.0</td>\n",
       "      <td>FC14</td>\n",
       "      <td>CA37</td>\n",
       "      <td>Carrot</td>\n",
       "    </tr>\n",
       "    <tr>\n",
       "      <th>1</th>\n",
       "      <td>2910.0</td>\n",
       "      <td>356.0</td>\n",
       "      <td>8.0</td>\n",
       "      <td>42.0</td>\n",
       "      <td>2.0</td>\n",
       "      <td>2308.0</td>\n",
       "      <td>208.0</td>\n",
       "      <td>226.0</td>\n",
       "      <td>156.0</td>\n",
       "      <td>342.0</td>\n",
       "      <td>0.92</td>\n",
       "      <td>-421.0</td>\n",
       "      <td>FC13</td>\n",
       "      <td>CA43</td>\n",
       "      <td>Apple</td>\n",
       "    </tr>\n",
       "    <tr>\n",
       "      <th>2</th>\n",
       "      <td>2169.0</td>\n",
       "      <td>197.0</td>\n",
       "      <td>31.0</td>\n",
       "      <td>0.0</td>\n",
       "      <td>0.0</td>\n",
       "      <td>1100.0</td>\n",
       "      <td>194.0</td>\n",
       "      <td>247.0</td>\n",
       "      <td>167.0</td>\n",
       "      <td>883.0</td>\n",
       "      <td>0.33</td>\n",
       "      <td>521.0</td>\n",
       "      <td>FC14</td>\n",
       "      <td>CA21</td>\n",
       "      <td>Carrot</td>\n",
       "    </tr>\n",
       "    <tr>\n",
       "      <th>3</th>\n",
       "      <td>2237.0</td>\n",
       "      <td>89.0</td>\n",
       "      <td>14.0</td>\n",
       "      <td>162.0</td>\n",
       "      <td>86.0</td>\n",
       "      <td>1503.0</td>\n",
       "      <td>240.0</td>\n",
       "      <td>217.0</td>\n",
       "      <td>104.0</td>\n",
       "      <td>175.0</td>\n",
       "      <td>0.39</td>\n",
       "      <td>-842.0</td>\n",
       "      <td>FC14</td>\n",
       "      <td>CA30</td>\n",
       "      <td>Berry</td>\n",
       "    </tr>\n",
       "    <tr>\n",
       "      <th>4</th>\n",
       "      <td>3189.0</td>\n",
       "      <td>277.0</td>\n",
       "      <td>6.0</td>\n",
       "      <td>0.0</td>\n",
       "      <td>0.0</td>\n",
       "      <td>1155.0</td>\n",
       "      <td>205.0</td>\n",
       "      <td>241.0</td>\n",
       "      <td>175.0</td>\n",
       "      <td>1092.0</td>\n",
       "      <td>0.12</td>\n",
       "      <td>-921.0</td>\n",
       "      <td>FC12</td>\n",
       "      <td>CA44</td>\n",
       "      <td>Apple</td>\n",
       "    </tr>\n",
       "  </tbody>\n",
       "</table>\n",
       "</div>"
      ],
      "text/plain": [
       "       X1     X2    X3     X4    X5      X6     X7     X8     X9     X10  \\\n",
       "0  2011.0   58.0   9.0    0.0   0.0   382.0  227.0  222.0  129.0   446.0   \n",
       "1  2910.0  356.0   8.0   42.0   2.0  2308.0  208.0  226.0  156.0   342.0   \n",
       "2  2169.0  197.0  31.0    0.0   0.0  1100.0  194.0  247.0  167.0   883.0   \n",
       "3  2237.0   89.0  14.0  162.0  86.0  1503.0  240.0  217.0  104.0   175.0   \n",
       "4  3189.0  277.0   6.0    0.0   0.0  1155.0  205.0  241.0  175.0  1092.0   \n",
       "\n",
       "    X11    X12    X13    X14       Y  \n",
       "0  0.49  881.0   FC14   CA37  Carrot  \n",
       "1  0.92 -421.0   FC13   CA43   Apple  \n",
       "2  0.33  521.0   FC14   CA21  Carrot  \n",
       "3  0.39 -842.0   FC14   CA30   Berry  \n",
       "4  0.12 -921.0   FC12   CA44   Apple  "
      ]
     },
     "execution_count": 34,
     "metadata": {},
     "output_type": "execute_result"
    }
   ],
   "source": [
    "cleaned_train_set.head()"
   ]
  },
  {
   "cell_type": "code",
   "execution_count": 35,
   "id": "6e265471",
   "metadata": {},
   "outputs": [],
   "source": [
    "from sklearn.preprocessing import OneHotEncoder\n",
    "from sklearn.compose import ColumnTransformer\n",
    "\n",
    "# Create a ColumnTransformer for one-hot encoding and numerical feature\n",
    "decoded_features = list(cleaned_train_set.drop(['X13', 'X14'], axis=1).columns)\n",
    "column_transformer = ColumnTransformer(\n",
    "    transformers=[\n",
    "        ('X13', OneHotEncoder(categories=[possible_X13_categories, possible_X14_categories]), ['X13', 'X14']),\n",
    "    ],\n",
    "    remainder='passthrough'  # Pass through numerical feature\n",
    ")\n",
    "\n",
    "# Apply the ColumnTransformer to the dataset\n",
    "encoded_features = column_transformer.fit_transform(cleaned_train_set)\n",
    "\n",
    "# Convert the transformed data back to a DataFrame\n",
    "encoded_train_set = pd.DataFrame(encoded_features, columns=possible_X13_categories + \n",
    "                                 possible_X14_categories + decoded_features)\n",
    "\n",
    "encoded_train_set[[i for i in list(encoded_train_set.columns) if i != 'Y' ]] = encoded_train_set[[i for i in list(encoded_train_set.columns) if i != 'Y' ]].astype(float)\n",
    "\n",
    "\n",
    "# Apply the ColumnTransformer to the dataset\n",
    "encoded_features = column_transformer.fit_transform(cleaned_test_set)\n",
    "\n",
    "# Convert the transformed data back to a DataFrame\n",
    "encoded_test_set = pd.DataFrame(encoded_features, columns=possible_X13_categories + \n",
    "                                possible_X14_categories + decoded_features)\n",
    "\n",
    "encoded_test_set[[i for i in list(encoded_test_set.columns) if i != 'Y' ]] = encoded_test_set[[i for i in list(encoded_test_set.columns) if i != 'Y' ]].astype(float)"
   ]
  },
  {
   "cell_type": "code",
   "execution_count": 36,
   "id": "8ba4e9c8",
   "metadata": {},
   "outputs": [
    {
     "name": "stdout",
     "output_type": "stream",
     "text": [
      "<class 'pandas.core.frame.DataFrame'>\n",
      "RangeIndex: 5417 entries, 0 to 5416\n",
      "Data columns (total 49 columns):\n",
      " #   Column  Non-Null Count  Dtype  \n",
      "---  ------  --------------  -----  \n",
      " 0    FC11   5417 non-null   float64\n",
      " 1    FC12   5417 non-null   float64\n",
      " 2    FC13   5417 non-null   float64\n",
      " 3    FC14   5417 non-null   float64\n",
      " 4    CA21   5417 non-null   float64\n",
      " 5    CA22   5417 non-null   float64\n",
      " 6    CA23   5417 non-null   float64\n",
      " 7    CA24   5417 non-null   float64\n",
      " 8    CA25   5417 non-null   float64\n",
      " 9    CA26   5417 non-null   float64\n",
      " 10   CA30   5417 non-null   float64\n",
      " 11   CA31   5417 non-null   float64\n",
      " 12   CA32   5417 non-null   float64\n",
      " 13   CA33   5417 non-null   float64\n",
      " 14   CA34   5417 non-null   float64\n",
      " 15   CA36   5417 non-null   float64\n",
      " 16   CA37   5417 non-null   float64\n",
      " 17   CA38   5417 non-null   float64\n",
      " 18   CA39   5417 non-null   float64\n",
      " 19   CA40   5417 non-null   float64\n",
      " 20   CA41   5417 non-null   float64\n",
      " 21   CA42   5417 non-null   float64\n",
      " 22   CA43   5417 non-null   float64\n",
      " 23   CA44   5417 non-null   float64\n",
      " 24   CA46   5417 non-null   float64\n",
      " 25   CA48   5417 non-null   float64\n",
      " 26   CA49   5417 non-null   float64\n",
      " 27   CA50   5417 non-null   float64\n",
      " 28   CA51   5417 non-null   float64\n",
      " 29   CA52   5417 non-null   float64\n",
      " 30   CA53   5417 non-null   float64\n",
      " 31   CA54   5417 non-null   float64\n",
      " 32   CA55   5417 non-null   float64\n",
      " 33   CA58   5417 non-null   float64\n",
      " 34   CA59   5417 non-null   float64\n",
      " 35   CA60   5417 non-null   float64\n",
      " 36  X1      5417 non-null   float64\n",
      " 37  X2      5417 non-null   float64\n",
      " 38  X3      5417 non-null   float64\n",
      " 39  X4      5417 non-null   float64\n",
      " 40  X5      5417 non-null   float64\n",
      " 41  X6      5417 non-null   float64\n",
      " 42  X7      5417 non-null   float64\n",
      " 43  X8      5417 non-null   float64\n",
      " 44  X9      5417 non-null   float64\n",
      " 45  X10     5417 non-null   float64\n",
      " 46  X11     5417 non-null   float64\n",
      " 47  X12     5417 non-null   float64\n",
      " 48  Y       5417 non-null   object \n",
      "dtypes: float64(48), object(1)\n",
      "memory usage: 2.0+ MB\n"
     ]
    }
   ],
   "source": [
    "encoded_train_set.info()"
   ]
  },
  {
   "cell_type": "code",
   "execution_count": 37,
   "id": "d68c15c5",
   "metadata": {},
   "outputs": [
    {
     "name": "stdout",
     "output_type": "stream",
     "text": [
      "<class 'pandas.core.frame.DataFrame'>\n",
      "RangeIndex: 957 entries, 0 to 956\n",
      "Data columns (total 49 columns):\n",
      " #   Column  Non-Null Count  Dtype  \n",
      "---  ------  --------------  -----  \n",
      " 0    FC11   957 non-null    float64\n",
      " 1    FC12   957 non-null    float64\n",
      " 2    FC13   957 non-null    float64\n",
      " 3    FC14   957 non-null    float64\n",
      " 4    CA21   957 non-null    float64\n",
      " 5    CA22   957 non-null    float64\n",
      " 6    CA23   957 non-null    float64\n",
      " 7    CA24   957 non-null    float64\n",
      " 8    CA25   957 non-null    float64\n",
      " 9    CA26   957 non-null    float64\n",
      " 10   CA30   957 non-null    float64\n",
      " 11   CA31   957 non-null    float64\n",
      " 12   CA32   957 non-null    float64\n",
      " 13   CA33   957 non-null    float64\n",
      " 14   CA34   957 non-null    float64\n",
      " 15   CA36   957 non-null    float64\n",
      " 16   CA37   957 non-null    float64\n",
      " 17   CA38   957 non-null    float64\n",
      " 18   CA39   957 non-null    float64\n",
      " 19   CA40   957 non-null    float64\n",
      " 20   CA41   957 non-null    float64\n",
      " 21   CA42   957 non-null    float64\n",
      " 22   CA43   957 non-null    float64\n",
      " 23   CA44   957 non-null    float64\n",
      " 24   CA46   957 non-null    float64\n",
      " 25   CA48   957 non-null    float64\n",
      " 26   CA49   957 non-null    float64\n",
      " 27   CA50   957 non-null    float64\n",
      " 28   CA51   957 non-null    float64\n",
      " 29   CA52   957 non-null    float64\n",
      " 30   CA53   957 non-null    float64\n",
      " 31   CA54   957 non-null    float64\n",
      " 32   CA55   957 non-null    float64\n",
      " 33   CA58   957 non-null    float64\n",
      " 34   CA59   957 non-null    float64\n",
      " 35   CA60   957 non-null    float64\n",
      " 36  X1      957 non-null    float64\n",
      " 37  X2      957 non-null    float64\n",
      " 38  X3      957 non-null    float64\n",
      " 39  X4      957 non-null    float64\n",
      " 40  X5      957 non-null    float64\n",
      " 41  X6      957 non-null    float64\n",
      " 42  X7      957 non-null    float64\n",
      " 43  X8      957 non-null    float64\n",
      " 44  X9      957 non-null    float64\n",
      " 45  X10     957 non-null    float64\n",
      " 46  X11     957 non-null    float64\n",
      " 47  X12     957 non-null    float64\n",
      " 48  Y       957 non-null    object \n",
      "dtypes: float64(48), object(1)\n",
      "memory usage: 366.5+ KB\n"
     ]
    }
   ],
   "source": [
    "encoded_test_set.info()"
   ]
  },
  {
   "cell_type": "markdown",
   "id": "51de5a28",
   "metadata": {},
   "source": [
    "Now we save the test set."
   ]
  },
  {
   "cell_type": "code",
   "execution_count": 38,
   "id": "def64c61",
   "metadata": {},
   "outputs": [],
   "source": [
    "encoded_test_set.to_csv('processed_data/testing_set.csv', index=False)"
   ]
  },
  {
   "cell_type": "markdown",
   "id": "2f3f61ca",
   "metadata": {},
   "source": [
    "\n",
    "<hr>\n",
    "\n",
    "\n",
    "Now with we encoded all the categorical features, we can do correlation analysis\n",
    "\n",
    "\n",
    "#### Correlation Analysis\n",
    "\n",
    "Correlation is concerned with The mutual relationship, covariation, or association between two or more variables is called Correlation. It is not concerned with either the changes in x or y individually, but with the measurement of simultaneous variations in both variables.\n",
    "\n",
    "\n",
    "##### Measures of Correlation\n",
    "\n",
    "- **Pearson’s rank correlation**: Pearson’s correlation coefficient is a measure of the strength of a linear association between two variables and is denoted by r. Basically, a Pearson’s correlation attempts to draw a line of best fit through two variables' data. The Pearson correlation coefficient, r, indicates how far away all these data points are to this line of best fit.\n",
    "\n",
    "    **Utility**:\n",
    "1. Variables can be measured in entirely different units.\n",
    "\n",
    "\n",
    "2. Pearson’s correlation coefficient `r` is a unitless measure of correlation and doesn’t change in the effect of origin or scale shift measurement.\n",
    "\n",
    "\n",
    "3. It doesn’t take into consideration whether a variable has been classified as a dependent or independent variable. It treats all variables equally. We might want to find out whether basketball performance is correlated to a person’s height. But if we determine whether a person’s height was determined by their basketball performance (which makes no sense), the result will be the same.\n",
    "\n",
    "\n",
    "    Properties:\n",
    "    \n",
    "        - The range of r is between [-1,1].\n",
    "        - The computation of r is independent of the change of origin and scale of measurement.\n",
    "        - r = 1 (perfectly positive correlation), r =-1 (perfectly negative correlation), r = 0 (no correlation)\n",
    "\n",
    "    Assumptions:\n",
    "    \n",
    "        - Both variables should be normally distributed (normally distributed variables have a bell-shaped curve). \n",
    "        - A straight line relationship between each of the two variables (Linearity)\n",
    "        - Data is equally distributed about the regression line. (same variance or homoscedasticity)\n",
    "\n",
    "- **Spearman rank correlation**: Spearman rank correlation is a non-parametric test that is used to measure the degree of association between two variables.The Spearman rank correlation test does not carry any assumptions about the distribution of the data and is the appropriate correlation analysis when the variables are measured on a scale that is at least ordinal.\n",
    "\n",
    "\n",
    "    Assumptions\n",
    "    \n",
    "        - data must be at least ordinal\n",
    "        - the scores on one variable must be monotonically related to the other variable.\n",
    " \n",
    " \n",
    "    Properties:\n",
    "    \n",
    "        - The range of r is between [-1,1].\n",
    "        - Preserves all properties of r.\n",
    "        - As this is based on ordinal data, it doesn’t depend on any specific distribution(that is why we called non-parametric measure)\n",
    "\n",
    "\n",
    "\n",
    "\n",
    "- **Kendall rank correlation**: Kendall rank correlation is a non-parametric test that measures the strength of dependence between two variables.  If we consider two samples, `a` and `b` , where each sample size is `n` , we know that the total number of pairings with `a , b` is `n(n-1)/2`.  \n",
    "\n",
    "\n",
    "    Assumptions:\n",
    "    \n",
    "        - this test can also produce negative values (from -1 to 0). Unlike a linear graph, a negative relationship doesn’t mean much with ranked columns (other than you perhaps switched the columns around), so remove the negative sign when you’re interpreting Tau.\n",
    " \n",
    " \n",
    "    Properties:\n",
    "    \n",
    "        - 0 is no relationship\n",
    "        - 1 is a perfect relationship\n",
    "\n",
    "\n",
    "\n",
    "Resources:\n",
    "\n",
    "- https://medium.com/analytics-vidhya/correlation-and-machine-learning-fee0ffc5faac\n",
    "\n",
    "- https://www.statisticssolutions.com/free-resources/directory-of-statistical-analyses/correlation-pearson-kendall-spearman/"
   ]
  },
  {
   "cell_type": "code",
   "execution_count": 39,
   "id": "76e399a1",
   "metadata": {},
   "outputs": [],
   "source": [
    "from copy import copy\n",
    "\n",
    "val_min = 0.6\n",
    "val_max = 0.99\n",
    "my_cmap = copy(plt.cm.YlGnBu)\n",
    "my_cmap.set_over(\"white\")\n",
    "my_cmap.set_under(\"white\")"
   ]
  },
  {
   "cell_type": "code",
   "execution_count": 40,
   "id": "11289899",
   "metadata": {},
   "outputs": [],
   "source": [
    "corr = encoded_train_set.drop(['Y'],axis=1).corr(method='pearson').to_numpy()\n",
    "\n",
    "#delete columns where all elements do not fulfill the conditions\n",
    "ind_x,  = np.where(np.all(np.logical_or(corr<val_min, corr>val_max), axis=0))\n",
    "corr = np.delete(corr, ind_x, 1)\n",
    "#update x labels\n",
    "map_labels_x = [item for i, item in enumerate(list(encoded_train_set.columns)) if i not in ind_x and item != 'Y']\n",
    "    \n",
    "#now the same for rows \n",
    "ind_y, = np.where(np.all(np.logical_or(corr<val_min, corr>val_max), axis=1))\n",
    "corr = np.delete(corr, ind_y, 0)\n",
    "#update y labels\n",
    "map_labels_y = [item for i, item in enumerate(list(encoded_train_set.columns)) if i not in ind_y and item != 'Y']"
   ]
  },
  {
   "cell_type": "code",
   "execution_count": 41,
   "id": "d85f5bc5",
   "metadata": {},
   "outputs": [
    {
     "data": {
      "text/plain": [
       "<AxesSubplot:title={'center':'Pearson'}>"
      ]
     },
     "execution_count": 41,
     "metadata": {},
     "output_type": "execute_result"
    },
    {
     "data": {
      "image/png": "[encoded data removed]",
      "text/plain": [
       "<Figure size 1080x1080 with 2 Axes>"
      ]
     },
     "metadata": {
      "needs_background": "light"
     },
     "output_type": "display_data"
    }
   ],
   "source": [
    "\n",
    "plt.subplots(figsize=(15, 15))\n",
    "plt.title('Pearson', fontdict={'fontsize': 24})\n",
    "sns.heatmap(corr,annot=True, \n",
    "            linewidths=1.0, \n",
    "            xticklabels=map_labels_x,\n",
    "            yticklabels=map_labels_y,\n",
    "            vmin=val_min,\n",
    "            vmax=val_max, \n",
    "            cmap=my_cmap, square=True)"
   ]
  },
  {
   "cell_type": "code",
   "execution_count": 42,
   "id": "edf7418e",
   "metadata": {},
   "outputs": [],
   "source": [
    "corr = encoded_train_set.drop(['Y'],axis=1).corr(method='spearman').to_numpy()\n",
    "\n",
    "#delete columns where all elements do not fulfill the conditions\n",
    "ind_x,  = np.where(np.all(np.logical_or(corr<val_min, corr>val_max), axis=0))\n",
    "corr = np.delete(corr, ind_x, 1)\n",
    "#update x labels\n",
    "map_labels_x = [item for i, item in enumerate(list(encoded_train_set.columns)) if i not in ind_x and item != 'Y']\n",
    "    \n",
    "#now the same for rows \n",
    "ind_y, = np.where(np.all(np.logical_or(corr<val_min, corr>val_max), axis=1))\n",
    "corr = np.delete(corr, ind_y, 0)\n",
    "#update y labels\n",
    "map_labels_y = [item for i, item in enumerate(list(encoded_train_set.columns)) if i not in ind_y and item != 'Y']"
   ]
  },
  {
   "cell_type": "code",
   "execution_count": 43,
   "id": "106b6ffd",
   "metadata": {
    "scrolled": false
   },
   "outputs": [
    {
     "data": {
      "text/plain": [
       "<AxesSubplot:title={'center':'Spearman'}>"
      ]
     },
     "execution_count": 43,
     "metadata": {},
     "output_type": "execute_result"
    },
    {
     "data": {
      "image/png": "[encoded data removed]",
      "text/plain": [
       "<Figure size 1080x1080 with 2 Axes>"
      ]
     },
     "metadata": {
      "needs_background": "light"
     },
     "output_type": "display_data"
    }
   ],
   "source": [
    "plt.subplots(figsize=(15, 15))\n",
    "plt.title('Spearman', fontdict={'fontsize': 24})\n",
    "sns.heatmap(corr,annot=True, \n",
    "            linewidths=1.0, \n",
    "            xticklabels=map_labels_x,\n",
    "            yticklabels=map_labels_y,\n",
    "            vmin=val_min,\n",
    "            vmax=val_max, \n",
    "            cmap=my_cmap, square=True)"
   ]
  },
  {
   "cell_type": "code",
   "execution_count": 44,
   "id": "cb8496db",
   "metadata": {},
   "outputs": [],
   "source": [
    "corr = np.abs(encoded_train_set.drop(['Y'],axis=1).corr(method='kendall')).to_numpy()\n",
    "\n",
    "#delete columns where all elements do not fulfill the conditions\n",
    "ind_x,  = np.where(np.all(np.logical_or(corr<val_min, corr>val_max), axis=0))\n",
    "corr = np.delete(corr, ind_x, 1)\n",
    "#update x labels\n",
    "map_labels_x = [item for i, item in enumerate(list(encoded_train_set.columns)) if i not in ind_x and item != 'Y']\n",
    "    \n",
    "#now the same for rows \n",
    "ind_y, = np.where(np.all(np.logical_or(corr<val_min, corr>val_max), axis=1))\n",
    "corr = np.delete(corr, ind_y, 0)\n",
    "#update y labels\n",
    "map_labels_y = [item for i, item in enumerate(list(encoded_train_set.columns)) if i not in ind_y and item != 'Y']"
   ]
  },
  {
   "cell_type": "code",
   "execution_count": 45,
   "id": "6c27af01",
   "metadata": {
    "scrolled": false
   },
   "outputs": [
    {
     "data": {
      "text/plain": [
       "<AxesSubplot:title={'center':'Kendall'}>"
      ]
     },
     "execution_count": 45,
     "metadata": {},
     "output_type": "execute_result"
    },
    {
     "data": {
      "image/png": "[encoded data removed]",
      "text/plain": [
       "<Figure size 1080x1080 with 2 Axes>"
      ]
     },
     "metadata": {
      "needs_background": "light"
     },
     "output_type": "display_data"
    }
   ],
   "source": [
    "plt.subplots(figsize=(15, 15))\n",
    "plt.title('Kendall', fontdict={'fontsize': 24})\n",
    "sns.heatmap(corr,annot=True, \n",
    "            linewidths=1.0, \n",
    "            xticklabels=map_labels_x,\n",
    "            yticklabels=map_labels_y,\n",
    "            vmin=val_min,\n",
    "            vmax=val_max, \n",
    "            cmap=my_cmap, square=True)"
   ]
  },
  {
   "cell_type": "markdown",
   "id": "98d55e5c",
   "metadata": {},
   "source": [
    "\n",
    "##### Conclusion\n",
    "\n",
    "**NOTE**: for `pearson` and `spearman` we will assume that any correlation with magnitude less than 0.5 is NOT worth considering\n",
    "\n",
    "**Pearson rank correlation**:\n",
    "\n",
    "\n",
    "the following are positively correlated features with their respective correlation coefficient:\n",
    "    - `X1` and `X6` with `0.61`\n",
    "    - `X1` and `X14` with `0.77`\n",
    "    - `X2` and `X9` with `0.61`\n",
    "    - `X4` and `X5` with `0.62`\n",
    "    - `X8` and `X9` with `0.64`\n",
    "\n",
    "\n",
    "the following are negatively correlated features with their respective correlation coefficient:\n",
    "    - `X1` and `X13` with `0.76`\n",
    "    - `X2` and `X7` with `0.58`\n",
    "    - `X3` and `X8` with `0.66`\n",
    "    - `X6` and `X13` with `0.51`\n",
    "    - `X7` and `X9` with `0.78`\n",
    "    - `X10` and `X13` with `0.56`\n",
    "    - `X13` and `X14` with `0.74`\n",
    "\n",
    "\n",
    "**Spearman rank correlation**:\n",
    "\n",
    "the following are positively correlated features with their respective correlation coefficient:\n",
    "    - `X1` and `X6` with `0.57`\n",
    "    - `X1` and `X10` with `0.55`\n",
    "    - `X1` and `X14` with `0.73`\n",
    "    - `X2` and `X9` with `0.61`\n",
    "    - `X4` and `X5` with `0.72`\n",
    "    - `X8` and `X9` with `0.62`\n",
    "\n",
    "\n",
    "the following are negatively correlated features with their respective correlation coefficient:\n",
    "    - `X1` and `X13` with `0.83`\n",
    "    - `X3` and `X8` with `0.58`\n",
    "    - `X7` and `X9` with `0.85`\n",
    "    - `X10` and `X13` with `0.57`\n",
    "    - `X13` and `X14` with `0.74`\n",
    "\n",
    "\n",
    "**Kendall rank correlation**:\n",
    "\n",
    "here are the ranges we will settle on for Tau correlation coefficient:\n",
    "\n",
    "- `[0 , 0.10]`: very weak\n",
    "- `[0.10 , 0.19]`: weak\n",
    "- `[0.20 to 0.29]`: moderate\n",
    "- `[0.30, 1]`: strong\n",
    "\n",
    "\n",
    "\n",
    "\n",
    "<hr>\n",
    "\n",
    "\n",
    "with correlation analysis done, we can move to handling unbalanced data\n",
    "\n",
    "\n",
    "#### Handling Imbalanced Data\n",
    "\n",
    "- `Mango` class only has *250* samples (3.9%)\n",
    "- `Orange` class only has *100* samples (1.5%)\n",
    "- `Peach` class only has *308* samples (4.8%)\n",
    "\n",
    "<strong>we will perform a combination of oversampling and undersampling for the following reasons:</strong>\n",
    "- ideally the probabilty of a  class should be `1/n` where `n` is the number of classes\n",
    "- since the dataset is of a decent size we should not only remove samples of majority classes as it would significantly shrink the dataset\n",
    "- increasing minorty class samples might lead to oversampling. Furthermore, we will be using models like Random Forest that tackles this problem\n",
    "\n",
    "<strong>Now to pick the techniques of both oversampling and undersampling:</strong>\n",
    "\n",
    "##### Oversampling\n",
    "\n",
    "Undersampling techniques eliminate some examples from the training data set belonging to majority classes. \n",
    "\n",
    "some techniques to consider:\n",
    "\n",
    "- **Near Miss Undersampling**: This technique selects the data points based on the distance between majority and minority class examples. It has three versions of itself, and each of these considers the different neighbors from the majority class.\n",
    "\n",
    "\n",
    "- **Condensed Nearest Neighbor (CNN) Undersampling**: This technique aspires to a subset of a collection of samples that minimizes the model loss. These examples are stores in a store that then consists of examples from the minority class and incorrectly classified examples from the majority class.\n",
    "\n",
    "\n",
    "- **Tomek Links Undersampling**: This technique is the modified version of CNN in which the redundant examples get selected randomly for deletion from the majority class. These examples are rather internal than near the decision boundary.\n",
    "\n",
    "\n",
    "- **Edited Nearest Neighbors Undersampling**: This technique uses the nearest neighbors approach and deletes according to the misclassification of the samples. It computes three nearest neighbors for each instance. If the example of a majority class and misclassified by these three neighbors. Then it removes that instance.\n",
    "\n",
    "\n",
    "we will be using **Near Miss Undersampling** version 3 since it is more accurate since it considers examples of the majority class that are on the decision boundary.\n",
    "\n",
    "- Version 1 keeps examples from the majority class for each closest record in the minority class.\n",
    "\n",
    "##### Undersampling\n",
    "\n",
    "Unlike Undersampling, which focuses on removing the majority class examples, Oversampling focuses on increasing minority class samples.\n",
    "\n",
    "some techniques to consider:\n",
    "\n",
    "- **SMOTE**: stands for Synthetic Minority Oversampling Technique. SMOTE selects the nearest examples in the feature space, then draws a line between them, and at a point along the line, it creates a new sample.\n",
    "\n",
    "\n",
    "- **Borderline-SMOTE**: This SMOTE extension selects the minority class instance that is misclassified with a k-nearest neighbor (KNN) classifier. Since borderline or distant examples are more tend to misclassified.\n",
    "\n",
    "\n",
    "- **Borderline-SMOTE SVM**: This method selects the misclassified instances of Support Vector Machine (SVM) instead of KNN.\n",
    "\n",
    "\n",
    "- **Adaptive Synthetic Sampling (ADASYN)**: This approach works according to the density of the minority class instances. Generating new samples is inversely proportional to the density of the minority class samples.\n",
    "\n",
    "\n",
    "We will be using **Borderline-SMOTE** since we don't want to expand the dataset too much. Furthermore, the choice between KNN and SVM comes down to time.\n",
    "\n"
   ]
  },
  {
   "cell_type": "code",
   "execution_count": 46,
   "id": "da875c44",
   "metadata": {
    "scrolled": false
   },
   "outputs": [
    {
     "name": "stdout",
     "output_type": "stream",
     "text": [
      "[['Apple' 'Berry' 'Carrot' 'Mango' 'Melon' 'Orange' 'Peach']\n",
      " [1084 1062 1377 212 1335 85 262]]\n",
      "[['Apple' 'Berry' 'Carrot' 'Mango' 'Melon' 'Orange' 'Peach']\n",
      " [0.20011076241462064 0.19604947387853056 0.25419974155436587\n",
      "  0.03913605316595902 0.24644637253092117 0.015691342071257153\n",
      "  0.04836625438434558]]\n"
     ]
    }
   ],
   "source": [
    "labels, labels_count = np.unique(encoded_train_set['Y'], return_counts=True)\n",
    "print(np.asarray((labels,labels_count)))\n",
    "print(np.asarray((labels,labels_count / np.sum(labels_count))))"
   ]
  },
  {
   "cell_type": "code",
   "execution_count": 47,
   "id": "13493dfc",
   "metadata": {},
   "outputs": [
    {
     "data": {
      "text/plain": [
       "array([1084, 1062, 1377,  212, 1335,   85,  262], dtype=int64)"
      ]
     },
     "execution_count": 47,
     "metadata": {},
     "output_type": "execute_result"
    }
   ],
   "source": [
    "labels_count"
   ]
  },
  {
   "cell_type": "code",
   "execution_count": 48,
   "id": "777b2bfc",
   "metadata": {},
   "outputs": [
    {
     "name": "stdout",
     "output_type": "stream",
     "text": [
      "Counter({'Carrot': 1377, 'Melon': 1335, 'Apple': 1084, 'Berry': 1062, 'Peach': 962, 'Orange': 785, 'Mango': 512})\n"
     ]
    }
   ],
   "source": [
    "from imblearn.over_sampling  import BorderlineSMOTE\n",
    "from collections import Counter\n",
    "oversampling = BorderlineSMOTE(sampling_strategy={'Mango':(labels_count[3] + 300), 'Orange': ((labels_count[5] + 700)),\n",
    "                                                   'Peach': (labels_count[6] + 700)}, random_state=777, k_neighbors=5)\n",
    "X, Y = oversampling.fit_resample(encoded_train_set.drop('Y', axis=1), encoded_train_set['Y'])\n",
    "print(Counter(Y))"
   ]
  },
  {
   "cell_type": "code",
   "execution_count": 49,
   "id": "aa5d13b6",
   "metadata": {},
   "outputs": [
    {
     "name": "stdout",
     "output_type": "stream",
     "text": [
      "[['Apple' 'Berry' 'Carrot' 'Mango' 'Melon' 'Orange' 'Peach']\n",
      " [1084 1062 1377 512 1335 785 962]]\n",
      "[['Apple' 'Berry' 'Carrot' 'Mango' 'Melon' 'Orange' 'Peach']\n",
      " [0.15231136714907967 0.14922017704088802 0.19348039904454123\n",
      "  0.07194042433609667 0.1875790361107208 0.11029928340592947\n",
      "  0.13516931291274414]]\n"
     ]
    }
   ],
   "source": [
    "labels, labels_count = np.unique(Y, return_counts=True)\n",
    "print(np.asarray((labels,labels_count)))\n",
    "print(np.asarray((labels,labels_count / np.sum(labels_count))))"
   ]
  },
  {
   "cell_type": "code",
   "execution_count": 50,
   "id": "46036ffd",
   "metadata": {},
   "outputs": [
    {
     "name": "stdout",
     "output_type": "stream",
     "text": [
      "Counter({'Apple': 1084, 'Berry': 1062, 'Carrot': 1027, 'Melon': 985, 'Peach': 962, 'Orange': 785, 'Mango': 512})\n"
     ]
    }
   ],
   "source": [
    "from imblearn.under_sampling import NearMiss\n",
    "from collections import Counter\n",
    "undersampling = NearMiss(sampling_strategy={'Carrot':(labels_count[2] - 350), \n",
    "                                                   'Melon': (labels_count[4] - 350)}, n_neighbors=5)\n",
    "X, Y = undersampling.fit_resample(X, Y)\n",
    "print(Counter(Y))"
   ]
  },
  {
   "cell_type": "code",
   "execution_count": 51,
   "id": "b1fcec70",
   "metadata": {},
   "outputs": [
    {
     "name": "stdout",
     "output_type": "stream",
     "text": [
      "[['Apple' 'Berry' 'Carrot' 'Mango' 'Melon' 'Orange' 'Peach']\n",
      " [1084 1062 1027 512 985 785 962]]\n",
      "[['Apple' 'Berry' 'Carrot' 'Mango' 'Melon' 'Orange' 'Peach']\n",
      " [0.16892628954340033 0.16549789621318373 0.16004363409693004\n",
      "  0.07978806295776843 0.15349851955742558 0.12233130746454729\n",
      "  0.1499142901667446]]\n"
     ]
    }
   ],
   "source": [
    "labels, labels_count = np.unique(Y, return_counts=True)\n",
    "print(np.asarray((labels,labels_count)))\n",
    "print(np.asarray((labels,labels_count / np.sum(labels_count))))"
   ]
  },
  {
   "cell_type": "code",
   "execution_count": 52,
   "id": "d4158b08",
   "metadata": {},
   "outputs": [
    {
     "data": {
      "text/html": [
       "<div>\n",
       "<style scoped>\n",
       "    .dataframe tbody tr th:only-of-type {\n",
       "        vertical-align: middle;\n",
       "    }\n",
       "\n",
       "    .dataframe tbody tr th {\n",
       "        vertical-align: top;\n",
       "    }\n",
       "\n",
       "    .dataframe thead th {\n",
       "        text-align: right;\n",
       "    }\n",
       "</style>\n",
       "<table border=\"1\" class=\"dataframe\">\n",
       "  <thead>\n",
       "    <tr style=\"text-align: right;\">\n",
       "      <th></th>\n",
       "      <th>FC11</th>\n",
       "      <th>FC12</th>\n",
       "      <th>FC13</th>\n",
       "      <th>FC14</th>\n",
       "      <th>CA21</th>\n",
       "      <th>CA22</th>\n",
       "      <th>CA23</th>\n",
       "      <th>CA24</th>\n",
       "      <th>CA25</th>\n",
       "      <th>CA26</th>\n",
       "      <th>...</th>\n",
       "      <th>X3</th>\n",
       "      <th>X4</th>\n",
       "      <th>X5</th>\n",
       "      <th>X6</th>\n",
       "      <th>X7</th>\n",
       "      <th>X8</th>\n",
       "      <th>X9</th>\n",
       "      <th>X10</th>\n",
       "      <th>X11</th>\n",
       "      <th>X12</th>\n",
       "    </tr>\n",
       "  </thead>\n",
       "  <tbody>\n",
       "    <tr>\n",
       "      <th>count</th>\n",
       "      <td>6417.000000</td>\n",
       "      <td>6417.000000</td>\n",
       "      <td>6417.000000</td>\n",
       "      <td>6417.000000</td>\n",
       "      <td>6417.000000</td>\n",
       "      <td>6417.000000</td>\n",
       "      <td>6417.000000</td>\n",
       "      <td>6417.000000</td>\n",
       "      <td>6417.000000</td>\n",
       "      <td>6417.000000</td>\n",
       "      <td>...</td>\n",
       "      <td>6417.000000</td>\n",
       "      <td>6417.000000</td>\n",
       "      <td>6417.000000</td>\n",
       "      <td>6417.000000</td>\n",
       "      <td>6417.000000</td>\n",
       "      <td>6417.000000</td>\n",
       "      <td>6417.000000</td>\n",
       "      <td>6417.000000</td>\n",
       "      <td>6417.000000</td>\n",
       "      <td>6417.000000</td>\n",
       "    </tr>\n",
       "    <tr>\n",
       "      <th>mean</th>\n",
       "      <td>0.397176</td>\n",
       "      <td>0.002493</td>\n",
       "      <td>0.282695</td>\n",
       "      <td>0.317636</td>\n",
       "      <td>0.033053</td>\n",
       "      <td>0.033623</td>\n",
       "      <td>0.065451</td>\n",
       "      <td>0.041470</td>\n",
       "      <td>0.012282</td>\n",
       "      <td>0.044413</td>\n",
       "      <td>...</td>\n",
       "      <td>16.713233</td>\n",
       "      <td>205.710888</td>\n",
       "      <td>48.083637</td>\n",
       "      <td>1901.159303</td>\n",
       "      <td>213.016132</td>\n",
       "      <td>218.174568</td>\n",
       "      <td>133.610877</td>\n",
       "      <td>1785.724575</td>\n",
       "      <td>0.491601</td>\n",
       "      <td>13.980922</td>\n",
       "    </tr>\n",
       "    <tr>\n",
       "      <th>std</th>\n",
       "      <td>0.489315</td>\n",
       "      <td>0.049875</td>\n",
       "      <td>0.450271</td>\n",
       "      <td>0.465560</td>\n",
       "      <td>0.176138</td>\n",
       "      <td>0.179667</td>\n",
       "      <td>0.247339</td>\n",
       "      <td>0.199163</td>\n",
       "      <td>0.108146</td>\n",
       "      <td>0.206028</td>\n",
       "      <td>...</td>\n",
       "      <td>8.556630</td>\n",
       "      <td>172.712984</td>\n",
       "      <td>55.326007</td>\n",
       "      <td>1540.916749</td>\n",
       "      <td>31.326673</td>\n",
       "      <td>23.007533</td>\n",
       "      <td>45.544284</td>\n",
       "      <td>1497.441202</td>\n",
       "      <td>0.279283</td>\n",
       "      <td>569.435808</td>\n",
       "    </tr>\n",
       "    <tr>\n",
       "      <th>min</th>\n",
       "      <td>0.000000</td>\n",
       "      <td>0.000000</td>\n",
       "      <td>0.000000</td>\n",
       "      <td>0.000000</td>\n",
       "      <td>0.000000</td>\n",
       "      <td>0.000000</td>\n",
       "      <td>0.000000</td>\n",
       "      <td>0.000000</td>\n",
       "      <td>0.000000</td>\n",
       "      <td>0.000000</td>\n",
       "      <td>...</td>\n",
       "      <td>0.000000</td>\n",
       "      <td>0.000000</td>\n",
       "      <td>-104.000000</td>\n",
       "      <td>0.000000</td>\n",
       "      <td>59.000000</td>\n",
       "      <td>99.000000</td>\n",
       "      <td>0.000000</td>\n",
       "      <td>30.000000</td>\n",
       "      <td>0.000000</td>\n",
       "      <td>-1000.000000</td>\n",
       "    </tr>\n",
       "    <tr>\n",
       "      <th>25%</th>\n",
       "      <td>0.000000</td>\n",
       "      <td>0.000000</td>\n",
       "      <td>0.000000</td>\n",
       "      <td>0.000000</td>\n",
       "      <td>0.000000</td>\n",
       "      <td>0.000000</td>\n",
       "      <td>0.000000</td>\n",
       "      <td>0.000000</td>\n",
       "      <td>0.000000</td>\n",
       "      <td>0.000000</td>\n",
       "      <td>...</td>\n",
       "      <td>10.000000</td>\n",
       "      <td>62.547432</td>\n",
       "      <td>7.000000</td>\n",
       "      <td>781.048539</td>\n",
       "      <td>198.000000</td>\n",
       "      <td>207.000000</td>\n",
       "      <td>104.722177</td>\n",
       "      <td>735.000000</td>\n",
       "      <td>0.260000</td>\n",
       "      <td>-486.000000</td>\n",
       "    </tr>\n",
       "    <tr>\n",
       "      <th>50%</th>\n",
       "      <td>0.000000</td>\n",
       "      <td>0.000000</td>\n",
       "      <td>0.000000</td>\n",
       "      <td>0.000000</td>\n",
       "      <td>0.000000</td>\n",
       "      <td>0.000000</td>\n",
       "      <td>0.000000</td>\n",
       "      <td>0.000000</td>\n",
       "      <td>0.000000</td>\n",
       "      <td>0.000000</td>\n",
       "      <td>...</td>\n",
       "      <td>16.000000</td>\n",
       "      <td>175.000000</td>\n",
       "      <td>30.347589</td>\n",
       "      <td>1290.000000</td>\n",
       "      <td>221.000000</td>\n",
       "      <td>222.000000</td>\n",
       "      <td>136.000000</td>\n",
       "      <td>1332.000000</td>\n",
       "      <td>0.480000</td>\n",
       "      <td>16.000000</td>\n",
       "    </tr>\n",
       "    <tr>\n",
       "      <th>75%</th>\n",
       "      <td>1.000000</td>\n",
       "      <td>0.000000</td>\n",
       "      <td>1.000000</td>\n",
       "      <td>1.000000</td>\n",
       "      <td>0.000000</td>\n",
       "      <td>0.000000</td>\n",
       "      <td>0.000000</td>\n",
       "      <td>0.000000</td>\n",
       "      <td>0.000000</td>\n",
       "      <td>0.000000</td>\n",
       "      <td>...</td>\n",
       "      <td>22.978908</td>\n",
       "      <td>306.000000</td>\n",
       "      <td>73.000000</td>\n",
       "      <td>2958.671627</td>\n",
       "      <td>235.057776</td>\n",
       "      <td>234.000000</td>\n",
       "      <td>164.980111</td>\n",
       "      <td>2245.483851</td>\n",
       "      <td>0.730000</td>\n",
       "      <td>521.000000</td>\n",
       "    </tr>\n",
       "    <tr>\n",
       "      <th>max</th>\n",
       "      <td>1.000000</td>\n",
       "      <td>1.000000</td>\n",
       "      <td>1.000000</td>\n",
       "      <td>1.000000</td>\n",
       "      <td>1.000000</td>\n",
       "      <td>1.000000</td>\n",
       "      <td>1.000000</td>\n",
       "      <td>1.000000</td>\n",
       "      <td>1.000000</td>\n",
       "      <td>1.000000</td>\n",
       "      <td>...</td>\n",
       "      <td>49.000000</td>\n",
       "      <td>1129.000000</td>\n",
       "      <td>334.000000</td>\n",
       "      <td>6890.000000</td>\n",
       "      <td>254.000000</td>\n",
       "      <td>254.000000</td>\n",
       "      <td>248.000000</td>\n",
       "      <td>6632.000000</td>\n",
       "      <td>1.000000</td>\n",
       "      <td>1000.000000</td>\n",
       "    </tr>\n",
       "  </tbody>\n",
       "</table>\n",
       "<p>8 rows × 48 columns</p>\n",
       "</div>"
      ],
      "text/plain": [
       "              FC11         FC12         FC13         FC14         CA21  \\\n",
       "count  6417.000000  6417.000000  6417.000000  6417.000000  6417.000000   \n",
       "mean      0.397176     0.002493     0.282695     0.317636     0.033053   \n",
       "std       0.489315     0.049875     0.450271     0.465560     0.176138   \n",
       "min       0.000000     0.000000     0.000000     0.000000     0.000000   \n",
       "25%       0.000000     0.000000     0.000000     0.000000     0.000000   \n",
       "50%       0.000000     0.000000     0.000000     0.000000     0.000000   \n",
       "75%       1.000000     0.000000     1.000000     1.000000     0.000000   \n",
       "max       1.000000     1.000000     1.000000     1.000000     1.000000   \n",
       "\n",
       "              CA22         CA23         CA24         CA25         CA26  ...  \\\n",
       "count  6417.000000  6417.000000  6417.000000  6417.000000  6417.000000  ...   \n",
       "mean      0.033623     0.065451     0.041470     0.012282     0.044413  ...   \n",
       "std       0.179667     0.247339     0.199163     0.108146     0.206028  ...   \n",
       "min       0.000000     0.000000     0.000000     0.000000     0.000000  ...   \n",
       "25%       0.000000     0.000000     0.000000     0.000000     0.000000  ...   \n",
       "50%       0.000000     0.000000     0.000000     0.000000     0.000000  ...   \n",
       "75%       0.000000     0.000000     0.000000     0.000000     0.000000  ...   \n",
       "max       1.000000     1.000000     1.000000     1.000000     1.000000  ...   \n",
       "\n",
       "                X3           X4           X5           X6           X7  \\\n",
       "count  6417.000000  6417.000000  6417.000000  6417.000000  6417.000000   \n",
       "mean     16.713233   205.710888    48.083637  1901.159303   213.016132   \n",
       "std       8.556630   172.712984    55.326007  1540.916749    31.326673   \n",
       "min       0.000000     0.000000  -104.000000     0.000000    59.000000   \n",
       "25%      10.000000    62.547432     7.000000   781.048539   198.000000   \n",
       "50%      16.000000   175.000000    30.347589  1290.000000   221.000000   \n",
       "75%      22.978908   306.000000    73.000000  2958.671627   235.057776   \n",
       "max      49.000000  1129.000000   334.000000  6890.000000   254.000000   \n",
       "\n",
       "                X8           X9          X10          X11          X12  \n",
       "count  6417.000000  6417.000000  6417.000000  6417.000000  6417.000000  \n",
       "mean    218.174568   133.610877  1785.724575     0.491601    13.980922  \n",
       "std      23.007533    45.544284  1497.441202     0.279283   569.435808  \n",
       "min      99.000000     0.000000    30.000000     0.000000 -1000.000000  \n",
       "25%     207.000000   104.722177   735.000000     0.260000  -486.000000  \n",
       "50%     222.000000   136.000000  1332.000000     0.480000    16.000000  \n",
       "75%     234.000000   164.980111  2245.483851     0.730000   521.000000  \n",
       "max     254.000000   248.000000  6632.000000     1.000000  1000.000000  \n",
       "\n",
       "[8 rows x 48 columns]"
      ]
     },
     "execution_count": 52,
     "metadata": {},
     "output_type": "execute_result"
    }
   ],
   "source": [
    "X.describe()"
   ]
  },
  {
   "cell_type": "code",
   "execution_count": 53,
   "id": "c3eb0e79",
   "metadata": {},
   "outputs": [
    {
     "data": {
      "text/plain": [
       "pandas.core.series.Series"
      ]
     },
     "execution_count": 53,
     "metadata": {},
     "output_type": "execute_result"
    }
   ],
   "source": [
    "type(Y)"
   ]
  },
  {
   "cell_type": "code",
   "execution_count": 54,
   "id": "fb964041",
   "metadata": {},
   "outputs": [],
   "source": [
    "balanced_train = X.assign(Y=Y)"
   ]
  },
  {
   "cell_type": "code",
   "execution_count": 55,
   "id": "29cd00eb",
   "metadata": {},
   "outputs": [
    {
     "data": {
      "text/plain": [
       "Y\n",
       "Apple     1084\n",
       "Berry     1062\n",
       "Carrot    1027\n",
       "Mango      512\n",
       "Melon      985\n",
       "Orange     785\n",
       "Peach      962\n",
       "dtype: int64"
      ]
     },
     "execution_count": 55,
     "metadata": {},
     "output_type": "execute_result"
    }
   ],
   "source": [
    "balanced_train.groupby('Y').size()"
   ]
  },
  {
   "cell_type": "code",
   "execution_count": 56,
   "id": "e90a6d22",
   "metadata": {},
   "outputs": [],
   "source": [
    "balanced_train.to_csv('processed_data/training_set.csv', index=False)"
   ]
  }
 ],
 "metadata": {
  "kernelspec": {
   "display_name": "Python 3 (ipykernel)",
   "language": "python",
   "name": "python3"
  },
  "language_info": {
   "codemirror_mode": {
    "name": "ipython",
    "version": 3
   },
   "file_extension": ".py",
   "mimetype": "text/x-python",
   "name": "python",
   "nbconvert_exporter": "python",
   "pygments_lexer": "ipython3",
   "version": "3.9.7"
  },
  "vscode": {
   "interpreter": {
    "hash": "362c3e28a184c9a10a6611ff1607a8a63416bffb2ca322aa9e6df9bfad7a3e35"
   }
  }
 },
 "nbformat": 4,
 "nbformat_minor": 5
}
