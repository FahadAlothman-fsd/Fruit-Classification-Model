{
 "cells": [
  {
   "cell_type": "code",
   "execution_count": 51,
   "id": "c3194b47",
   "metadata": {},
   "outputs": [
    {
     "name": "stdout",
     "output_type": "stream",
     "text": [
      "Error rate =  13.697749196141483 %\n"
     ]
    }
   ],
   "source": [
    "import pandas as pd\n",
    "import numpy as np\n",
    "import matplotlib.pyplot as plt\n",
    "from sklearn.preprocessing import StandardScaler\n",
    "from sklearn.model_selection import train_test_split\n",
    "from sklearn.neighbors import KNeighborsClassifier\n",
    "#import our data from balanced_filled_Dataset-vf.csv as data\n",
    "data = pd.read_csv('balanced_filled_Dataset-vf.csv')\n",
    "#split the data as 80% training and 20% testing\n",
    "X = data.iloc[:,0:14]\n",
    "Y = data.iloc[:,14]\n",
    "X_train, X_test, Y_train, Y_test = train_test_split(X,Y, random_state = 0, test_size = 0.2)\n",
    "#scale the data\n",
    "scale_X = StandardScaler()\n",
    "X_train = scale_X.fit_transform(X_train)\n",
    "X_test = scale_X.fit_transform(X_test)\n",
    "#use KNN as our classifier - I used k = 39 because sqrt of length of y_test = 39 and this is a common way to guess the value of k, and it is odd number\n",
    "classifier = KNeighborsClassifier(n_neighbors = 1, p = 7, metric = 'euclidean')\n",
    "classifier.fit(X_train,Y_train)\n",
    "#calculate the error\n",
    "error = 1 - classifier.score(X_test,Y_test)\n",
    "print(\"Error rate = \" , 100*error, \"%\")"
   ]
  }
 ],
 "metadata": {
  "kernelspec": {
   "display_name": "Python 3 (ipykernel)",
   "language": "python",
   "name": "python3"
  },
  "language_info": {
   "codemirror_mode": {
    "name": "ipython",
    "version": 3
   },
   "file_extension": ".py",
   "mimetype": "text/x-python",
   "name": "python",
   "nbconvert_exporter": "python",
   "pygments_lexer": "ipython3",
   "version": "3.9.7"
  },
  "vscode": {
   "interpreter": {
    "hash": "362c3e28a184c9a10a6611ff1607a8a63416bffb2ca322aa9e6df9bfad7a3e35"
   }
  }
 },
 "nbformat": 4,
 "nbformat_minor": 5
}
