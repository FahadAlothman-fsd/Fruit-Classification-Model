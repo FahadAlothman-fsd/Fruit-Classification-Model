{
 "cells": [
  {
   "cell_type": "markdown",
   "id": "9e6cfb2a",
   "metadata": {},
   "source": [
    "# Analysis on Dataset \"Dataset-vf\"\n",
    "\n",
    "<strong>The first step in our task to perform multiclass classification on the dataset [Dataset-vf](./Dataset-vf.csv) is preprocessing the dataset, this includes: </strong>\n",
    "- Dataset analysis and report on important statistics\n",
    "- Correlation analysis\n",
    "- Dealing with missing values (if applicable)\n",
    "- Dealing with imbalanced data (if applicable)\n",
    "- Feature transformation/engineering\n",
    "- List of appropriate evaluation measures with justifications\n",
    "\n",
    "\n",
    "- [Observing the dataset](#Observing-the-dataset)\n",
    "    - [Important Statisitcs](#Important-Statisitcs)\n",
    "    - [Nature of the dataset](#Nature-of-the-dataset)\n",
    "        - [Observing Features](#Observing-Features)\n",
    "        - [Dealing with Missing Values](#Dealing-with-Missing-Values)\n",
    "        - [Handling Imbalanced Data](#Handling-Imbalanced-Data)\n",
    "\n",
    "## Observing the dataset\n",
    "<strong>First we need to load the dataset, *report important statistic* on the numerical features and display the type of each feature before we can do further analysis.  </strong>"
   ]
  },
  {
   "cell_type": "code",
   "execution_count": 191,
   "id": "08ef8d22",
   "metadata": {},
   "outputs": [],
   "source": [
    "import pandas as pd\n",
    "import numpy as np\n",
    "import seaborn as sns\n",
    "import matplotlib.pyplot as plt"
   ]
  },
  {
   "cell_type": "code",
   "execution_count": 192,
   "id": "67ad4951",
   "metadata": {},
   "outputs": [],
   "source": [
    "data = pd.read_csv('Dataset-vf.csv')"
   ]
  },
  {
   "cell_type": "markdown",
   "id": "d6c29b7f",
   "metadata": {},
   "source": [
    "### Important Statisitcs"
   ]
  },
  {
   "cell_type": "code",
   "execution_count": 193,
   "id": "f4d9d94c",
   "metadata": {},
   "outputs": [
    {
     "data": {
      "text/html": [
       "<div>\n",
       "<style scoped>\n",
       "    .dataframe tbody tr th:only-of-type {\n",
       "        vertical-align: middle;\n",
       "    }\n",
       "\n",
       "    .dataframe tbody tr th {\n",
       "        vertical-align: top;\n",
       "    }\n",
       "\n",
       "    .dataframe thead th {\n",
       "        text-align: right;\n",
       "    }\n",
       "</style>\n",
       "<table border=\"1\" class=\"dataframe\">\n",
       "  <thead>\n",
       "    <tr style=\"text-align: right;\">\n",
       "      <th></th>\n",
       "      <th>X1</th>\n",
       "      <th>X2</th>\n",
       "      <th>X3</th>\n",
       "      <th>X4</th>\n",
       "      <th>X5</th>\n",
       "      <th>X6</th>\n",
       "      <th>X7</th>\n",
       "      <th>X8</th>\n",
       "      <th>X9</th>\n",
       "      <th>X10</th>\n",
       "      <th>X11</th>\n",
       "      <th>X12</th>\n",
       "    </tr>\n",
       "  </thead>\n",
       "  <tbody>\n",
       "    <tr>\n",
       "      <th>count</th>\n",
       "      <td>6374.000000</td>\n",
       "      <td>5747.000000</td>\n",
       "      <td>6374.000000</td>\n",
       "      <td>6374.000000</td>\n",
       "      <td>6374.000000</td>\n",
       "      <td>6374.000000</td>\n",
       "      <td>6374.000000</td>\n",
       "      <td>6374.000000</td>\n",
       "      <td>6374.000000</td>\n",
       "      <td>6374.000000</td>\n",
       "      <td>6374.000000</td>\n",
       "      <td>6374.000000</td>\n",
       "    </tr>\n",
       "    <tr>\n",
       "      <th>mean</th>\n",
       "      <td>2635.858958</td>\n",
       "      <td>153.239603</td>\n",
       "      <td>17.059617</td>\n",
       "      <td>191.487292</td>\n",
       "      <td>47.864920</td>\n",
       "      <td>1515.537182</td>\n",
       "      <td>215.191246</td>\n",
       "      <td>218.024318</td>\n",
       "      <td>130.301224</td>\n",
       "      <td>1425.017728</td>\n",
       "      <td>0.494167</td>\n",
       "      <td>6.786476</td>\n",
       "    </tr>\n",
       "    <tr>\n",
       "      <th>std</th>\n",
       "      <td>394.715236</td>\n",
       "      <td>105.619123</td>\n",
       "      <td>9.008995</td>\n",
       "      <td>177.839135</td>\n",
       "      <td>57.640187</td>\n",
       "      <td>1281.423405</td>\n",
       "      <td>31.643570</td>\n",
       "      <td>23.850334</td>\n",
       "      <td>49.012495</td>\n",
       "      <td>1109.522425</td>\n",
       "      <td>0.291627</td>\n",
       "      <td>573.926918</td>\n",
       "    </tr>\n",
       "    <tr>\n",
       "      <th>min</th>\n",
       "      <td>1863.000000</td>\n",
       "      <td>0.000000</td>\n",
       "      <td>0.000000</td>\n",
       "      <td>0.000000</td>\n",
       "      <td>-134.000000</td>\n",
       "      <td>0.000000</td>\n",
       "      <td>0.000000</td>\n",
       "      <td>99.000000</td>\n",
       "      <td>0.000000</td>\n",
       "      <td>30.000000</td>\n",
       "      <td>0.000000</td>\n",
       "      <td>-1000.000000</td>\n",
       "    </tr>\n",
       "    <tr>\n",
       "      <th>25%</th>\n",
       "      <td>2282.000000</td>\n",
       "      <td>69.000000</td>\n",
       "      <td>10.000000</td>\n",
       "      <td>42.000000</td>\n",
       "      <td>2.000000</td>\n",
       "      <td>624.000000</td>\n",
       "      <td>200.000000</td>\n",
       "      <td>206.000000</td>\n",
       "      <td>98.000000</td>\n",
       "      <td>663.000000</td>\n",
       "      <td>0.240000</td>\n",
       "      <td>-492.000000</td>\n",
       "    </tr>\n",
       "    <tr>\n",
       "      <th>50%</th>\n",
       "      <td>2686.000000</td>\n",
       "      <td>123.000000</td>\n",
       "      <td>16.000000</td>\n",
       "      <td>150.000000</td>\n",
       "      <td>28.000000</td>\n",
       "      <td>1150.000000</td>\n",
       "      <td>223.000000</td>\n",
       "      <td>222.000000</td>\n",
       "      <td>135.000000</td>\n",
       "      <td>1168.000000</td>\n",
       "      <td>0.490000</td>\n",
       "      <td>21.500000</td>\n",
       "    </tr>\n",
       "    <tr>\n",
       "      <th>75%</th>\n",
       "      <td>2919.000000</td>\n",
       "      <td>242.000000</td>\n",
       "      <td>24.000000</td>\n",
       "      <td>295.000000</td>\n",
       "      <td>78.000000</td>\n",
       "      <td>1959.000000</td>\n",
       "      <td>238.750000</td>\n",
       "      <td>235.000000</td>\n",
       "      <td>165.000000</td>\n",
       "      <td>1852.000000</td>\n",
       "      <td>0.750000</td>\n",
       "      <td>495.750000</td>\n",
       "    </tr>\n",
       "    <tr>\n",
       "      <th>max</th>\n",
       "      <td>3675.000000</td>\n",
       "      <td>360.000000</td>\n",
       "      <td>52.000000</td>\n",
       "      <td>1129.000000</td>\n",
       "      <td>334.000000</td>\n",
       "      <td>6890.000000</td>\n",
       "      <td>254.000000</td>\n",
       "      <td>254.000000</td>\n",
       "      <td>248.000000</td>\n",
       "      <td>6853.000000</td>\n",
       "      <td>1.000000</td>\n",
       "      <td>1000.000000</td>\n",
       "    </tr>\n",
       "  </tbody>\n",
       "</table>\n",
       "</div>"
      ],
      "text/plain": [
       "                X1           X2           X3           X4           X5  \\\n",
       "count  6374.000000  5747.000000  6374.000000  6374.000000  6374.000000   \n",
       "mean   2635.858958   153.239603    17.059617   191.487292    47.864920   \n",
       "std     394.715236   105.619123     9.008995   177.839135    57.640187   \n",
       "min    1863.000000     0.000000     0.000000     0.000000  -134.000000   \n",
       "25%    2282.000000    69.000000    10.000000    42.000000     2.000000   \n",
       "50%    2686.000000   123.000000    16.000000   150.000000    28.000000   \n",
       "75%    2919.000000   242.000000    24.000000   295.000000    78.000000   \n",
       "max    3675.000000   360.000000    52.000000  1129.000000   334.000000   \n",
       "\n",
       "                X6           X7           X8           X9          X10  \\\n",
       "count  6374.000000  6374.000000  6374.000000  6374.000000  6374.000000   \n",
       "mean   1515.537182   215.191246   218.024318   130.301224  1425.017728   \n",
       "std    1281.423405    31.643570    23.850334    49.012495  1109.522425   \n",
       "min       0.000000     0.000000    99.000000     0.000000    30.000000   \n",
       "25%     624.000000   200.000000   206.000000    98.000000   663.000000   \n",
       "50%    1150.000000   223.000000   222.000000   135.000000  1168.000000   \n",
       "75%    1959.000000   238.750000   235.000000   165.000000  1852.000000   \n",
       "max    6890.000000   254.000000   254.000000   248.000000  6853.000000   \n",
       "\n",
       "               X11          X12  \n",
       "count  6374.000000  6374.000000  \n",
       "mean      0.494167     6.786476  \n",
       "std       0.291627   573.926918  \n",
       "min       0.000000 -1000.000000  \n",
       "25%       0.240000  -492.000000  \n",
       "50%       0.490000    21.500000  \n",
       "75%       0.750000   495.750000  \n",
       "max       1.000000  1000.000000  "
      ]
     },
     "execution_count": 193,
     "metadata": {},
     "output_type": "execute_result"
    }
   ],
   "source": [
    "data.describe()"
   ]
  },
  {
   "cell_type": "code",
   "execution_count": 194,
   "id": "1602e45e",
   "metadata": {},
   "outputs": [],
   "source": [
    "import missingno as msno"
   ]
  },
  {
   "cell_type": "code",
   "execution_count": 195,
   "id": "aebb8c34",
   "metadata": {
    "scrolled": false
   },
   "outputs": [
    {
     "data": {
      "text/plain": [
       "<AxesSubplot:>"
      ]
     },
     "execution_count": 195,
     "metadata": {},
     "output_type": "execute_result"
    },
    {
     "data": {
      "image/png": "[encoded data removed]",
      "text/plain": [
       "<Figure size 1800x720 with 2 Axes>"
      ]
     },
     "metadata": {
      "needs_background": "light"
     },
     "output_type": "display_data"
    }
   ],
   "source": [
    "msno.matrix(data)"
   ]
  },
  {
   "cell_type": "markdown",
   "id": "99c4b32d",
   "metadata": {},
   "source": [
    "Visualization of Missing Values: white lines denote the presence of missing value\n",
    "\n",
    "<hr>\n",
    "\n",
    "### Nature of the dataset\n"
   ]
  },
  {
   "cell_type": "code",
   "execution_count": 196,
   "id": "531bd261",
   "metadata": {
    "scrolled": false
   },
   "outputs": [
    {
     "name": "stdout",
     "output_type": "stream",
     "text": [
      "<class 'pandas.core.frame.DataFrame'>\n",
      "RangeIndex: 6374 entries, 0 to 6373\n",
      "Data columns (total 16 columns):\n",
      " #   Column  Non-Null Count  Dtype  \n",
      "---  ------  --------------  -----  \n",
      " 0   X1      6374 non-null   int64  \n",
      " 1   X2      5747 non-null   float64\n",
      " 2   X3      6374 non-null   int64  \n",
      " 3   X4      6374 non-null   int64  \n",
      " 4   X5      6374 non-null   int64  \n",
      " 5   X6      6374 non-null   int64  \n",
      " 6   X7      6374 non-null   int64  \n",
      " 7   X8      6374 non-null   int64  \n",
      " 8   X9      6374 non-null   int64  \n",
      " 9   X10     6374 non-null   int64  \n",
      " 10  X11     6374 non-null   float64\n",
      " 11  X12     6374 non-null   int64  \n",
      " 12  X13     6374 non-null   object \n",
      " 13  X14     6374 non-null   object \n",
      " 14  X15     631 non-null    object \n",
      " 15  Y       6374 non-null   object \n",
      "dtypes: float64(2), int64(10), object(4)\n",
      "memory usage: 796.9+ KB\n"
     ]
    }
   ],
   "source": [
    "data.info()"
   ]
  },
  {
   "cell_type": "code",
   "execution_count": 197,
   "id": "8481678a",
   "metadata": {},
   "outputs": [
    {
     "data": {
      "text/plain": [
       "array(['Melon', 'Carrot', 'Orange', 'Apple', 'Berry', 'Mango', 'Peach'],\n",
       "      dtype=object)"
      ]
     },
     "execution_count": 197,
     "metadata": {},
     "output_type": "execute_result"
    }
   ],
   "source": [
    "data['Y'].unique()"
   ]
  },
  {
   "cell_type": "code",
   "execution_count": 198,
   "id": "4f08d1bb",
   "metadata": {},
   "outputs": [
    {
     "data": {
      "text/plain": [
       "627"
      ]
     },
     "execution_count": 198,
     "metadata": {},
     "output_type": "execute_result"
    }
   ],
   "source": [
    "data['X2'].isna().sum()"
   ]
  },
  {
   "cell_type": "code",
   "execution_count": 199,
   "id": "b297dd0a",
   "metadata": {
    "scrolled": true
   },
   "outputs": [
    {
     "data": {
      "text/plain": [
       "5743"
      ]
     },
     "execution_count": 199,
     "metadata": {},
     "output_type": "execute_result"
    }
   ],
   "source": [
    "data['X15'].isna().sum()"
   ]
  },
  {
   "cell_type": "markdown",
   "id": "88f687c0",
   "metadata": {},
   "source": [
    "#### Observing Features\n",
    "\n",
    "##### Feature Types\n",
    "\n",
    "- there are *15* features in total\n",
    "- *12* are numerical features\n",
    "- *3* are categorical\n",
    "\n",
    "\n",
    "##### Target Feature\n",
    "\n",
    "- target feature has 7 unique labels which are: ['Melon', 'Carrot', 'Orange', 'Apple', 'Berry', 'Mango', 'Peach']\n",
    "\n",
    "<strong>Since the features of the dataset are kept anonymous (\"X1\" - \"X15\") it is difficult to adequately handle the preprocessing phase since there is no way to identify the nature of the feature.</strong>\n",
    "\n",
    "<strong>However, looking at the target feature we can see that it is a fruit classification problem. Which will help us in the preprocessing phase. </strong>\n",
    "\n",
    "\n",
    "\n",
    "#### Dealing with Missing Values\n",
    "\n",
    "- Feature **\"X15\"** has *5743* missing values\n",
    "- Feature **\"X2\"** has *627* missing values\n",
    "\n",
    "##### Methods to handle Missing Values\n",
    "\n",
    "<strong>These methods do not handle missing values the same, so proper justification should be given when a method is implemented</strong>\n",
    "- Deleting Rows with missing values\n",
    "- Deleting the feature\n",
    "- Impute missing values with Mean/Median/Mode\n",
    "- Replacing with Previous Value – Forward Fill\n",
    "- Replacing with Next Value – Backward Fill\n",
    "- [interpolation](https://blog.enterprisedna.co/handling-missing-data-in-python-using-interpolation-method/)\n",
    "- Imputing using KNN\n",
    "- [MICE Imputation](https://www.ncbi.nlm.nih.gov/pmc/articles/PMC3074241/)\n",
    " \n",
    "Resources: \n",
    "- https://www.analyticsvidhya.com/blog/2021/10/handling-missing-value/\n",
    "- https://pianalytix.com/how-do-you-handle-missing-values-categorical-data-and-feature-scaling-in-machine-learning/\n",
    "- https://machinelearningmastery.com/knn-imputation-for-missing-values-in-machine-learning/\n",
    "<hr>\n",
    "\n",
    "##### Handling X15 feature\n",
    "- has *5743* missing values\n",
    "- categorical feature\n",
    "- labels = [R, R1, R2, R3]\n",
    "\n",
    "<strong>The best method to handle the missing values is to drop this feature.</strong>\n",
    "<br>\n",
    "The reasoning is as follows:\n",
    "- the percentage of missing values is extremely high (at 90%)\n",
    "- It's a categorical feature so there are not any straightforward statistical method to fill the missing values\n",
    "- Looking at the unique labels I see that there are four {R, R1, R2, R3}. \n",
    "    I would hesitantly conclude that these categories don't make sense (why have R and R1).\n"
   ]
  },
  {
   "cell_type": "code",
   "execution_count": 200,
   "id": "7571771b",
   "metadata": {},
   "outputs": [
    {
     "data": {
      "text/plain": [
       "90.10040790712269"
      ]
     },
     "execution_count": 200,
     "metadata": {},
     "output_type": "execute_result"
    }
   ],
   "source": [
    "data['X15'].isna().sum() / data.shape[0] * 100"
   ]
  },
  {
   "cell_type": "code",
   "execution_count": 201,
   "id": "b1d701ad",
   "metadata": {
    "scrolled": true
   },
   "outputs": [
    {
     "name": "stdout",
     "output_type": "stream",
     "text": [
      "<class 'pandas.core.frame.DataFrame'>\n",
      "RangeIndex: 6374 entries, 0 to 6373\n",
      "Data columns (total 15 columns):\n",
      " #   Column  Non-Null Count  Dtype  \n",
      "---  ------  --------------  -----  \n",
      " 0   X1      6374 non-null   int64  \n",
      " 1   X2      5747 non-null   float64\n",
      " 2   X3      6374 non-null   int64  \n",
      " 3   X4      6374 non-null   int64  \n",
      " 4   X5      6374 non-null   int64  \n",
      " 5   X6      6374 non-null   int64  \n",
      " 6   X7      6374 non-null   int64  \n",
      " 7   X8      6374 non-null   int64  \n",
      " 8   X9      6374 non-null   int64  \n",
      " 9   X10     6374 non-null   int64  \n",
      " 10  X11     6374 non-null   float64\n",
      " 11  X12     6374 non-null   int64  \n",
      " 12  X13     6374 non-null   object \n",
      " 13  X14     6374 non-null   object \n",
      " 14  Y       6374 non-null   object \n",
      "dtypes: float64(2), int64(10), object(3)\n",
      "memory usage: 747.1+ KB\n"
     ]
    }
   ],
   "source": [
    "modified_data = data.drop('X15', axis=1)\n",
    "modified_data.info()"
   ]
  },
  {
   "cell_type": "markdown",
   "id": "37ca61ab",
   "metadata": {},
   "source": [
    "<strong>Now that we dropped feature *X15* we can focus on filling the missing values in feature *X2* </strong>\n",
    "\n",
    "<hr>\n",
    "\n",
    "##### Handling X2 feature\n",
    "- has *627* missing values\n",
    "- numerical feature\n",
    "- {min, max} = {0, 360}\n",
    "- median = 123\n",
    "- mean = 153.23\n",
    "<br>\n",
    "<br>\n",
    "<strong>Methods to consider: </strong>\n",
    "\n",
    "<br>\n",
    "\n",
    "- <strong>Deleting rows that have missing values might be a good approach if we have an extremely small percentage \n",
    "    (<5%) but since feature \"X2\" has almost 10% of its values missing, this approach will significantly reduce the dataset (which is already kind of small at 6374 entries) </strong>\n",
    "\n",
    "- <strong> Deleting the feature be a good approach if we have an extremely large percentage (>50%)   but since feature \"X2\" has almost 10% of its values missing, this approach will significantly reduce the capability of the model to accurately predict. </strong> \n",
    "    \n",
    "- <strong>We can fill the missing values with the median or mean or mode. However, none of these methods take into account the covariance between features. Furthermore, these methods might skew the results a bit (it is a great approach but today we have more accurate methods) </strong>\n",
    "    \n",
    "- <strong> imputing with KNN seems like a good option since it takes into account other features. So it will be an option that we will use   </strong>\n",
    "\n",
    "- <strong>imputing with Multiple Imputation by Chained Equations (MICE) is also a good option as it also considers other features while imputing. Furthermore, It factors in the correlation between the features</strong>\n",
    "\n",
    "\n",
    "<br>\n",
    "    \n",
    "\n",
    "<p>We will now impute the missing data using KNN and MICE and see which one performs better. our criteria includes:  </p>\n",
    "\n",
    "- should not modify the max and min values (the feature range: [0,360]. makes us suspect that it has to do with degrees, so we would not want it to modify these values)\n",
    "- should not significantly change other statisitcs displayed in the original data."
   ]
  },
  {
   "cell_type": "code",
   "execution_count": 202,
   "id": "ece44c7b",
   "metadata": {},
   "outputs": [
    {
     "data": {
      "text/plain": [
       "9.836837150925636"
      ]
     },
     "execution_count": 202,
     "metadata": {},
     "output_type": "execute_result"
    }
   ],
   "source": [
    "modified_data['X2'].isna().sum() / modified_data.shape[0] * 100"
   ]
  },
  {
   "cell_type": "code",
   "execution_count": 203,
   "id": "a4da725e",
   "metadata": {},
   "outputs": [
    {
     "data": {
      "text/html": [
       "<div>\n",
       "<style scoped>\n",
       "    .dataframe tbody tr th:only-of-type {\n",
       "        vertical-align: middle;\n",
       "    }\n",
       "\n",
       "    .dataframe tbody tr th {\n",
       "        vertical-align: top;\n",
       "    }\n",
       "\n",
       "    .dataframe thead th {\n",
       "        text-align: right;\n",
       "    }\n",
       "</style>\n",
       "<table border=\"1\" class=\"dataframe\">\n",
       "  <thead>\n",
       "    <tr style=\"text-align: right;\">\n",
       "      <th></th>\n",
       "      <th>X1</th>\n",
       "      <th>X2</th>\n",
       "      <th>X3</th>\n",
       "      <th>X4</th>\n",
       "      <th>X5</th>\n",
       "      <th>X6</th>\n",
       "      <th>X7</th>\n",
       "      <th>X8</th>\n",
       "      <th>X9</th>\n",
       "      <th>X10</th>\n",
       "      <th>X11</th>\n",
       "      <th>X12</th>\n",
       "    </tr>\n",
       "  </thead>\n",
       "  <tbody>\n",
       "    <tr>\n",
       "      <th>count</th>\n",
       "      <td>6374.000000</td>\n",
       "      <td>5747.000000</td>\n",
       "      <td>6374.000000</td>\n",
       "      <td>6374.000000</td>\n",
       "      <td>6374.000000</td>\n",
       "      <td>6374.000000</td>\n",
       "      <td>6374.000000</td>\n",
       "      <td>6374.000000</td>\n",
       "      <td>6374.000000</td>\n",
       "      <td>6374.000000</td>\n",
       "      <td>6374.000000</td>\n",
       "      <td>6374.000000</td>\n",
       "    </tr>\n",
       "    <tr>\n",
       "      <th>mean</th>\n",
       "      <td>2635.858958</td>\n",
       "      <td>153.239603</td>\n",
       "      <td>17.059617</td>\n",
       "      <td>191.487292</td>\n",
       "      <td>47.864920</td>\n",
       "      <td>1515.537182</td>\n",
       "      <td>215.191246</td>\n",
       "      <td>218.024318</td>\n",
       "      <td>130.301224</td>\n",
       "      <td>1425.017728</td>\n",
       "      <td>0.494167</td>\n",
       "      <td>6.786476</td>\n",
       "    </tr>\n",
       "    <tr>\n",
       "      <th>std</th>\n",
       "      <td>394.715236</td>\n",
       "      <td>105.619123</td>\n",
       "      <td>9.008995</td>\n",
       "      <td>177.839135</td>\n",
       "      <td>57.640187</td>\n",
       "      <td>1281.423405</td>\n",
       "      <td>31.643570</td>\n",
       "      <td>23.850334</td>\n",
       "      <td>49.012495</td>\n",
       "      <td>1109.522425</td>\n",
       "      <td>0.291627</td>\n",
       "      <td>573.926918</td>\n",
       "    </tr>\n",
       "    <tr>\n",
       "      <th>min</th>\n",
       "      <td>1863.000000</td>\n",
       "      <td>0.000000</td>\n",
       "      <td>0.000000</td>\n",
       "      <td>0.000000</td>\n",
       "      <td>-134.000000</td>\n",
       "      <td>0.000000</td>\n",
       "      <td>0.000000</td>\n",
       "      <td>99.000000</td>\n",
       "      <td>0.000000</td>\n",
       "      <td>30.000000</td>\n",
       "      <td>0.000000</td>\n",
       "      <td>-1000.000000</td>\n",
       "    </tr>\n",
       "    <tr>\n",
       "      <th>25%</th>\n",
       "      <td>2282.000000</td>\n",
       "      <td>69.000000</td>\n",
       "      <td>10.000000</td>\n",
       "      <td>42.000000</td>\n",
       "      <td>2.000000</td>\n",
       "      <td>624.000000</td>\n",
       "      <td>200.000000</td>\n",
       "      <td>206.000000</td>\n",
       "      <td>98.000000</td>\n",
       "      <td>663.000000</td>\n",
       "      <td>0.240000</td>\n",
       "      <td>-492.000000</td>\n",
       "    </tr>\n",
       "    <tr>\n",
       "      <th>50%</th>\n",
       "      <td>2686.000000</td>\n",
       "      <td>123.000000</td>\n",
       "      <td>16.000000</td>\n",
       "      <td>150.000000</td>\n",
       "      <td>28.000000</td>\n",
       "      <td>1150.000000</td>\n",
       "      <td>223.000000</td>\n",
       "      <td>222.000000</td>\n",
       "      <td>135.000000</td>\n",
       "      <td>1168.000000</td>\n",
       "      <td>0.490000</td>\n",
       "      <td>21.500000</td>\n",
       "    </tr>\n",
       "    <tr>\n",
       "      <th>75%</th>\n",
       "      <td>2919.000000</td>\n",
       "      <td>242.000000</td>\n",
       "      <td>24.000000</td>\n",
       "      <td>295.000000</td>\n",
       "      <td>78.000000</td>\n",
       "      <td>1959.000000</td>\n",
       "      <td>238.750000</td>\n",
       "      <td>235.000000</td>\n",
       "      <td>165.000000</td>\n",
       "      <td>1852.000000</td>\n",
       "      <td>0.750000</td>\n",
       "      <td>495.750000</td>\n",
       "    </tr>\n",
       "    <tr>\n",
       "      <th>max</th>\n",
       "      <td>3675.000000</td>\n",
       "      <td>360.000000</td>\n",
       "      <td>52.000000</td>\n",
       "      <td>1129.000000</td>\n",
       "      <td>334.000000</td>\n",
       "      <td>6890.000000</td>\n",
       "      <td>254.000000</td>\n",
       "      <td>254.000000</td>\n",
       "      <td>248.000000</td>\n",
       "      <td>6853.000000</td>\n",
       "      <td>1.000000</td>\n",
       "      <td>1000.000000</td>\n",
       "    </tr>\n",
       "  </tbody>\n",
       "</table>\n",
       "</div>"
      ],
      "text/plain": [
       "                X1           X2           X3           X4           X5  \\\n",
       "count  6374.000000  5747.000000  6374.000000  6374.000000  6374.000000   \n",
       "mean   2635.858958   153.239603    17.059617   191.487292    47.864920   \n",
       "std     394.715236   105.619123     9.008995   177.839135    57.640187   \n",
       "min    1863.000000     0.000000     0.000000     0.000000  -134.000000   \n",
       "25%    2282.000000    69.000000    10.000000    42.000000     2.000000   \n",
       "50%    2686.000000   123.000000    16.000000   150.000000    28.000000   \n",
       "75%    2919.000000   242.000000    24.000000   295.000000    78.000000   \n",
       "max    3675.000000   360.000000    52.000000  1129.000000   334.000000   \n",
       "\n",
       "                X6           X7           X8           X9          X10  \\\n",
       "count  6374.000000  6374.000000  6374.000000  6374.000000  6374.000000   \n",
       "mean   1515.537182   215.191246   218.024318   130.301224  1425.017728   \n",
       "std    1281.423405    31.643570    23.850334    49.012495  1109.522425   \n",
       "min       0.000000     0.000000    99.000000     0.000000    30.000000   \n",
       "25%     624.000000   200.000000   206.000000    98.000000   663.000000   \n",
       "50%    1150.000000   223.000000   222.000000   135.000000  1168.000000   \n",
       "75%    1959.000000   238.750000   235.000000   165.000000  1852.000000   \n",
       "max    6890.000000   254.000000   254.000000   248.000000  6853.000000   \n",
       "\n",
       "               X11          X12  \n",
       "count  6374.000000  6374.000000  \n",
       "mean      0.494167     6.786476  \n",
       "std       0.291627   573.926918  \n",
       "min       0.000000 -1000.000000  \n",
       "25%       0.240000  -492.000000  \n",
       "50%       0.490000    21.500000  \n",
       "75%       0.750000   495.750000  \n",
       "max       1.000000  1000.000000  "
      ]
     },
     "execution_count": 203,
     "metadata": {},
     "output_type": "execute_result"
    }
   ],
   "source": [
    "modified_data.describe()"
   ]
  },
  {
   "cell_type": "markdown",
   "id": "b06811df",
   "metadata": {},
   "source": [
    "##### KNN Imputer"
   ]
  },
  {
   "cell_type": "code",
   "execution_count": 204,
   "id": "bec735b4",
   "metadata": {
    "scrolled": true
   },
   "outputs": [
    {
     "data": {
      "text/html": [
       "<div>\n",
       "<style scoped>\n",
       "    .dataframe tbody tr th:only-of-type {\n",
       "        vertical-align: middle;\n",
       "    }\n",
       "\n",
       "    .dataframe tbody tr th {\n",
       "        vertical-align: top;\n",
       "    }\n",
       "\n",
       "    .dataframe thead th {\n",
       "        text-align: right;\n",
       "    }\n",
       "</style>\n",
       "<table border=\"1\" class=\"dataframe\">\n",
       "  <thead>\n",
       "    <tr style=\"text-align: right;\">\n",
       "      <th></th>\n",
       "      <th>X1</th>\n",
       "      <th>X2</th>\n",
       "      <th>X3</th>\n",
       "      <th>X4</th>\n",
       "      <th>X5</th>\n",
       "      <th>X6</th>\n",
       "      <th>X7</th>\n",
       "      <th>X8</th>\n",
       "      <th>X9</th>\n",
       "      <th>X10</th>\n",
       "      <th>X11</th>\n",
       "      <th>X12</th>\n",
       "    </tr>\n",
       "  </thead>\n",
       "  <tbody>\n",
       "    <tr>\n",
       "      <th>count</th>\n",
       "      <td>6374.000000</td>\n",
       "      <td>6374.000000</td>\n",
       "      <td>6374.000000</td>\n",
       "      <td>6374.000000</td>\n",
       "      <td>6374.000000</td>\n",
       "      <td>6374.000000</td>\n",
       "      <td>6374.000000</td>\n",
       "      <td>6374.000000</td>\n",
       "      <td>6374.000000</td>\n",
       "      <td>6374.000000</td>\n",
       "      <td>6374.000000</td>\n",
       "      <td>6374.000000</td>\n",
       "    </tr>\n",
       "    <tr>\n",
       "      <th>mean</th>\n",
       "      <td>2635.858958</td>\n",
       "      <td>152.626027</td>\n",
       "      <td>17.059617</td>\n",
       "      <td>191.487292</td>\n",
       "      <td>47.864920</td>\n",
       "      <td>1515.537182</td>\n",
       "      <td>215.191246</td>\n",
       "      <td>218.024318</td>\n",
       "      <td>130.301224</td>\n",
       "      <td>1425.017728</td>\n",
       "      <td>0.494167</td>\n",
       "      <td>6.786476</td>\n",
       "    </tr>\n",
       "    <tr>\n",
       "      <th>std</th>\n",
       "      <td>394.715236</td>\n",
       "      <td>102.148426</td>\n",
       "      <td>9.008995</td>\n",
       "      <td>177.839135</td>\n",
       "      <td>57.640187</td>\n",
       "      <td>1281.423405</td>\n",
       "      <td>31.643570</td>\n",
       "      <td>23.850334</td>\n",
       "      <td>49.012495</td>\n",
       "      <td>1109.522425</td>\n",
       "      <td>0.291627</td>\n",
       "      <td>573.926918</td>\n",
       "    </tr>\n",
       "    <tr>\n",
       "      <th>min</th>\n",
       "      <td>1863.000000</td>\n",
       "      <td>0.000000</td>\n",
       "      <td>0.000000</td>\n",
       "      <td>0.000000</td>\n",
       "      <td>-134.000000</td>\n",
       "      <td>0.000000</td>\n",
       "      <td>0.000000</td>\n",
       "      <td>99.000000</td>\n",
       "      <td>0.000000</td>\n",
       "      <td>30.000000</td>\n",
       "      <td>0.000000</td>\n",
       "      <td>-1000.000000</td>\n",
       "    </tr>\n",
       "    <tr>\n",
       "      <th>25%</th>\n",
       "      <td>2282.000000</td>\n",
       "      <td>73.000000</td>\n",
       "      <td>10.000000</td>\n",
       "      <td>42.000000</td>\n",
       "      <td>2.000000</td>\n",
       "      <td>624.000000</td>\n",
       "      <td>200.000000</td>\n",
       "      <td>206.000000</td>\n",
       "      <td>98.000000</td>\n",
       "      <td>663.000000</td>\n",
       "      <td>0.240000</td>\n",
       "      <td>-492.000000</td>\n",
       "    </tr>\n",
       "    <tr>\n",
       "      <th>50%</th>\n",
       "      <td>2686.000000</td>\n",
       "      <td>125.000000</td>\n",
       "      <td>16.000000</td>\n",
       "      <td>150.000000</td>\n",
       "      <td>28.000000</td>\n",
       "      <td>1150.000000</td>\n",
       "      <td>223.000000</td>\n",
       "      <td>222.000000</td>\n",
       "      <td>135.000000</td>\n",
       "      <td>1168.000000</td>\n",
       "      <td>0.490000</td>\n",
       "      <td>21.500000</td>\n",
       "    </tr>\n",
       "    <tr>\n",
       "      <th>75%</th>\n",
       "      <td>2919.000000</td>\n",
       "      <td>230.000000</td>\n",
       "      <td>24.000000</td>\n",
       "      <td>295.000000</td>\n",
       "      <td>78.000000</td>\n",
       "      <td>1959.000000</td>\n",
       "      <td>238.750000</td>\n",
       "      <td>235.000000</td>\n",
       "      <td>165.000000</td>\n",
       "      <td>1852.000000</td>\n",
       "      <td>0.750000</td>\n",
       "      <td>495.750000</td>\n",
       "    </tr>\n",
       "    <tr>\n",
       "      <th>max</th>\n",
       "      <td>3675.000000</td>\n",
       "      <td>360.000000</td>\n",
       "      <td>52.000000</td>\n",
       "      <td>1129.000000</td>\n",
       "      <td>334.000000</td>\n",
       "      <td>6890.000000</td>\n",
       "      <td>254.000000</td>\n",
       "      <td>254.000000</td>\n",
       "      <td>248.000000</td>\n",
       "      <td>6853.000000</td>\n",
       "      <td>1.000000</td>\n",
       "      <td>1000.000000</td>\n",
       "    </tr>\n",
       "  </tbody>\n",
       "</table>\n",
       "</div>"
      ],
      "text/plain": [
       "                X1           X2           X3           X4           X5  \\\n",
       "count  6374.000000  6374.000000  6374.000000  6374.000000  6374.000000   \n",
       "mean   2635.858958   152.626027    17.059617   191.487292    47.864920   \n",
       "std     394.715236   102.148426     9.008995   177.839135    57.640187   \n",
       "min    1863.000000     0.000000     0.000000     0.000000  -134.000000   \n",
       "25%    2282.000000    73.000000    10.000000    42.000000     2.000000   \n",
       "50%    2686.000000   125.000000    16.000000   150.000000    28.000000   \n",
       "75%    2919.000000   230.000000    24.000000   295.000000    78.000000   \n",
       "max    3675.000000   360.000000    52.000000  1129.000000   334.000000   \n",
       "\n",
       "                X6           X7           X8           X9          X10  \\\n",
       "count  6374.000000  6374.000000  6374.000000  6374.000000  6374.000000   \n",
       "mean   1515.537182   215.191246   218.024318   130.301224  1425.017728   \n",
       "std    1281.423405    31.643570    23.850334    49.012495  1109.522425   \n",
       "min       0.000000     0.000000    99.000000     0.000000    30.000000   \n",
       "25%     624.000000   200.000000   206.000000    98.000000   663.000000   \n",
       "50%    1150.000000   223.000000   222.000000   135.000000  1168.000000   \n",
       "75%    1959.000000   238.750000   235.000000   165.000000  1852.000000   \n",
       "max    6890.000000   254.000000   254.000000   248.000000  6853.000000   \n",
       "\n",
       "               X11          X12  \n",
       "count  6374.000000  6374.000000  \n",
       "mean      0.494167     6.786476  \n",
       "std       0.291627   573.926918  \n",
       "min       0.000000 -1000.000000  \n",
       "25%       0.240000  -492.000000  \n",
       "50%       0.490000    21.500000  \n",
       "75%       0.750000   495.750000  \n",
       "max       1.000000  1000.000000  "
      ]
     },
     "execution_count": 204,
     "metadata": {},
     "output_type": "execute_result"
    }
   ],
   "source": [
    "from sklearn.impute import KNNImputer\n",
    "\n",
    "KNN_imputer = KNNImputer(n_neighbors=5, weights='distance')\n",
    "KNN_imputed_dataset = KNN_imputer.fit_transform(modified_data.drop(['X13', 'X14', 'Y'], axis=1))\n",
    "KNN_imputed_dataset = pd.DataFrame(KNN_imputed_dataset, columns=modified_data.columns[0:12])\n",
    "KNN_imputed_dataset.insert(KNN_imputed_dataset.shape[1], \"X13\",modified_data['X13'], False )\n",
    "KNN_imputed_dataset.insert(KNN_imputed_dataset.shape[1], \"X14\",modified_data['X14'], False )\n",
    "\n",
    "KNN_imputed_dataset.insert(KNN_imputed_dataset.shape[1], \"Y\",modified_data['Y'], False )\n",
    "KNN_imputed_dataset.describe()"
   ]
  },
  {
   "cell_type": "code",
   "execution_count": 205,
   "id": "e46241d1",
   "metadata": {},
   "outputs": [
    {
     "name": "stderr",
     "output_type": "stream",
     "text": [
      "C:\\Users\\ubi-A\\anaconda3\\lib\\site-packages\\seaborn\\_decorators.py:36: FutureWarning: Pass the following variable as a keyword arg: x. From version 0.12, the only valid positional argument will be `data`, and passing other arguments without an explicit keyword will result in an error or misinterpretation.\n",
      "  warnings.warn(\n"
     ]
    },
    {
     "data": {
      "text/plain": [
       "<AxesSubplot:xlabel='X2'>"
      ]
     },
     "execution_count": 205,
     "metadata": {},
     "output_type": "execute_result"
    },
    {
     "data": {
      "image/png": "[encoded data removed]",
      "text/plain": [
       "<Figure size 432x288 with 1 Axes>"
      ]
     },
     "metadata": {
      "needs_background": "light"
     },
     "output_type": "display_data"
    }
   ],
   "source": [
    "sns.boxplot(KNN_imputed_dataset['X2'])"
   ]
  },
  {
   "cell_type": "markdown",
   "id": "6601e31e",
   "metadata": {},
   "source": [
    "<hr>\n",
    "\n",
    "###### MICE Imputer"
   ]
  },
  {
   "cell_type": "code",
   "execution_count": 206,
   "id": "ffd48d26",
   "metadata": {
    "scrolled": true
   },
   "outputs": [
    {
     "data": {
      "text/html": [
       "<div>\n",
       "<style scoped>\n",
       "    .dataframe tbody tr th:only-of-type {\n",
       "        vertical-align: middle;\n",
       "    }\n",
       "\n",
       "    .dataframe tbody tr th {\n",
       "        vertical-align: top;\n",
       "    }\n",
       "\n",
       "    .dataframe thead th {\n",
       "        text-align: right;\n",
       "    }\n",
       "</style>\n",
       "<table border=\"1\" class=\"dataframe\">\n",
       "  <thead>\n",
       "    <tr style=\"text-align: right;\">\n",
       "      <th></th>\n",
       "      <th>X1</th>\n",
       "      <th>X2</th>\n",
       "      <th>X3</th>\n",
       "      <th>X4</th>\n",
       "      <th>X5</th>\n",
       "      <th>X6</th>\n",
       "      <th>X7</th>\n",
       "      <th>X8</th>\n",
       "      <th>X9</th>\n",
       "      <th>X10</th>\n",
       "      <th>X11</th>\n",
       "      <th>X12</th>\n",
       "    </tr>\n",
       "  </thead>\n",
       "  <tbody>\n",
       "    <tr>\n",
       "      <th>count</th>\n",
       "      <td>6374.000000</td>\n",
       "      <td>6374.000000</td>\n",
       "      <td>6374.000000</td>\n",
       "      <td>6374.000000</td>\n",
       "      <td>6374.000000</td>\n",
       "      <td>6374.000000</td>\n",
       "      <td>6374.000000</td>\n",
       "      <td>6374.000000</td>\n",
       "      <td>6374.000000</td>\n",
       "      <td>6374.000000</td>\n",
       "      <td>6374.000000</td>\n",
       "      <td>6374.000000</td>\n",
       "    </tr>\n",
       "    <tr>\n",
       "      <th>mean</th>\n",
       "      <td>2635.858958</td>\n",
       "      <td>153.189977</td>\n",
       "      <td>17.059617</td>\n",
       "      <td>191.487292</td>\n",
       "      <td>47.864920</td>\n",
       "      <td>1515.537182</td>\n",
       "      <td>215.191246</td>\n",
       "      <td>218.024318</td>\n",
       "      <td>130.301224</td>\n",
       "      <td>1425.017728</td>\n",
       "      <td>0.494167</td>\n",
       "      <td>6.786476</td>\n",
       "    </tr>\n",
       "    <tr>\n",
       "      <th>std</th>\n",
       "      <td>394.715236</td>\n",
       "      <td>103.090856</td>\n",
       "      <td>9.008995</td>\n",
       "      <td>177.839135</td>\n",
       "      <td>57.640187</td>\n",
       "      <td>1281.423405</td>\n",
       "      <td>31.643570</td>\n",
       "      <td>23.850334</td>\n",
       "      <td>49.012495</td>\n",
       "      <td>1109.522425</td>\n",
       "      <td>0.291627</td>\n",
       "      <td>573.926918</td>\n",
       "    </tr>\n",
       "    <tr>\n",
       "      <th>min</th>\n",
       "      <td>1863.000000</td>\n",
       "      <td>-6.432247</td>\n",
       "      <td>0.000000</td>\n",
       "      <td>0.000000</td>\n",
       "      <td>-134.000000</td>\n",
       "      <td>0.000000</td>\n",
       "      <td>0.000000</td>\n",
       "      <td>99.000000</td>\n",
       "      <td>0.000000</td>\n",
       "      <td>30.000000</td>\n",
       "      <td>0.000000</td>\n",
       "      <td>-1000.000000</td>\n",
       "    </tr>\n",
       "    <tr>\n",
       "      <th>25%</th>\n",
       "      <td>2282.000000</td>\n",
       "      <td>73.000000</td>\n",
       "      <td>10.000000</td>\n",
       "      <td>42.000000</td>\n",
       "      <td>2.000000</td>\n",
       "      <td>624.000000</td>\n",
       "      <td>200.000000</td>\n",
       "      <td>206.000000</td>\n",
       "      <td>98.000000</td>\n",
       "      <td>663.000000</td>\n",
       "      <td>0.240000</td>\n",
       "      <td>-492.000000</td>\n",
       "    </tr>\n",
       "    <tr>\n",
       "      <th>50%</th>\n",
       "      <td>2686.000000</td>\n",
       "      <td>125.000000</td>\n",
       "      <td>16.000000</td>\n",
       "      <td>150.000000</td>\n",
       "      <td>28.000000</td>\n",
       "      <td>1150.000000</td>\n",
       "      <td>223.000000</td>\n",
       "      <td>222.000000</td>\n",
       "      <td>135.000000</td>\n",
       "      <td>1168.000000</td>\n",
       "      <td>0.490000</td>\n",
       "      <td>21.500000</td>\n",
       "    </tr>\n",
       "    <tr>\n",
       "      <th>75%</th>\n",
       "      <td>2919.000000</td>\n",
       "      <td>232.000000</td>\n",
       "      <td>24.000000</td>\n",
       "      <td>295.000000</td>\n",
       "      <td>78.000000</td>\n",
       "      <td>1959.000000</td>\n",
       "      <td>238.750000</td>\n",
       "      <td>235.000000</td>\n",
       "      <td>165.000000</td>\n",
       "      <td>1852.000000</td>\n",
       "      <td>0.750000</td>\n",
       "      <td>495.750000</td>\n",
       "    </tr>\n",
       "    <tr>\n",
       "      <th>max</th>\n",
       "      <td>3675.000000</td>\n",
       "      <td>434.467270</td>\n",
       "      <td>52.000000</td>\n",
       "      <td>1129.000000</td>\n",
       "      <td>334.000000</td>\n",
       "      <td>6890.000000</td>\n",
       "      <td>254.000000</td>\n",
       "      <td>254.000000</td>\n",
       "      <td>248.000000</td>\n",
       "      <td>6853.000000</td>\n",
       "      <td>1.000000</td>\n",
       "      <td>1000.000000</td>\n",
       "    </tr>\n",
       "  </tbody>\n",
       "</table>\n",
       "</div>"
      ],
      "text/plain": [
       "                X1           X2           X3           X4           X5  \\\n",
       "count  6374.000000  6374.000000  6374.000000  6374.000000  6374.000000   \n",
       "mean   2635.858958   153.189977    17.059617   191.487292    47.864920   \n",
       "std     394.715236   103.090856     9.008995   177.839135    57.640187   \n",
       "min    1863.000000    -6.432247     0.000000     0.000000  -134.000000   \n",
       "25%    2282.000000    73.000000    10.000000    42.000000     2.000000   \n",
       "50%    2686.000000   125.000000    16.000000   150.000000    28.000000   \n",
       "75%    2919.000000   232.000000    24.000000   295.000000    78.000000   \n",
       "max    3675.000000   434.467270    52.000000  1129.000000   334.000000   \n",
       "\n",
       "                X6           X7           X8           X9          X10  \\\n",
       "count  6374.000000  6374.000000  6374.000000  6374.000000  6374.000000   \n",
       "mean   1515.537182   215.191246   218.024318   130.301224  1425.017728   \n",
       "std    1281.423405    31.643570    23.850334    49.012495  1109.522425   \n",
       "min       0.000000     0.000000    99.000000     0.000000    30.000000   \n",
       "25%     624.000000   200.000000   206.000000    98.000000   663.000000   \n",
       "50%    1150.000000   223.000000   222.000000   135.000000  1168.000000   \n",
       "75%    1959.000000   238.750000   235.000000   165.000000  1852.000000   \n",
       "max    6890.000000   254.000000   254.000000   248.000000  6853.000000   \n",
       "\n",
       "               X11          X12  \n",
       "count  6374.000000  6374.000000  \n",
       "mean      0.494167     6.786476  \n",
       "std       0.291627   573.926918  \n",
       "min       0.000000 -1000.000000  \n",
       "25%       0.240000  -492.000000  \n",
       "50%       0.490000    21.500000  \n",
       "75%       0.750000   495.750000  \n",
       "max       1.000000  1000.000000  "
      ]
     },
     "execution_count": 206,
     "metadata": {},
     "output_type": "execute_result"
    }
   ],
   "source": [
    "from sklearn.experimental import enable_iterative_imputer\n",
    "from sklearn.impute import IterativeImputer\n",
    "\n",
    "MICE_imputer = IterativeImputer(imputation_order='random',max_iter=10,random_state=777,n_nearest_features=None)\n",
    "MICE_imputed_dataset = MICE_imputer.fit_transform(modified_data.drop(['X13', 'X14', 'Y'], axis=1))\n",
    "MICE_imputed_dataset = pd.DataFrame(MICE_imputed_dataset, columns=modified_data.columns[0:12])\n",
    "MICE_imputed_dataset.insert(MICE_imputed_dataset.shape[1], \"X13\",modified_data['X13'], False )\n",
    "MICE_imputed_dataset.insert(MICE_imputed_dataset.shape[1], \"X14\",modified_data['X14'], False )\n",
    "\n",
    "MICE_imputed_dataset.insert(MICE_imputed_dataset.shape[1], \"Y\",modified_data['Y'], False )\n",
    "MICE_imputed_dataset.describe()"
   ]
  },
  {
   "cell_type": "code",
   "execution_count": 207,
   "id": "84e9c0df",
   "metadata": {},
   "outputs": [
    {
     "name": "stderr",
     "output_type": "stream",
     "text": [
      "C:\\Users\\ubi-A\\anaconda3\\lib\\site-packages\\seaborn\\_decorators.py:36: FutureWarning: Pass the following variable as a keyword arg: x. From version 0.12, the only valid positional argument will be `data`, and passing other arguments without an explicit keyword will result in an error or misinterpretation.\n",
      "  warnings.warn(\n"
     ]
    },
    {
     "data": {
      "text/plain": [
       "<AxesSubplot:xlabel='X2'>"
      ]
     },
     "execution_count": 207,
     "metadata": {},
     "output_type": "execute_result"
    },
    {
     "data": {
      "image/png": "[encoded data removed]",
      "text/plain": [
       "<Figure size 432x288 with 1 Axes>"
      ]
     },
     "metadata": {
      "needs_background": "light"
     },
     "output_type": "display_data"
    }
   ],
   "source": [
    "sns.boxplot(MICE_imputed_dataset['X2'])"
   ]
  },
  {
   "cell_type": "code",
   "execution_count": 208,
   "id": "f184db5d",
   "metadata": {},
   "outputs": [
    {
     "name": "stdout",
     "output_type": "stream",
     "text": [
      "<class 'pandas.core.frame.DataFrame'>\n",
      "RangeIndex: 6374 entries, 0 to 6373\n",
      "Data columns (total 15 columns):\n",
      " #   Column  Non-Null Count  Dtype  \n",
      "---  ------  --------------  -----  \n",
      " 0   X1      6374 non-null   float64\n",
      " 1   X2      6374 non-null   float64\n",
      " 2   X3      6374 non-null   float64\n",
      " 3   X4      6374 non-null   float64\n",
      " 4   X5      6374 non-null   float64\n",
      " 5   X6      6374 non-null   float64\n",
      " 6   X7      6374 non-null   float64\n",
      " 7   X8      6374 non-null   float64\n",
      " 8   X9      6374 non-null   float64\n",
      " 9   X10     6374 non-null   float64\n",
      " 10  X11     6374 non-null   float64\n",
      " 11  X12     6374 non-null   float64\n",
      " 12  X13     6374 non-null   object \n",
      " 13  X14     6374 non-null   object \n",
      " 14  Y       6374 non-null   object \n",
      "dtypes: float64(12), object(3)\n",
      "memory usage: 747.1+ KB\n"
     ]
    }
   ],
   "source": [
    "cleaned_data = KNN_imputed_dataset.copy()\n",
    "cleaned_data.to_csv('new_dataset-vf.csv', index=False)\n",
    "cleaned_data.info()"
   ]
  },
  {
   "cell_type": "markdown",
   "id": "3d5f45cf",
   "metadata": {},
   "source": [
    "#### Conclusion \n",
    "\n",
    "<strong>Based on our criteria KNN did not change the max and min values of the feature, hence we will impute using KNN </strong>\n",
    "\n",
    "<hr>\n",
    "\n",
    "\n",
    "#### Encoding Categorical Features\n",
    "\n",
    "\n",
    "https://contrib.scikit-learn.org/category_encoders/\n",
    "https://analyticsindiamag.com/a-complete-guide-to-categorical-data-encoding/\n",
    "\n",
    "- Feature `X13` has the following unique values: [FC11, FC12, FC13, FC14]\n",
    "- Feature `X14` has the following unqiue values: [' CA49', ' CA50', ' CA26', ' CA32', ' CA38', ' CA42', ' CA37',' CA23', ' CA24', ' CA21', ' CA43', ' CA22', ' CA36', ' CA33',' CA44', ' CA59', ' CA30', ' CA40', ' CA51', ' CA52', ' CA31',' CA58', ' CA25', ' CA39', ' CA53', ' CA60', ' CA46', ' CA54',' CA34', ' CA41', ' CA48', ' CA55']\n",
    "\n",
    "<strong> feature `X13` has the following properties:</strong>\n",
    "\n",
    "- labels range from 1 to 4 (all have FC1), you could assume that the it is Ordinal.\n",
    "- labels can easily be mapped to numerical values (ranges from 1 to 4)\n",
    "- <strong>Since we DO NOT know the nature of the features we cannot assume an ordinal or some sort of range that can be translated to numerical values. However, since there are numerical values within each category, we will just assume that we can translated it ordinally. BUT we have to be careful as to not any feature translated value skew the results greatly.</strong>\n",
    "\n",
    "<strong> feature `X14` has the following properties:</strong>\n",
    "\n",
    "- labels have numerical values (e.g. CA21)\n",
    "- labels can easily be mapped to numerical values (ranges from 21 to 60)\n",
    "- <strong>Since we DO NOT know the nature of the features we cannot confidently assume an ordinal or some sort of range that can be translated to numerical values. However, since there are numerical values within each category, we will just assume that we can translated it ordinally</strong>\n",
    "\n",
    "\n",
    "**NOTE** : We cant use one digit as we did in feature `X13` because this feature has numbers ranging from 21 to 60\n"
   ]
  },
  {
   "cell_type": "code",
   "execution_count": 209,
   "id": "9a378653",
   "metadata": {},
   "outputs": [
    {
     "data": {
      "text/plain": [
       "array([' FC11', ' FC14', ' FC13', ' FC12'], dtype=object)"
      ]
     },
     "execution_count": 209,
     "metadata": {},
     "output_type": "execute_result"
    }
   ],
   "source": [
    "cleaned_data['X13'].unique()"
   ]
  },
  {
   "cell_type": "code",
   "execution_count": 210,
   "id": "9b306c4f",
   "metadata": {},
   "outputs": [
    {
     "data": {
      "text/plain": [
       "array([' CA49', ' CA50', ' CA26', ' CA32', ' CA38', ' CA42', ' CA37',\n",
       "       ' CA23', ' CA24', ' CA21', ' CA43', ' CA22', ' CA36', ' CA33',\n",
       "       ' CA44', ' CA59', ' CA30', ' CA40', ' CA51', ' CA52', ' CA31',\n",
       "       ' CA58', ' CA25', ' CA39', ' CA53', ' CA60', ' CA46', ' CA54',\n",
       "       ' CA34', ' CA41', ' CA48', ' CA55'], dtype=object)"
      ]
     },
     "execution_count": 210,
     "metadata": {},
     "output_type": "execute_result"
    }
   ],
   "source": [
    "cleaned_data['X14'].unique()"
   ]
  },
  {
   "cell_type": "code",
   "execution_count": 211,
   "id": "832156cb",
   "metadata": {},
   "outputs": [],
   "source": [
    "import category_encoders as ce\n",
    "\n",
    "\n",
    "\n",
    "X13_mapping = {'col': 'X13', 'mapping': {}}\n",
    "\n",
    "\n",
    "for category in cleaned_data['X13'].unique():\n",
    "    X13_mapping['mapping'][category] = int(category.strip()[3:])\n",
    "\n",
    "encoder= ce.OrdinalEncoder(cols=['X13'],return_df=True, mapping=[X13_mapping])\n",
    "encoded_data=encoder.fit_transform(cleaned_data)\n",
    "\n",
    "X14_mapping = {'col': 'X14', 'mapping': {}}\n",
    "for category in cleaned_data['X14'].unique():\n",
    "    X14_mapping['mapping'][category] = int(category.strip()[2:])\n",
    "\n",
    "\n",
    "encoder= ce.OrdinalEncoder(cols=['X14'],return_df=True, mapping=[X14_mapping])\n",
    "encoded_data=encoder.fit_transform(encoded_data)\n"
   ]
  },
  {
   "cell_type": "code",
   "execution_count": 212,
   "id": "794da925",
   "metadata": {},
   "outputs": [
    {
     "data": {
      "text/html": [
       "<div>\n",
       "<style scoped>\n",
       "    .dataframe tbody tr th:only-of-type {\n",
       "        vertical-align: middle;\n",
       "    }\n",
       "\n",
       "    .dataframe tbody tr th {\n",
       "        vertical-align: top;\n",
       "    }\n",
       "\n",
       "    .dataframe thead th {\n",
       "        text-align: right;\n",
       "    }\n",
       "</style>\n",
       "<table border=\"1\" class=\"dataframe\">\n",
       "  <thead>\n",
       "    <tr style=\"text-align: right;\">\n",
       "      <th></th>\n",
       "      <th>X1</th>\n",
       "      <th>X2</th>\n",
       "      <th>X3</th>\n",
       "      <th>X4</th>\n",
       "      <th>X5</th>\n",
       "      <th>X6</th>\n",
       "      <th>X7</th>\n",
       "      <th>X8</th>\n",
       "      <th>X9</th>\n",
       "      <th>X10</th>\n",
       "      <th>X11</th>\n",
       "      <th>X12</th>\n",
       "      <th>X13</th>\n",
       "      <th>X14</th>\n",
       "      <th>Y</th>\n",
       "    </tr>\n",
       "  </thead>\n",
       "  <tbody>\n",
       "    <tr>\n",
       "      <th>0</th>\n",
       "      <td>2709.0</td>\n",
       "      <td>59.0</td>\n",
       "      <td>11.0</td>\n",
       "      <td>120.0</td>\n",
       "      <td>43.0</td>\n",
       "      <td>150.0</td>\n",
       "      <td>228.0</td>\n",
       "      <td>217.0</td>\n",
       "      <td>120.0</td>\n",
       "      <td>2114.0</td>\n",
       "      <td>0.66</td>\n",
       "      <td>269.0</td>\n",
       "      <td>1</td>\n",
       "      <td>49</td>\n",
       "      <td>Melon</td>\n",
       "    </tr>\n",
       "    <tr>\n",
       "      <th>1</th>\n",
       "      <td>2802.0</td>\n",
       "      <td>54.0</td>\n",
       "      <td>7.0</td>\n",
       "      <td>0.0</td>\n",
       "      <td>0.0</td>\n",
       "      <td>693.0</td>\n",
       "      <td>224.0</td>\n",
       "      <td>225.0</td>\n",
       "      <td>136.0</td>\n",
       "      <td>162.0</td>\n",
       "      <td>0.35</td>\n",
       "      <td>195.0</td>\n",
       "      <td>1</td>\n",
       "      <td>50</td>\n",
       "      <td>Melon</td>\n",
       "    </tr>\n",
       "    <tr>\n",
       "      <th>2</th>\n",
       "      <td>2325.0</td>\n",
       "      <td>28.0</td>\n",
       "      <td>12.0</td>\n",
       "      <td>0.0</td>\n",
       "      <td>0.0</td>\n",
       "      <td>1260.0</td>\n",
       "      <td>215.0</td>\n",
       "      <td>213.0</td>\n",
       "      <td>133.0</td>\n",
       "      <td>162.0</td>\n",
       "      <td>0.89</td>\n",
       "      <td>750.0</td>\n",
       "      <td>4</td>\n",
       "      <td>26</td>\n",
       "      <td>Carrot</td>\n",
       "    </tr>\n",
       "    <tr>\n",
       "      <th>3</th>\n",
       "      <td>2837.0</td>\n",
       "      <td>112.0</td>\n",
       "      <td>8.0</td>\n",
       "      <td>272.0</td>\n",
       "      <td>16.0</td>\n",
       "      <td>3649.0</td>\n",
       "      <td>235.0</td>\n",
       "      <td>231.0</td>\n",
       "      <td>128.0</td>\n",
       "      <td>6221.0</td>\n",
       "      <td>0.27</td>\n",
       "      <td>-155.0</td>\n",
       "      <td>1</td>\n",
       "      <td>32</td>\n",
       "      <td>Orange</td>\n",
       "    </tr>\n",
       "    <tr>\n",
       "      <th>4</th>\n",
       "      <td>2509.0</td>\n",
       "      <td>59.0</td>\n",
       "      <td>7.0</td>\n",
       "      <td>134.0</td>\n",
       "      <td>10.0</td>\n",
       "      <td>900.0</td>\n",
       "      <td>226.0</td>\n",
       "      <td>226.0</td>\n",
       "      <td>134.0</td>\n",
       "      <td>5184.0</td>\n",
       "      <td>0.93</td>\n",
       "      <td>88.0</td>\n",
       "      <td>1</td>\n",
       "      <td>38</td>\n",
       "      <td>Melon</td>\n",
       "    </tr>\n",
       "  </tbody>\n",
       "</table>\n",
       "</div>"
      ],
      "text/plain": [
       "       X1     X2    X3     X4    X5      X6     X7     X8     X9     X10  \\\n",
       "0  2709.0   59.0  11.0  120.0  43.0   150.0  228.0  217.0  120.0  2114.0   \n",
       "1  2802.0   54.0   7.0    0.0   0.0   693.0  224.0  225.0  136.0   162.0   \n",
       "2  2325.0   28.0  12.0    0.0   0.0  1260.0  215.0  213.0  133.0   162.0   \n",
       "3  2837.0  112.0   8.0  272.0  16.0  3649.0  235.0  231.0  128.0  6221.0   \n",
       "4  2509.0   59.0   7.0  134.0  10.0   900.0  226.0  226.0  134.0  5184.0   \n",
       "\n",
       "    X11    X12  X13  X14       Y  \n",
       "0  0.66  269.0    1   49   Melon  \n",
       "1  0.35  195.0    1   50   Melon  \n",
       "2  0.89  750.0    4   26  Carrot  \n",
       "3  0.27 -155.0    1   32  Orange  \n",
       "4  0.93   88.0    1   38   Melon  "
      ]
     },
     "execution_count": 212,
     "metadata": {},
     "output_type": "execute_result"
    }
   ],
   "source": [
    "encoded_data.head()"
   ]
  },
  {
   "cell_type": "markdown",
   "id": "2f3f61ca",
   "metadata": {},
   "source": [
    "\n",
    "<hr>\n",
    "\n",
    "\n",
    "Now with we encoded all the categorical features, we can do correlation analysis\n",
    "\n",
    "\n",
    "#### Correlation Analysis\n",
    "\n",
    "- we will be using the `corr` function which has three methods:\n",
    "    - [spearman]("
   ]
  },
  {
   "cell_type": "code",
   "execution_count": 213,
   "id": "d85f5bc5",
   "metadata": {},
   "outputs": [
    {
     "data": {
      "text/plain": [
       "<AxesSubplot:title={'center':'spearman'}>"
      ]
     },
     "execution_count": 213,
     "metadata": {},
     "output_type": "execute_result"
    },
    {
     "data": {
      "image/png": "[encoded data removed]",
      "text/plain": [
       "<Figure size 1080x1080 with 2 Axes>"
      ]
     },
     "metadata": {
      "needs_background": "light"
     },
     "output_type": "display_data"
    }
   ],
   "source": [
    "plt.subplots(figsize=(15, 15))\n",
    "plt.title('spearman')\n",
    "sns.heatmap(encoded_data.corr(method='spearman'),annot=True, linewidths=5, cmap='YlGnBu', square=True)"
   ]
  },
  {
   "cell_type": "code",
   "execution_count": 214,
   "id": "106b6ffd",
   "metadata": {},
   "outputs": [
    {
     "data": {
      "text/plain": [
       "<AxesSubplot:title={'center':'Kendall'}>"
      ]
     },
     "execution_count": 214,
     "metadata": {},
     "output_type": "execute_result"
    },
    {
     "data": {
      "image/png": "[encoded data removed]",
      "text/plain": [
       "<Figure size 1080x1080 with 2 Axes>"
      ]
     },
     "metadata": {
      "needs_background": "light"
     },
     "output_type": "display_data"
    }
   ],
   "source": [
    "plt.subplots(figsize=(15, 15))\n",
    "plt.title('Kendall')\n",
    "sns.heatmap(encoded_data.corr(method='kendall'),annot=True, linewidths=5, cmap='YlGnBu', square=True)"
   ]
  },
  {
   "cell_type": "code",
   "execution_count": 215,
   "id": "6c27af01",
   "metadata": {
    "scrolled": false
   },
   "outputs": [
    {
     "data": {
      "text/plain": [
       "<AxesSubplot:title={'center':'pearson'}>"
      ]
     },
     "execution_count": 215,
     "metadata": {},
     "output_type": "execute_result"
    },
    {
     "data": {
      "image/png": "[encoded data removed]",
      "text/plain": [
       "<Figure size 1080x1080 with 2 Axes>"
      ]
     },
     "metadata": {
      "needs_background": "light"
     },
     "output_type": "display_data"
    }
   ],
   "source": [
    "plt.subplots(figsize=(15, 15))\n",
    "plt.title('pearson')\n",
    "sns.heatmap(encoded_data.corr(method='pearson'),annot=True, linewidths=5, cmap='YlGnBu', square=True)"
   ]
  },
  {
   "cell_type": "markdown",
   "id": "98d55e5c",
   "metadata": {},
   "source": [
    "\n",
    "\n",
    "\n",
    "<hr>\n",
    "\n",
    "#### Handling Imbalanced Data\n",
    "\n",
    "- `Mango` class only has *250* samples (3.9%)\n",
    "- `Orange` class only has *100* samples (1.5%)\n",
    "- `Peach` class only has *308* samples (4.8%)\n",
    "\n",
    "<strong>we will perform a combination of oversampling and undersampling for the following reasons:</strong>\n",
    "- ideally the probabilty of a  class should be `1/n` where `n` is the number of classes\n",
    "- since the dataset is of a decent size we should not only remove samples of majority classes as it would significantly shrink the dataset\n",
    "- increasing minorty class samples might lead to oversampling. Furthermore, we will be using models like Random Forest that tackles this problem\n",
    "\n",
    "<strong>Now to pick the techniques of both oversampling and undersampling:</strong>\n",
    "\n",
    "##### Undersampling\n",
    "\n",
    "Undersampling techniques eliminate some examples from the training data set belonging to majority classes. \n",
    "\n",
    "some techniques to consider:\n",
    "\n",
    "- **Near Miss Undersampling**: This technique selects the data points based on the distance between majority and minority class examples. It has three versions of itself, and each of these considers the different neighbors from the majority class.\n",
    "\n",
    "\n",
    "- **Condensed Nearest Neighbor (CNN) Undersampling**: This technique aspires to a subset of a collection of samples that minimizes the model loss. These examples are stores in a store that then consists of examples from the minority class and incorrectly classified examples from the majority class.\n",
    "\n",
    "\n",
    "- **Tomek Links Undersampling**: This technique is the modified version of CNN in which the redundant examples get selected randomly for deletion from the majority class. These examples are rather internal than near the decision boundary.\n",
    "\n",
    "\n",
    "- **Edited Nearest Neighbors Undersampling**: This technique uses the nearest neighbors approach and deletes according to the misclassification of the samples. It computes three nearest neighbors for each instance. If the example of a majority class and misclassified by these three neighbors. Then it removes that instance.\n",
    "\n",
    "\n",
    "we will be using **Near Miss Undersampling** version 3 since it is more accurate since it considers examples of the majority class that are on the decision boundary.\n",
    "\n",
    "- Version 3 keeps examples from the majority class for each closest record in the minority class.\n",
    "\n",
    "##### Undersampling\n",
    "\n",
    "Unlike Undersampling, which focuses on removing the majority class examples, Oversampling focuses on increasing minority class samples.\n",
    "\n",
    "some techniques to consider:\n",
    "\n",
    "- **SMOTE**: stands for Synthetic Minority Oversampling Technique. SMOTE selects the nearest examples in the feature space, then draws a line between them, and at a point along the line, it creates a new sample.\n",
    "\n",
    "\n",
    "- **Borderline-SMOTE**: This SMOTE extension selects the minority class instance that is misclassified with a k-nearest neighbor (KNN) classifier. Since borderline or distant examples are more tend to misclassified.\n",
    "\n",
    "\n",
    "- **Borderline-SMOTE SVM**: This method selects the misclassified instances of Support Vector Machine (SVM) instead of KNN.\n",
    "\n",
    "\n",
    "- **Adaptive Synthetic Sampling (ADASYN)**: This approach works according to the density of the minority class instances. Generating new samples is inversely proportional to the density of the minority class samples.\n",
    "\n",
    "\n",
    "We will be using **Borderline-SMOTE** since we don't want to expand the dataset too much. Furthermore, the choice between KNN and SVM comes down to time.\n",
    "\n"
   ]
  },
  {
   "cell_type": "code",
   "execution_count": 263,
   "id": "da875c44",
   "metadata": {
    "scrolled": false
   },
   "outputs": [
    {
     "name": "stdout",
     "output_type": "stream",
     "text": [
      "[['Apple' 'Berry' 'Carrot' 'Mango' 'Melon' 'Orange' 'Peach']\n",
      " [1275 1250 1620 250 1571 100 308]]\n",
      "[['Apple' 'Berry' 'Carrot' 'Mango' 'Melon' 'Orange' 'Peach']\n",
      " [0.20003137747097585 0.19610919359899592 0.2541575149042987\n",
      "  0.03922183871979919 0.24647003451521807 0.015688735487919672\n",
      "  0.04832130530279259]]\n"
     ]
    }
   ],
   "source": [
    "labels, labels_count = np.unique(data['Y'], return_counts=True)\n",
    "print(np.asarray((labels,labels_count)))\n",
    "print(np.asarray((labels,labels_count / np.sum(labels_count))))"
   ]
  },
  {
   "cell_type": "code",
   "execution_count": 264,
   "id": "13493dfc",
   "metadata": {},
   "outputs": [
    {
     "data": {
      "text/plain": [
       "array([1275, 1250, 1620,  250, 1571,  100,  308], dtype=int64)"
      ]
     },
     "execution_count": 264,
     "metadata": {},
     "output_type": "execute_result"
    }
   ],
   "source": [
    "labels_count"
   ]
  },
  {
   "cell_type": "code",
   "execution_count": 265,
   "id": "777b2bfc",
   "metadata": {},
   "outputs": [
    {
     "name": "stdout",
     "output_type": "stream",
     "text": [
      "Counter({'Carrot': 1620, 'Melon': 1571, 'Apple': 1275, 'Berry': 1250, 'Peach': 1008, 'Mango': 950, 'Orange': 800})\n"
     ]
    }
   ],
   "source": [
    "from imblearn.over_sampling  import BorderlineSMOTE\n",
    "from collections import Counter\n",
    "undersampling = BorderlineSMOTE(sampling_strategy={'Mango':(labels_count[3] + 700), 'Orange': ((labels_count[5] + 700)),\n",
    "                                                   'Peach': (labels_count[6] + 700)}, random_state=777, k_neighbors=5)\n",
    "X, Y = undersampling.fit_resample(encoded_data.drop('Y', axis=1), encoded_data['Y'])\n",
    "print(Counter(Y))"
   ]
  },
  {
   "cell_type": "code",
   "execution_count": 266,
   "id": "aa5d13b6",
   "metadata": {},
   "outputs": [
    {
     "name": "stdout",
     "output_type": "stream",
     "text": [
      "[['Apple' 'Berry' 'Carrot' 'Mango' 'Melon' 'Orange' 'Peach']\n",
      " [1275 1250 1620 950 1571 800 1008]]\n",
      "[['Apple' 'Berry' 'Carrot' 'Mango' 'Melon' 'Orange' 'Peach']\n",
      " [0.1504602312957281 0.14751003068208637 0.19117299976398394\n",
      "  0.11210762331838565 0.18539060656124617 0.09440641963653529\n",
      "  0.11895208874203446]]\n"
     ]
    }
   ],
   "source": [
    "labels, labels_count = np.unique(Y, return_counts=True)\n",
    "print(np.asarray((labels,labels_count)))\n",
    "print(np.asarray((labels,labels_count / np.sum(labels_count))))"
   ]
  },
  {
   "cell_type": "code",
   "execution_count": 267,
   "id": "46036ffd",
   "metadata": {},
   "outputs": [
    {
     "name": "stdout",
     "output_type": "stream",
     "text": [
      "Counter({'Apple': 1275, 'Carrot': 1270, 'Berry': 1250, 'Melon': 1221, 'Peach': 1008, 'Mango': 950, 'Orange': 800})\n"
     ]
    }
   ],
   "source": [
    "from imblearn.under_sampling import NearMiss\n",
    "from collections import Counter\n",
    "undersampling = NearMiss(sampling_strategy={'Carrot':(labels_count[2] - 350), \n",
    "                                                   'Melon': (labels_count[4] - 350)}, n_neighbors=5)\n",
    "X, Y = undersampling.fit_resample(X, Y)\n",
    "print(Counter(Y))"
   ]
  },
  {
   "cell_type": "code",
   "execution_count": 268,
   "id": "b1fcec70",
   "metadata": {},
   "outputs": [
    {
     "name": "stdout",
     "output_type": "stream",
     "text": [
      "[['Apple' 'Berry' 'Carrot' 'Mango' 'Melon' 'Orange' 'Peach']\n",
      " [1275 1250 1270 950 1221 800 1008]]\n",
      "[['Apple' 'Berry' 'Carrot' 'Mango' 'Melon' 'Orange' 'Peach']\n",
      " [0.16400823257010547 0.16079238487265243 0.16336506303061488\n",
      "  0.12220221250321585 0.1570620015436069 0.10290712631849755\n",
      "  0.12966297916130692]]\n"
     ]
    }
   ],
   "source": [
    "labels, labels_count = np.unique(Y, return_counts=True)\n",
    "print(np.asarray((labels,labels_count)))\n",
    "print(np.asarray((labels,labels_count / np.sum(labels_count))))"
   ]
  },
  {
   "cell_type": "code",
   "execution_count": 270,
   "id": "d4158b08",
   "metadata": {},
   "outputs": [
    {
     "data": {
      "text/html": [
       "<div>\n",
       "<style scoped>\n",
       "    .dataframe tbody tr th:only-of-type {\n",
       "        vertical-align: middle;\n",
       "    }\n",
       "\n",
       "    .dataframe tbody tr th {\n",
       "        vertical-align: top;\n",
       "    }\n",
       "\n",
       "    .dataframe thead th {\n",
       "        text-align: right;\n",
       "    }\n",
       "</style>\n",
       "<table border=\"1\" class=\"dataframe\">\n",
       "  <thead>\n",
       "    <tr style=\"text-align: right;\">\n",
       "      <th></th>\n",
       "      <th>X1</th>\n",
       "      <th>X2</th>\n",
       "      <th>X3</th>\n",
       "      <th>X4</th>\n",
       "      <th>X5</th>\n",
       "      <th>X6</th>\n",
       "      <th>X7</th>\n",
       "      <th>X8</th>\n",
       "      <th>X9</th>\n",
       "      <th>X10</th>\n",
       "      <th>X11</th>\n",
       "      <th>X12</th>\n",
       "      <th>X13</th>\n",
       "      <th>X14</th>\n",
       "    </tr>\n",
       "  </thead>\n",
       "  <tbody>\n",
       "    <tr>\n",
       "      <th>count</th>\n",
       "      <td>7774.000000</td>\n",
       "      <td>7774.000000</td>\n",
       "      <td>7774.000000</td>\n",
       "      <td>7774.000000</td>\n",
       "      <td>7774.000000</td>\n",
       "      <td>7774.000000</td>\n",
       "      <td>7774.000000</td>\n",
       "      <td>7774.000000</td>\n",
       "      <td>7774.000000</td>\n",
       "      <td>7774.000000</td>\n",
       "      <td>7774.000000</td>\n",
       "      <td>7774.000000</td>\n",
       "      <td>7774.000000</td>\n",
       "      <td>7774.000000</td>\n",
       "    </tr>\n",
       "    <tr>\n",
       "      <th>mean</th>\n",
       "      <td>2702.316156</td>\n",
       "      <td>156.087010</td>\n",
       "      <td>16.844463</td>\n",
       "      <td>199.954113</td>\n",
       "      <td>47.685839</td>\n",
       "      <td>1812.340432</td>\n",
       "      <td>210.950545</td>\n",
       "      <td>217.320108</td>\n",
       "      <td>135.140156</td>\n",
       "      <td>1845.327520</td>\n",
       "      <td>0.491860</td>\n",
       "      <td>14.567309</td>\n",
       "      <td>2.568948</td>\n",
       "      <td>39.036789</td>\n",
       "    </tr>\n",
       "    <tr>\n",
       "      <th>std</th>\n",
       "      <td>404.990994</td>\n",
       "      <td>104.313661</td>\n",
       "      <td>8.641682</td>\n",
       "      <td>169.976831</td>\n",
       "      <td>54.081607</td>\n",
       "      <td>1495.857943</td>\n",
       "      <td>32.351781</td>\n",
       "      <td>23.115089</td>\n",
       "      <td>45.707341</td>\n",
       "      <td>1477.672749</td>\n",
       "      <td>0.278113</td>\n",
       "      <td>568.859992</td>\n",
       "      <td>1.293858</td>\n",
       "      <td>12.154339</td>\n",
       "    </tr>\n",
       "    <tr>\n",
       "      <th>min</th>\n",
       "      <td>1863.000000</td>\n",
       "      <td>0.000000</td>\n",
       "      <td>0.000000</td>\n",
       "      <td>0.000000</td>\n",
       "      <td>-134.000000</td>\n",
       "      <td>0.000000</td>\n",
       "      <td>0.000000</td>\n",
       "      <td>99.000000</td>\n",
       "      <td>0.000000</td>\n",
       "      <td>30.000000</td>\n",
       "      <td>0.000000</td>\n",
       "      <td>-1000.000000</td>\n",
       "      <td>1.000000</td>\n",
       "      <td>21.000000</td>\n",
       "    </tr>\n",
       "    <tr>\n",
       "      <th>25%</th>\n",
       "      <td>2326.000000</td>\n",
       "      <td>71.948659</td>\n",
       "      <td>10.000000</td>\n",
       "      <td>60.000000</td>\n",
       "      <td>7.000000</td>\n",
       "      <td>726.000000</td>\n",
       "      <td>195.000000</td>\n",
       "      <td>206.000000</td>\n",
       "      <td>106.000000</td>\n",
       "      <td>827.292380</td>\n",
       "      <td>0.260000</td>\n",
       "      <td>-479.594060</td>\n",
       "      <td>1.000000</td>\n",
       "      <td>30.000000</td>\n",
       "    </tr>\n",
       "    <tr>\n",
       "      <th>50%</th>\n",
       "      <td>2739.000000</td>\n",
       "      <td>129.000000</td>\n",
       "      <td>16.000000</td>\n",
       "      <td>169.960564</td>\n",
       "      <td>31.524031</td>\n",
       "      <td>1260.000000</td>\n",
       "      <td>219.883254</td>\n",
       "      <td>222.000000</td>\n",
       "      <td>137.429877</td>\n",
       "      <td>1433.189342</td>\n",
       "      <td>0.480000</td>\n",
       "      <td>18.966402</td>\n",
       "      <td>3.000000</td>\n",
       "      <td>38.000000</td>\n",
       "    </tr>\n",
       "    <tr>\n",
       "      <th>75%</th>\n",
       "      <td>3047.000000</td>\n",
       "      <td>244.967930</td>\n",
       "      <td>23.000000</td>\n",
       "      <td>297.000000</td>\n",
       "      <td>72.979816</td>\n",
       "      <td>2714.750000</td>\n",
       "      <td>234.000000</td>\n",
       "      <td>233.749850</td>\n",
       "      <td>166.000000</td>\n",
       "      <td>2218.756326</td>\n",
       "      <td>0.730000</td>\n",
       "      <td>508.118805</td>\n",
       "      <td>4.000000</td>\n",
       "      <td>49.000000</td>\n",
       "    </tr>\n",
       "    <tr>\n",
       "      <th>max</th>\n",
       "      <td>3675.000000</td>\n",
       "      <td>360.000000</td>\n",
       "      <td>52.000000</td>\n",
       "      <td>1129.000000</td>\n",
       "      <td>334.000000</td>\n",
       "      <td>6890.000000</td>\n",
       "      <td>254.000000</td>\n",
       "      <td>254.000000</td>\n",
       "      <td>248.000000</td>\n",
       "      <td>6853.000000</td>\n",
       "      <td>1.000000</td>\n",
       "      <td>1000.000000</td>\n",
       "      <td>4.000000</td>\n",
       "      <td>60.000000</td>\n",
       "    </tr>\n",
       "  </tbody>\n",
       "</table>\n",
       "</div>"
      ],
      "text/plain": [
       "                X1           X2           X3           X4           X5  \\\n",
       "count  7774.000000  7774.000000  7774.000000  7774.000000  7774.000000   \n",
       "mean   2702.316156   156.087010    16.844463   199.954113    47.685839   \n",
       "std     404.990994   104.313661     8.641682   169.976831    54.081607   \n",
       "min    1863.000000     0.000000     0.000000     0.000000  -134.000000   \n",
       "25%    2326.000000    71.948659    10.000000    60.000000     7.000000   \n",
       "50%    2739.000000   129.000000    16.000000   169.960564    31.524031   \n",
       "75%    3047.000000   244.967930    23.000000   297.000000    72.979816   \n",
       "max    3675.000000   360.000000    52.000000  1129.000000   334.000000   \n",
       "\n",
       "                X6           X7           X8           X9          X10  \\\n",
       "count  7774.000000  7774.000000  7774.000000  7774.000000  7774.000000   \n",
       "mean   1812.340432   210.950545   217.320108   135.140156  1845.327520   \n",
       "std    1495.857943    32.351781    23.115089    45.707341  1477.672749   \n",
       "min       0.000000     0.000000    99.000000     0.000000    30.000000   \n",
       "25%     726.000000   195.000000   206.000000   106.000000   827.292380   \n",
       "50%    1260.000000   219.883254   222.000000   137.429877  1433.189342   \n",
       "75%    2714.750000   234.000000   233.749850   166.000000  2218.756326   \n",
       "max    6890.000000   254.000000   254.000000   248.000000  6853.000000   \n",
       "\n",
       "               X11          X12          X13          X14  \n",
       "count  7774.000000  7774.000000  7774.000000  7774.000000  \n",
       "mean      0.491860    14.567309     2.568948    39.036789  \n",
       "std       0.278113   568.859992     1.293858    12.154339  \n",
       "min       0.000000 -1000.000000     1.000000    21.000000  \n",
       "25%       0.260000  -479.594060     1.000000    30.000000  \n",
       "50%       0.480000    18.966402     3.000000    38.000000  \n",
       "75%       0.730000   508.118805     4.000000    49.000000  \n",
       "max       1.000000  1000.000000     4.000000    60.000000  "
      ]
     },
     "execution_count": 270,
     "metadata": {},
     "output_type": "execute_result"
    }
   ],
   "source": [
    "X.describe()"
   ]
  },
  {
   "cell_type": "code",
   "execution_count": 272,
   "id": "c3eb0e79",
   "metadata": {},
   "outputs": [
    {
     "data": {
      "text/plain": [
       "pandas.core.series.Series"
      ]
     },
     "execution_count": 272,
     "metadata": {},
     "output_type": "execute_result"
    }
   ],
   "source": [
    "type(Y)"
   ]
  },
  {
   "cell_type": "code",
   "execution_count": 275,
   "id": "fb964041",
   "metadata": {},
   "outputs": [],
   "source": [
    "balanced_data = X.assign(Y=Y)\n"
   ]
  },
  {
   "cell_type": "code",
   "execution_count": 277,
   "id": "94104621",
   "metadata": {},
   "outputs": [
    {
     "name": "stdout",
     "output_type": "stream",
     "text": [
      "<class 'pandas.core.frame.DataFrame'>\n",
      "RangeIndex: 7774 entries, 0 to 7773\n",
      "Data columns (total 15 columns):\n",
      " #   Column  Non-Null Count  Dtype  \n",
      "---  ------  --------------  -----  \n",
      " 0   X1      7774 non-null   float64\n",
      " 1   X2      7774 non-null   float64\n",
      " 2   X3      7774 non-null   float64\n",
      " 3   X4      7774 non-null   float64\n",
      " 4   X5      7774 non-null   float64\n",
      " 5   X6      7774 non-null   float64\n",
      " 6   X7      7774 non-null   float64\n",
      " 7   X8      7774 non-null   float64\n",
      " 8   X9      7774 non-null   float64\n",
      " 9   X10     7774 non-null   float64\n",
      " 10  X11     7774 non-null   float64\n",
      " 11  X12     7774 non-null   float64\n",
      " 12  X13     7774 non-null   int32  \n",
      " 13  X14     7774 non-null   int32  \n",
      " 14  Y       7774 non-null   object \n",
      "dtypes: float64(12), int32(2), object(1)\n",
      "memory usage: 850.4+ KB\n"
     ]
    }
   ],
   "source": [
    "balanced_data['']"
   ]
  },
  {
   "cell_type": "code",
   "execution_count": 278,
   "id": "29cd00eb",
   "metadata": {},
   "outputs": [
    {
     "data": {
      "text/plain": [
       "Y\n",
       "Apple     1275\n",
       "Berry     1250\n",
       "Carrot    1270\n",
       "Mango      950\n",
       "Melon     1221\n",
       "Orange     800\n",
       "Peach     1008\n",
       "dtype: int64"
      ]
     },
     "execution_count": 278,
     "metadata": {},
     "output_type": "execute_result"
    }
   ],
   "source": [
    "balanced_data.groupby('Y').size()"
   ]
  },
  {
   "cell_type": "code",
   "execution_count": 279,
   "id": "e90a6d22",
   "metadata": {},
   "outputs": [],
   "source": [
    "balanced_data.to_csv('balanced_filled_Dataset-vf.csv', index=False)"
   ]
  },
  {
   "cell_type": "code",
   "execution_count": 280,
   "id": "73037a13",
   "metadata": {
    "scrolled": true
   },
   "outputs": [
    {
     "data": {
      "text/html": [
       "<div>\n",
       "<style scoped>\n",
       "    .dataframe tbody tr th:only-of-type {\n",
       "        vertical-align: middle;\n",
       "    }\n",
       "\n",
       "    .dataframe tbody tr th {\n",
       "        vertical-align: top;\n",
       "    }\n",
       "\n",
       "    .dataframe thead th {\n",
       "        text-align: right;\n",
       "    }\n",
       "</style>\n",
       "<table border=\"1\" class=\"dataframe\">\n",
       "  <thead>\n",
       "    <tr style=\"text-align: right;\">\n",
       "      <th></th>\n",
       "      <th>X1</th>\n",
       "      <th>X2</th>\n",
       "      <th>X3</th>\n",
       "      <th>X4</th>\n",
       "      <th>X5</th>\n",
       "      <th>X6</th>\n",
       "      <th>X7</th>\n",
       "      <th>X8</th>\n",
       "      <th>X9</th>\n",
       "      <th>X10</th>\n",
       "      <th>X11</th>\n",
       "      <th>X12</th>\n",
       "      <th>X13</th>\n",
       "      <th>X14</th>\n",
       "      <th>Y</th>\n",
       "    </tr>\n",
       "  </thead>\n",
       "  <tbody>\n",
       "    <tr>\n",
       "      <th>0</th>\n",
       "      <td>2892.0</td>\n",
       "      <td>75.000000</td>\n",
       "      <td>7.0</td>\n",
       "      <td>95.0</td>\n",
       "      <td>9.0</td>\n",
       "      <td>1889.0</td>\n",
       "      <td>228.0</td>\n",
       "      <td>228.0</td>\n",
       "      <td>133.0</td>\n",
       "      <td>2371.0</td>\n",
       "      <td>0.79</td>\n",
       "      <td>39.0</td>\n",
       "      <td>3</td>\n",
       "      <td>42</td>\n",
       "      <td>Apple</td>\n",
       "    </tr>\n",
       "    <tr>\n",
       "      <th>1</th>\n",
       "      <td>3208.0</td>\n",
       "      <td>0.000000</td>\n",
       "      <td>9.0</td>\n",
       "      <td>124.0</td>\n",
       "      <td>-2.0</td>\n",
       "      <td>5394.0</td>\n",
       "      <td>206.0</td>\n",
       "      <td>222.0</td>\n",
       "      <td>154.0</td>\n",
       "      <td>900.0</td>\n",
       "      <td>0.97</td>\n",
       "      <td>-740.0</td>\n",
       "      <td>1</td>\n",
       "      <td>42</td>\n",
       "      <td>Apple</td>\n",
       "    </tr>\n",
       "    <tr>\n",
       "      <th>2</th>\n",
       "      <td>3245.0</td>\n",
       "      <td>97.630426</td>\n",
       "      <td>3.0</td>\n",
       "      <td>564.0</td>\n",
       "      <td>66.0</td>\n",
       "      <td>4387.0</td>\n",
       "      <td>220.0</td>\n",
       "      <td>233.0</td>\n",
       "      <td>150.0</td>\n",
       "      <td>2650.0</td>\n",
       "      <td>0.55</td>\n",
       "      <td>4.0</td>\n",
       "      <td>1</td>\n",
       "      <td>42</td>\n",
       "      <td>Apple</td>\n",
       "    </tr>\n",
       "    <tr>\n",
       "      <th>3</th>\n",
       "      <td>3157.0</td>\n",
       "      <td>307.000000</td>\n",
       "      <td>27.0</td>\n",
       "      <td>120.0</td>\n",
       "      <td>35.0</td>\n",
       "      <td>2971.0</td>\n",
       "      <td>138.0</td>\n",
       "      <td>213.0</td>\n",
       "      <td>211.0</td>\n",
       "      <td>2467.0</td>\n",
       "      <td>0.19</td>\n",
       "      <td>637.0</td>\n",
       "      <td>1</td>\n",
       "      <td>44</td>\n",
       "      <td>Apple</td>\n",
       "    </tr>\n",
       "    <tr>\n",
       "      <th>4</th>\n",
       "      <td>3246.0</td>\n",
       "      <td>18.000000</td>\n",
       "      <td>9.0</td>\n",
       "      <td>120.0</td>\n",
       "      <td>11.0</td>\n",
       "      <td>4333.0</td>\n",
       "      <td>213.0</td>\n",
       "      <td>221.0</td>\n",
       "      <td>144.0</td>\n",
       "      <td>972.0</td>\n",
       "      <td>0.93</td>\n",
       "      <td>833.0</td>\n",
       "      <td>1</td>\n",
       "      <td>59</td>\n",
       "      <td>Apple</td>\n",
       "    </tr>\n",
       "  </tbody>\n",
       "</table>\n",
       "</div>"
      ],
      "text/plain": [
       "       X1          X2    X3     X4    X5      X6     X7     X8     X9     X10  \\\n",
       "0  2892.0   75.000000   7.0   95.0   9.0  1889.0  228.0  228.0  133.0  2371.0   \n",
       "1  3208.0    0.000000   9.0  124.0  -2.0  5394.0  206.0  222.0  154.0   900.0   \n",
       "2  3245.0   97.630426   3.0  564.0  66.0  4387.0  220.0  233.0  150.0  2650.0   \n",
       "3  3157.0  307.000000  27.0  120.0  35.0  2971.0  138.0  213.0  211.0  2467.0   \n",
       "4  3246.0   18.000000   9.0  120.0  11.0  4333.0  213.0  221.0  144.0   972.0   \n",
       "\n",
       "    X11    X12  X13  X14      Y  \n",
       "0  0.79   39.0    3   42  Apple  \n",
       "1  0.97 -740.0    1   42  Apple  \n",
       "2  0.55    4.0    1   42  Apple  \n",
       "3  0.19  637.0    1   44  Apple  \n",
       "4  0.93  833.0    1   59  Apple  "
      ]
     },
     "execution_count": 280,
     "metadata": {},
     "output_type": "execute_result"
    }
   ],
   "source": [
    "balanced_data.head()"
   ]
  },
  {
   "cell_type": "code",
   "execution_count": 294,
   "id": "0ebb1700",
   "metadata": {},
   "outputs": [
    {
     "data": {
      "text/html": [
       "<div>\n",
       "<style scoped>\n",
       "    .dataframe tbody tr th:only-of-type {\n",
       "        vertical-align: middle;\n",
       "    }\n",
       "\n",
       "    .dataframe tbody tr th {\n",
       "        vertical-align: top;\n",
       "    }\n",
       "\n",
       "    .dataframe thead th {\n",
       "        text-align: right;\n",
       "    }\n",
       "</style>\n",
       "<table border=\"1\" class=\"dataframe\">\n",
       "  <thead>\n",
       "    <tr style=\"text-align: right;\">\n",
       "      <th></th>\n",
       "      <th>X1</th>\n",
       "      <th>X2</th>\n",
       "      <th>X3</th>\n",
       "      <th>X4</th>\n",
       "      <th>X5</th>\n",
       "      <th>X6</th>\n",
       "      <th>X7</th>\n",
       "      <th>X8</th>\n",
       "      <th>X9</th>\n",
       "      <th>X10</th>\n",
       "      <th>X11</th>\n",
       "      <th>X12</th>\n",
       "      <th>X13</th>\n",
       "      <th>X14</th>\n",
       "      <th>X15</th>\n",
       "      <th>Y</th>\n",
       "    </tr>\n",
       "  </thead>\n",
       "  <tbody>\n",
       "    <tr>\n",
       "      <th>0</th>\n",
       "      <td>2709</td>\n",
       "      <td>59.0</td>\n",
       "      <td>11</td>\n",
       "      <td>120</td>\n",
       "      <td>43</td>\n",
       "      <td>150</td>\n",
       "      <td>228</td>\n",
       "      <td>217</td>\n",
       "      <td>120</td>\n",
       "      <td>2114</td>\n",
       "      <td>0.66</td>\n",
       "      <td>269</td>\n",
       "      <td>FC11</td>\n",
       "      <td>CA49</td>\n",
       "      <td>R1</td>\n",
       "      <td>Melon</td>\n",
       "    </tr>\n",
       "    <tr>\n",
       "      <th>1</th>\n",
       "      <td>2802</td>\n",
       "      <td>54.0</td>\n",
       "      <td>7</td>\n",
       "      <td>0</td>\n",
       "      <td>0</td>\n",
       "      <td>693</td>\n",
       "      <td>224</td>\n",
       "      <td>225</td>\n",
       "      <td>136</td>\n",
       "      <td>162</td>\n",
       "      <td>0.35</td>\n",
       "      <td>195</td>\n",
       "      <td>FC11</td>\n",
       "      <td>CA50</td>\n",
       "      <td>NaN</td>\n",
       "      <td>Melon</td>\n",
       "    </tr>\n",
       "    <tr>\n",
       "      <th>2</th>\n",
       "      <td>2325</td>\n",
       "      <td>28.0</td>\n",
       "      <td>12</td>\n",
       "      <td>0</td>\n",
       "      <td>0</td>\n",
       "      <td>1260</td>\n",
       "      <td>215</td>\n",
       "      <td>213</td>\n",
       "      <td>133</td>\n",
       "      <td>162</td>\n",
       "      <td>0.89</td>\n",
       "      <td>750</td>\n",
       "      <td>FC14</td>\n",
       "      <td>CA26</td>\n",
       "      <td>NaN</td>\n",
       "      <td>Carrot</td>\n",
       "    </tr>\n",
       "    <tr>\n",
       "      <th>3</th>\n",
       "      <td>2837</td>\n",
       "      <td>112.0</td>\n",
       "      <td>8</td>\n",
       "      <td>272</td>\n",
       "      <td>16</td>\n",
       "      <td>3649</td>\n",
       "      <td>235</td>\n",
       "      <td>231</td>\n",
       "      <td>128</td>\n",
       "      <td>6221</td>\n",
       "      <td>0.27</td>\n",
       "      <td>-155</td>\n",
       "      <td>FC11</td>\n",
       "      <td>CA32</td>\n",
       "      <td>NaN</td>\n",
       "      <td>Orange</td>\n",
       "    </tr>\n",
       "    <tr>\n",
       "      <th>4</th>\n",
       "      <td>2509</td>\n",
       "      <td>59.0</td>\n",
       "      <td>7</td>\n",
       "      <td>134</td>\n",
       "      <td>10</td>\n",
       "      <td>900</td>\n",
       "      <td>226</td>\n",
       "      <td>226</td>\n",
       "      <td>134</td>\n",
       "      <td>5184</td>\n",
       "      <td>0.93</td>\n",
       "      <td>88</td>\n",
       "      <td>FC11</td>\n",
       "      <td>CA38</td>\n",
       "      <td>NaN</td>\n",
       "      <td>Melon</td>\n",
       "    </tr>\n",
       "  </tbody>\n",
       "</table>\n",
       "</div>"
      ],
      "text/plain": [
       "     X1     X2  X3   X4  X5    X6   X7   X8   X9   X10   X11  X12    X13  \\\n",
       "0  2709   59.0  11  120  43   150  228  217  120  2114  0.66  269   FC11   \n",
       "1  2802   54.0   7    0   0   693  224  225  136   162  0.35  195   FC11   \n",
       "2  2325   28.0  12    0   0  1260  215  213  133   162  0.89  750   FC14   \n",
       "3  2837  112.0   8  272  16  3649  235  231  128  6221  0.27 -155   FC11   \n",
       "4  2509   59.0   7  134  10   900  226  226  134  5184  0.93   88   FC11   \n",
       "\n",
       "     X14  X15       Y  \n",
       "0   CA49   R1   Melon  \n",
       "1   CA50  NaN   Melon  \n",
       "2   CA26  NaN  Carrot  \n",
       "3   CA32  NaN  Orange  \n",
       "4   CA38  NaN   Melon  "
      ]
     },
     "execution_count": 294,
     "metadata": {},
     "output_type": "execute_result"
    }
   ],
   "source": [
    "data.head()"
   ]
  },
  {
   "cell_type": "code",
   "execution_count": 293,
   "id": "d563f3a1",
   "metadata": {
    "scrolled": true
   },
   "outputs": [
    {
     "data": {
      "text/html": [
       "<div>\n",
       "<style scoped>\n",
       "    .dataframe tbody tr th:only-of-type {\n",
       "        vertical-align: middle;\n",
       "    }\n",
       "\n",
       "    .dataframe tbody tr th {\n",
       "        vertical-align: top;\n",
       "    }\n",
       "\n",
       "    .dataframe thead th {\n",
       "        text-align: right;\n",
       "    }\n",
       "</style>\n",
       "<table border=\"1\" class=\"dataframe\">\n",
       "  <thead>\n",
       "    <tr style=\"text-align: right;\">\n",
       "      <th></th>\n",
       "      <th>X1</th>\n",
       "      <th>X2</th>\n",
       "      <th>X3</th>\n",
       "      <th>X4</th>\n",
       "      <th>X5</th>\n",
       "      <th>X6</th>\n",
       "      <th>X7</th>\n",
       "      <th>X8</th>\n",
       "      <th>X9</th>\n",
       "      <th>X10</th>\n",
       "      <th>X11</th>\n",
       "      <th>X12</th>\n",
       "      <th>X13</th>\n",
       "      <th>X14</th>\n",
       "      <th>Y</th>\n",
       "    </tr>\n",
       "  </thead>\n",
       "  <tbody>\n",
       "    <tr>\n",
       "      <th>5966</th>\n",
       "      <td>2837.0</td>\n",
       "      <td>112.0</td>\n",
       "      <td>8.0</td>\n",
       "      <td>272.0</td>\n",
       "      <td>16.0</td>\n",
       "      <td>3649.0</td>\n",
       "      <td>235.0</td>\n",
       "      <td>231.0</td>\n",
       "      <td>128.0</td>\n",
       "      <td>6221.0</td>\n",
       "      <td>0.27</td>\n",
       "      <td>-155.0</td>\n",
       "      <td>1</td>\n",
       "      <td>32</td>\n",
       "      <td>Orange</td>\n",
       "    </tr>\n",
       "  </tbody>\n",
       "</table>\n",
       "</div>"
      ],
      "text/plain": [
       "          X1     X2   X3     X4    X5      X6     X7     X8     X9     X10  \\\n",
       "5966  2837.0  112.0  8.0  272.0  16.0  3649.0  235.0  231.0  128.0  6221.0   \n",
       "\n",
       "       X11    X12  X13  X14       Y  \n",
       "5966  0.27 -155.0    1   32  Orange  "
      ]
     },
     "execution_count": 293,
     "metadata": {},
     "output_type": "execute_result"
    }
   ],
   "source": [
    "balanced_data.loc[(balanced_data['X1'] == 2837.0) & (balanced_data['X2'] == 112.0)]"
   ]
  },
  {
   "cell_type": "code",
   "execution_count": null,
   "id": "cb7f313a",
   "metadata": {},
   "outputs": [],
   "source": []
  }
 ],
 "metadata": {
  "kernelspec": {
   "display_name": "Python 3",
   "language": "python",
   "name": "python3"
  },
  "language_info": {
   "codemirror_mode": {
    "name": "ipython",
    "version": 3
   },
   "file_extension": ".py",
   "mimetype": "text/x-python",
   "name": "python",
   "nbconvert_exporter": "python",
   "pygments_lexer": "ipython3",
   "version": "3.10.5 (tags/v3.10.5:f377153, Jun  6 2022, 16:14:13) [MSC v.1929 64 bit (AMD64)]"
  },
  "vscode": {
   "interpreter": {
    "hash": "362c3e28a184c9a10a6611ff1607a8a63416bffb2ca322aa9e6df9bfad7a3e35"
   }
  }
 },
 "nbformat": 4,
 "nbformat_minor": 5
}
