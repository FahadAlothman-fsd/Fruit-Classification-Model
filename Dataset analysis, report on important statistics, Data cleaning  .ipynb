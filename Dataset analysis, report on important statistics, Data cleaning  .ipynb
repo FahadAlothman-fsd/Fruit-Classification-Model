{
 "cells": [
  {
   "cell_type": "code",
   "execution_count": 1,
   "id": "5ff6e518",
   "metadata": {},
   "outputs": [],
   "source": [
    "import pandas as pd"
   ]
  },
  {
   "cell_type": "code",
   "execution_count": 2,
   "id": "67ad4951",
   "metadata": {},
   "outputs": [],
   "source": [
    "data = pd.read_csv('Dataset-vf.csv')"
   ]
  },
  {
   "cell_type": "code",
   "execution_count": 3,
   "id": "92916a8f",
   "metadata": {},
   "outputs": [
    {
     "name": "stdout",
     "output_type": "stream",
     "text": [
      "<class 'pandas.core.frame.DataFrame'>\n",
      "RangeIndex: 6374 entries, 0 to 6373\n",
      "Data columns (total 16 columns):\n",
      " #   Column  Non-Null Count  Dtype  \n",
      "---  ------  --------------  -----  \n",
      " 0   X1      6374 non-null   int64  \n",
      " 1   X2      5747 non-null   float64\n",
      " 2   X3      6374 non-null   int64  \n",
      " 3   X4      6374 non-null   int64  \n",
      " 4   X5      6374 non-null   int64  \n",
      " 5   X6      6374 non-null   int64  \n",
      " 6   X7      6374 non-null   int64  \n",
      " 7   X8      6374 non-null   int64  \n",
      " 8   X9      6374 non-null   int64  \n",
      " 9   X10     6374 non-null   int64  \n",
      " 10  X11     6374 non-null   float64\n",
      " 11  X12     6374 non-null   int64  \n",
      " 12  X13     6374 non-null   object \n",
      " 13  X14     6374 non-null   object \n",
      " 14  X15     631 non-null    object \n",
      " 15  Y       6374 non-null   object \n",
      "dtypes: float64(2), int64(10), object(4)\n",
      "memory usage: 796.9+ KB\n"
     ]
    }
   ],
   "source": [
    "data.info()"
   ]
  },
  {
   "cell_type": "code",
   "execution_count": null,
   "id": "03268521",
   "metadata": {},
   "outputs": [],
   "source": []
  }
 ],
 "metadata": {
  "kernelspec": {
   "display_name": "Python 3 (ipykernel)",
   "language": "python",
   "name": "python3"
  },
  "language_info": {
   "codemirror_mode": {
    "name": "ipython",
    "version": 3
   },
   "file_extension": ".py",
   "mimetype": "text/x-python",
   "name": "python",
   "nbconvert_exporter": "python",
   "pygments_lexer": "ipython3",
   "version": "3.9.7"
  }
 },
 "nbformat": 4,
 "nbformat_minor": 5
}
